{
 "cells": [
  {
   "cell_type": "markdown",
   "id": "17ca432a-1fea-488f-a808-adc7e170be16",
   "metadata": {
    "jp-MarkdownHeadingCollapsed": true
   },
   "source": [
    "# Data"
   ]
  },
  {
   "cell_type": "markdown",
   "id": "ad0f2ff7-0b28-470d-a38d-9326cdc4b9e3",
   "metadata": {},
   "source": [
    "In this jupyter notebook the necessary code to run the experiments will be found. "
   ]
  },
  {
   "cell_type": "markdown",
   "id": "91e71c20-b22a-4a57-8016-f3ba2a050a29",
   "metadata": {
    "jp-MarkdownHeadingCollapsed": true
   },
   "source": [
    "## Imports"
   ]
  },
  {
   "cell_type": "markdown",
   "id": "0e997e6b-7002-4d1a-b9f5-72204930e9d2",
   "metadata": {},
   "source": [
    "The code snippet provided sets up the environment by installing matplotlib for data visualization and scapy for packet crafting and network traffic analysis. It imports various Python libraries such as ast for processing tree-based data structures, ipaddress for handling IPv4 addresses and networks, and json for manipulating JSON data formats. The script also utilizes matplotlib for plotting and pandas for data handling to create visual representations of network data. Notably, it includes custom modules like EPHeader and MRI, presumably for enhanced packet header manipulation and Magnetic Resonance Imaging data processing within network packets, respectively. The code also initializes the fablib_manager from the fabrictestbed_extensions library, which likely facilitates interaction with a fabric testbed environment, enabling hands-on experiments with virtual network configurations and behavior."
   ]
  },
  {
   "cell_type": "code",
   "execution_count": 1,
   "id": "02668b67-f809-4a10-ab35-ba7631e348dc",
   "metadata": {
    "jupyter": {
     "source_hidden": true
    },
    "scrolled": true
   },
   "outputs": [
    {
     "name": "stdout",
     "output_type": "stream",
     "text": [
      "Requirement already satisfied: matplotlib in /opt/conda/lib/python3.11/site-packages (3.9.1)\n",
      "Requirement already satisfied: contourpy>=1.0.1 in /opt/conda/lib/python3.11/site-packages (from matplotlib) (1.2.1)\n",
      "Requirement already satisfied: cycler>=0.10 in /opt/conda/lib/python3.11/site-packages (from matplotlib) (0.12.1)\n",
      "Requirement already satisfied: fonttools>=4.22.0 in /opt/conda/lib/python3.11/site-packages (from matplotlib) (4.53.1)\n",
      "Requirement already satisfied: kiwisolver>=1.3.1 in /opt/conda/lib/python3.11/site-packages (from matplotlib) (1.4.5)\n",
      "Requirement already satisfied: numpy>=1.23 in /opt/conda/lib/python3.11/site-packages (from matplotlib) (2.0.1)\n",
      "Requirement already satisfied: packaging>=20.0 in /opt/conda/lib/python3.11/site-packages (from matplotlib) (24.0)\n",
      "Requirement already satisfied: pillow>=8 in /opt/conda/lib/python3.11/site-packages (from matplotlib) (10.4.0)\n",
      "Requirement already satisfied: pyparsing>=2.3.1 in /opt/conda/lib/python3.11/site-packages (from matplotlib) (3.1.2)\n",
      "Requirement already satisfied: python-dateutil>=2.7 in /opt/conda/lib/python3.11/site-packages (from matplotlib) (2.9.0.post0)\n",
      "Requirement already satisfied: six>=1.5 in /opt/conda/lib/python3.11/site-packages (from python-dateutil>=2.7->matplotlib) (1.16.0)\n",
      "Requirement already satisfied: scapy in /opt/conda/lib/python3.11/site-packages (2.5.0)\n"
     ]
    },
    {
     "name": "stderr",
     "output_type": "stream",
     "text": [
      "/opt/conda/lib/python3.11/site-packages/traitlets/traitlets.py:842: DeprecationWarning: Deprecated in traitlets 4.1, use the instance .metadata dictionary directly, like x.metadata[key] or x.metadata.get(key, default)\n",
      "  warn(\"Deprecated in traitlets 4.1, \" + msg, DeprecationWarning, stacklevel=2)\n"
     ]
    }
   ],
   "source": [
    "!pip install matplotlib\n",
    "!pip3 install scapy\n",
    "\n",
    "import ast\n",
    "import ipaddress\n",
    "import json\n",
    "import matplotlib.colors as mcolors\n",
    "import matplotlib.pyplot as plt\n",
    "import pandas as pd\n",
    "import re\n",
    "from fabrictestbed_extensions.fablib.fablib import FablibManager as fablib_manager\n",
    "from io import StringIO\n",
    "from ipaddress import IPv4Address, IPv4Network\n",
    "from scapy.all import *\n",
    "from time import sleep\n",
    "from utils.EPHeader import *\n",
    "from utils.MRI import *"
   ]
  },
  {
   "cell_type": "markdown",
   "id": "ed71213f-86ac-4c92-bd81-7f7650708d4f",
   "metadata": {
    "jp-MarkdownHeadingCollapsed": true
   },
   "source": [
    "## Variables, nodes and interfaces"
   ]
  },
  {
   "cell_type": "markdown",
   "id": "bb4f992e-3c4e-4b4f-8ceb-82a9f8884101",
   "metadata": {},
   "source": [
    "This Python code manages network configurations within a specified network slice named \"INT\" using the fablib library. It reads from a JSON file to retrieve MAC and IP addresses for various hosts and switches across different subnets. The script defines network parameters, including expanding subnet masks for broader network coverage. It identifies network devices and their interfaces, facilitating detailed management of connections between hosts and switches. "
   ]
  },
  {
   "cell_type": "code",
   "execution_count": 2,
   "id": "d920463f-0bf9-4a62-a610-24b825d1cf66",
   "metadata": {
    "jupyter": {
     "source_hidden": true
    }
   },
   "outputs": [],
   "source": [
    "verbose = 0\n",
    "slice_name = \"INT_ipv4\"  # Slice name\n",
    "\n",
    "fablib = fablib_manager()\n",
    "slice = fablib.get_slice(name=slice_name)\n",
    "\n",
    "file_path = './utils/network_data.json'\n",
    "\n",
    "with open(file_path, 'r') as file:\n",
    "    data = json.load(file)\n",
    "\n",
    "    # MAC\n",
    "    h1_mac = data['hosts']['h1']['mac']\n",
    "    h2_mac = data['hosts']['h2']['mac']\n",
    "    h3_mac = data['hosts']['h3']['mac']\n",
    "    h4_mac = data['hosts']['h4']['mac']\n",
    "\n",
    "    s1_mac_1 = data['switches']['s1']['macs'][0]\n",
    "    s1_mac_2 = data['switches']['s1']['macs'][1]\n",
    "    s1_mac_3 = data['switches']['s1']['macs'][2]\n",
    "    s1_mac_4 = data['switches']['s1']['macs'][3]\n",
    "\n",
    "    s2_mac_1 = data['switches']['s2']['macs'][0]\n",
    "    s2_mac_2 = data['switches']['s2']['macs'][1]\n",
    "    s2_mac_3 = data['switches']['s2']['macs'][2]\n",
    "    s2_mac_4 = data['switches']['s2']['macs'][3]\n",
    "\n",
    "    s3_mac_1 = data['switches']['s3']['macs'][0]\n",
    "    s3_mac_2 = data['switches']['s3']['macs'][1]\n",
    "    s3_mac_3 = data['switches']['s3']['macs'][2]\n",
    "    s3_mac_4 = data['switches']['s3']['macs'][3]\n",
    "\n",
    "    s4_mac_1 = data['switches']['s4']['macs'][0]\n",
    "    s4_mac_2 = data['switches']['s4']['macs'][1]\n",
    "    s4_mac_3 = data['switches']['s4']['macs'][2]\n",
    "    s4_mac_4 = data['switches']['s4']['macs'][3]\n",
    "\n",
    "    # IP\n",
    "    subnet1 = data['subnets']['subnet1']\n",
    "    h1_ip = data['hosts']['h1']['ip']\n",
    "    s1_ip = data['switches']['s1']['ip']\n",
    "\n",
    "    subnet2 = data['subnets']['subnet2']\n",
    "    h2_ip = data['hosts']['h2']['ip']\n",
    "    s2_ip = data['switches']['s2']['ip']\n",
    "    \n",
    "    subnet3 = data['subnets']['subnet3']\n",
    "    h3_ip = data['hosts']['h3']['ip']\n",
    "    s3_ip = data['switches']['s3']['ip']\n",
    "    \n",
    "    subnet4 = data['subnets']['subnet4']\n",
    "    h4_ip = data['hosts']['h4']['ip']\n",
    "    s4_ip = data['switches']['s4']['ip']\n",
    "\n",
    "network = ipaddress.IPv4Network(subnet1)\n",
    "net = network.supernet(new_prefix=16)\n",
    "\n",
    "s1 = slice.get_node(name='s1')\n",
    "s2 = slice.get_node(name='s2')\n",
    "s3 = slice.get_node(name='s3')\n",
    "s4 = slice.get_node(name='s4')\n",
    "\n",
    "h1 = slice.get_node(name='h1')\n",
    "h2 = slice.get_node(name='h2')\n",
    "h3 = slice.get_node(name='h3')\n",
    "h4 = slice.get_node(name='h4')\n",
    "\n",
    "s1_iface1_name = s1.get_interface(network_name='s1h1').get_device_name()\n",
    "s1_iface2_name = s1.get_interface(network_name='s1s2').get_device_name()\n",
    "s1_iface3_name = s1.get_interface(network_name='s1s3').get_device_name()\n",
    "s1_iface4_name = s1.get_interface(network_name='s1s4').get_device_name()\n",
    "s2_iface1_name = s2.get_interface(network_name='s1s2').get_device_name()\n",
    "s2_iface2_name = s2.get_interface(network_name='s2h2').get_device_name()\n",
    "s2_iface3_name = s2.get_interface(network_name='s2s3').get_device_name()\n",
    "s2_iface4_name = s2.get_interface(network_name='s2s4').get_device_name()\n",
    "s3_iface1_name = s3.get_interface(network_name='s1s3').get_device_name()\n",
    "s3_iface2_name = s3.get_interface(network_name='s2s3').get_device_name()\n",
    "s3_iface3_name = s3.get_interface(network_name='s3h3').get_device_name()\n",
    "s3_iface4_name = s3.get_interface(network_name='s3s4').get_device_name()\n",
    "s4_iface1_name = s4.get_interface(network_name='s1s4').get_device_name()\n",
    "s4_iface2_name = s4.get_interface(network_name='s2s4').get_device_name()\n",
    "s4_iface3_name = s4.get_interface(network_name='s3s4').get_device_name()\n",
    "s4_iface4_name = s4.get_interface(network_name='s4h4').get_device_name()\n",
    "h1_iface0_name = h1.get_interface(network_name='s1h1').get_device_name()\n",
    "h2_iface0_name = h2.get_interface(network_name='s2h2').get_device_name()\n",
    "h3_iface0_name = h3.get_interface(network_name='s3h3').get_device_name()\n",
    "h4_iface0_name = h4.get_interface(network_name='s4h4').get_device_name()"
   ]
  },
  {
   "cell_type": "code",
   "execution_count": 3,
   "id": "d39d4f2d-3ef6-4adb-a3ca-34f0af8486fe",
   "metadata": {
    "jupyter": {
     "source_hidden": true
    }
   },
   "outputs": [
    {
     "name": "stdout",
     "output_type": "stream",
     "text": [
      "s1\n",
      "s2\n",
      "h1\n",
      "h2\n"
     ]
    }
   ],
   "source": [
    "stdout, stderr = s1.execute(\"sudo apt install -y python3-pip\", quiet=True)\n",
    "print(\"s1\")\n",
    "stdout, stderr = s2.execute(\"sudo apt install -y python3-pip\", quiet=True)\n",
    "print(\"s2\")\n",
    "stdout, stderr = h1.execute(\"sudo apt install -y python3-pip\", quiet=True)\n",
    "print(\"h1\")\n",
    "stdout, stderr = h2.execute(\"sudo apt install -y python3-pip\", quiet=True)\n",
    "print(\"h2\")"
   ]
  },
  {
   "cell_type": "code",
   "execution_count": 4,
   "id": "8a7d950a-abcc-452f-b383-261d2d42faf4",
   "metadata": {
    "jupyter": {
     "source_hidden": true
    }
   },
   "outputs": [
    {
     "name": "stdout",
     "output_type": "stream",
     "text": [
      "s1\n",
      "s2\n",
      "h1\n",
      "h2\n"
     ]
    }
   ],
   "source": [
    "stdout, stderr = s1.execute(\"sudo pip3 install pandas\", quiet=True)\n",
    "print(\"s1\")\n",
    "stdout, stderr = s2.execute(\"sudo pip3 install pandas\", quiet=True)\n",
    "print(\"s2\")\n",
    "stdout, stderr = h1.execute(\"sudo pip3 install pandas\", quiet=True)\n",
    "print(\"h1\")\n",
    "stdout, stderr = h2.execute(\"sudo pip3 install pandas\", quiet=True)\n",
    "print(\"h2\")"
   ]
  },
  {
   "cell_type": "code",
   "execution_count": 5,
   "id": "59b0314c-9354-49b2-9f33-b5bd40150161",
   "metadata": {},
   "outputs": [
    {
     "name": "stdout",
     "output_type": "stream",
     "text": [
      "h1\n",
      "h2\n"
     ]
    }
   ],
   "source": [
    "stdout, stderr = h1.execute(\"sudo apt install -y iperf3\", quiet=True)\n",
    "print(\"h1\")\n",
    "stdout, stderr = h2.execute(\"sudo apt install -y iperf3\", quiet=True)\n",
    "print(\"h2\")"
   ]
  },
  {
   "cell_type": "code",
   "execution_count": 6,
   "id": "120024a7-fd4d-4b79-a064-4d521030496f",
   "metadata": {
    "jupyter": {
     "source_hidden": true
    }
   },
   "outputs": [],
   "source": [
    "stdout, stderr = h1.execute(\"sudo apt-get update\", quiet=True)\n",
    "stdout, stderr = h1.execute(\"sudo apt-get install ntp\", quiet=True)\n",
    "stdout, stderr = h1.execute(\"sudo systemctl restart ntp\", quiet=True)\n",
    "\n",
    "stdout, stderr = h2.execute(\"sudo apt-get update\", quiet=True)\n",
    "stdout, stderr = h2.execute(\"sudo apt-get install ntp\", quiet=True)\n",
    "stdout, stderr = h2.execute(\"sudo systemctl restart ntp\", quiet=True)\n",
    "\n",
    "stdout, stderr = s1.execute(\"sudo apt-get update\", quiet=True)\n",
    "stdout, stderr = s1.execute(\"sudo apt-get install ntp\", quiet=True)\n",
    "stdout, stderr = s1.execute(\"sudo systemctl restart ntp\", quiet=True)\n",
    "\n",
    "stdout, stderr = s2.execute(\"sudo apt-get update\", quiet=True)\n",
    "stdout, stderr = s2.execute(\"sudo apt-get install ntp\", quiet=True)\n",
    "stdout, stderr = s2.execute(\"sudo systemctl restart ntp\", quiet=True)"
   ]
  },
  {
   "cell_type": "markdown",
   "id": "eb6f61e0-f5c5-4d64-95e6-02ef6a9c295b",
   "metadata": {
    "jp-MarkdownHeadingCollapsed": true
   },
   "source": [
    "## Experiments preparation"
   ]
  },
  {
   "cell_type": "markdown",
   "id": "58d3e70d-5081-4846-9b19-ef93be74ed26",
   "metadata": {},
   "source": [
    "The code used in each of the experiments is outlined below. Initially, the necessary files will be transferred to the nodes. Once the files are in place, the experiment can commence. The experiment involves three main steps:\n",
    "\n",
    "- Data Collection: Execute specific files to gather initial information from the nodes.\n",
    "- Traffic Generation: Launch the corresponding network traffic based on the experiment's requirements.\n",
    "- Data Processing and Storage: Process the extracted data from the configuration files and save the results in CSV format.\n",
    "  \n",
    "By following these steps, we ensure a structured approach to conducting the experiments, capturing relevant data, and organizing the results for analysis."
   ]
  },
  {
   "cell_type": "markdown",
   "id": "cb50ebce-45ef-446c-bfe7-58ed5f3db48b",
   "metadata": {},
   "source": [
    "### Upload packets"
   ]
  },
  {
   "cell_type": "markdown",
   "id": "8b3ef7c3-0b6d-48f8-83ef-9e5bf3c1dffc",
   "metadata": {},
   "source": [
    "This Python code imports the Uploader class from a module named utils.uploader and creates an instance of the Uploader class, assigning it to the variable up. This instance can now be used to upload the file (second argument) to the node (first argument)."
   ]
  },
  {
   "cell_type": "code",
   "execution_count": 7,
   "id": "36d4896a-e6e4-4fec-9cfa-7a3067f0bd96",
   "metadata": {},
   "outputs": [],
   "source": [
    "from utils.uploader import Uploader\n",
    "up = Uploader()"
   ]
  },
  {
   "cell_type": "markdown",
   "id": "f2a50871-77b4-4b5f-88c5-3883a9d32a2f",
   "metadata": {},
   "source": [
    "In the following code we are going to upload to each one of the nodes a python script called \"nPackets.py\". This Python script utilizes the Scapy library to analyze packet capture files (.pcap) for network diagnostics. It reads a specified pcap file and extracts packets based on specific protocols—UDP and a custom protocol indicated by TYPE_EPHeader. For each protocol type, the script computes statistics such as the total number of packets, minimum, average, and maximum packet sizes. These statistics are generated for both UDP packets and packets matching the custom protocol, providing insight into the traffic characteristics of each. The script is designed for command-line execution with the pcap file path as an argument, making it suitable for automated network analysis tasks. "
   ]
  },
  {
   "cell_type": "code",
   "execution_count": 8,
   "id": "ff43bf3a-9037-48b7-8913-e956edb17641",
   "metadata": {},
   "outputs": [
    {
     "name": "stdout",
     "output_type": "stream",
     "text": [
      "scp -i /home/fabric/work/fabric_config/slice_key -F /home/fabric/work/fabric_config/ssh_config ./graphs/nPackets.py ubuntu@[2001:468:c00:ffc4:f816:3eff:fe4d:fb96]:~\n",
      "scp -i /home/fabric/work/fabric_config/slice_key -F /home/fabric/work/fabric_config/ssh_config ./graphs/nPackets.py ubuntu@[2607:f018:110:11:f816:3eff:fedb:f04c]:~\n",
      "scp -i /home/fabric/work/fabric_config/slice_key -F /home/fabric/work/fabric_config/ssh_config ./graphs/nPackets.py ubuntu@[2001:468:c00:ffc4:f816:3eff:fe7f:f0de]:~\n",
      "scp -i /home/fabric/work/fabric_config/slice_key -F /home/fabric/work/fabric_config/ssh_config ./graphs/nPackets.py ubuntu@[2607:f018:110:11:f816:3eff:fe89:f4fe]:~\n"
     ]
    }
   ],
   "source": [
    "up.upload(\"h1\", \"./graphs/nPackets.py\")\n",
    "up.upload(\"h2\", \"./graphs/nPackets.py\")\n",
    "up.upload(\"s1\", \"./graphs/nPackets.py\")\n",
    "up.upload(\"s2\", \"./graphs/nPackets.py\")"
   ]
  },
  {
   "cell_type": "markdown",
   "id": "485dab36-b227-4f54-ba90-366f47a97d21",
   "metadata": {},
   "source": [
    "In the following code we are going to upload to \"h1\" a python script called \"BgT_iperf.py\".The Python script serves as a command-line tool to facilitate network performance testing using the iperf3 utility in client mode with UDP packets. It accepts three parameters: the destination server address, the test duration in seconds, and the number of parallel client threads, all of which are managed through argparse for command-line integration. The script constructs an iperf3 command with these parameters and executes it, capturing the output in JSON format for detailed performance analysis. This output is then printed to the console, and the script ensures the buffer is flushed immediately for real-time result viewing."
   ]
  },
  {
   "cell_type": "code",
   "execution_count": 9,
   "id": "c801115f-d307-4ff8-8406-fab4ba3abb1a",
   "metadata": {},
   "outputs": [
    {
     "name": "stdout",
     "output_type": "stream",
     "text": [
      "scp -i /home/fabric/work/fabric_config/slice_key -F /home/fabric/work/fabric_config/ssh_config ./graphs/BgT_iperf.py ubuntu@[2001:468:c00:ffc4:f816:3eff:fe4d:fb96]:~\n"
     ]
    }
   ],
   "source": [
    "up.upload(\"h1\", \"./graphs/BgT_iperf.py\")"
   ]
  },
  {
   "cell_type": "markdown",
   "id": "5bf8c954-e839-4238-abca-d2489c5a7216",
   "metadata": {},
   "source": [
    "In the following code we are going to upload to \"h2\" a python script called \"receive.py\".The Python script uses the Scapy library to monitor and analyze network packets tailored to a custom protocol. It selects a network interface, specifically looking for \"enp7s0\", and defines custom packet structures, including `EPHeader` and `SwitchTrace`, to handle specialized network data. The script captures packets on the specified interface that contain a unique protocol identifier, converting captured packets to hexadecimal for analysis and logging them to a pcap file."
   ]
  },
  {
   "cell_type": "code",
   "execution_count": 10,
   "id": "a033aa16-8df8-47fa-b9ba-11bed496d4f0",
   "metadata": {},
   "outputs": [
    {
     "name": "stdout",
     "output_type": "stream",
     "text": [
      "scp -i /home/fabric/work/fabric_config/slice_key -F /home/fabric/work/fabric_config/ssh_config ./graphs/receive.py ubuntu@[2607:f018:110:11:f816:3eff:fedb:f04c]:~\n"
     ]
    }
   ],
   "source": [
    "up.upload(\"h2\", \"./graphs/receive.py\")"
   ]
  },
  {
   "cell_type": "markdown",
   "id": "90e616a1-9ed4-4d08-b3c2-1bb7d3e8b784",
   "metadata": {},
   "source": [
    "In the following code we are going to upload to \"h1\" a python script called \"sendPackets.py\". This Python script leverages the Scapy library to create and transmit custom network packets for testing purposes. The script constructs packets comprising Ethernet and IP layers, including a specialized EPHeader and an IPOption_MRI for multipath routing information. Each packet is populated with predefined values and sent in a loop based on user input, with a one-second delay between transmissions."
   ]
  },
  {
   "cell_type": "code",
   "execution_count": 11,
   "id": "bd5a85d7-3f94-480b-9e1a-f471a0a5bc58",
   "metadata": {},
   "outputs": [
    {
     "name": "stdout",
     "output_type": "stream",
     "text": [
      "scp -i /home/fabric/work/fabric_config/slice_key -F /home/fabric/work/fabric_config/ssh_config ./graphs/sendPacket.py ubuntu@[2001:468:c00:ffc4:f816:3eff:fe4d:fb96]:~\n"
     ]
    }
   ],
   "source": [
    "up.upload(\"h1\", \"./graphs/sendPacket.py\")"
   ]
  },
  {
   "cell_type": "markdown",
   "id": "546280d4-649b-4a9b-bea3-0d21cd8358a5",
   "metadata": {
    "jp-MarkdownHeadingCollapsed": true
   },
   "source": [
    "## Experiments execution"
   ]
  },
  {
   "cell_type": "markdown",
   "id": "19ea0a5f-083e-430c-a523-7a3517a723d1",
   "metadata": {
    "jp-MarkdownHeadingCollapsed": true
   },
   "source": [
    "### Experiments 1-8 "
   ]
  },
  {
   "cell_type": "code",
   "execution_count": 12,
   "id": "a88ce60b-f072-40d2-96ec-89db1e9fb684",
   "metadata": {},
   "outputs": [
    {
     "name": "stdout",
     "output_type": "stream",
     "text": [
      "Obtaining JSON from switch...\n",
      "Done\n",
      "Control utility for runtime P4 table manipulation\n",
      "RuntimeCmd: RuntimeCmd: RuntimeCmd: \n",
      "Obtaining JSON from switch...\n",
      "Done\n",
      "Control utility for runtime P4 table manipulation\n",
      "RuntimeCmd: RuntimeCmd: RuntimeCmd: \n"
     ]
    },
    {
     "data": {
      "text/plain": [
       "('Obtaining JSON from switch...\\nDone\\nControl utility for runtime P4 table manipulation\\nRuntimeCmd: RuntimeCmd: RuntimeCmd: \\n',\n",
       " '')"
      ]
     },
     "execution_count": 12,
     "metadata": {},
     "output_type": "execute_result"
    }
   ],
   "source": [
    "s1.execute(\"simple_switch_CLI <<< $'set_queue_rate 50\\nset_queue_depth 100'\")\n",
    "s2.execute(\"simple_switch_CLI <<< $'set_queue_rate 50\\nset_queue_depth 100'\")"
   ]
  },
  {
   "cell_type": "markdown",
   "id": "bb9f0f86-ea0c-4164-b078-46904443cbc8",
   "metadata": {
    "jp-MarkdownHeadingCollapsed": true
   },
   "source": [
    "#### Experiment 1 "
   ]
  },
  {
   "cell_type": "markdown",
   "id": "240306e3-dbcf-4521-ab3d-a049a1f89c9d",
   "metadata": {},
   "source": [
    "To execute this experiment, we need to set the \"set_queue_depth\" value for the switches to 100 and the \"set_queue_rate\" to 50. A single thread of traffic will be sent using iperf for a duration of 15 seconds. Below, you can see an image depicting the traffic that will be sent. "
   ]
  },
  {
   "attachments": {
    "c7bf3718-b360-4e69-ac94-998cb1e213ba.jpg": {
     "image/jpeg": "[encoded data removed]"
    }
   },
   "cell_type": "markdown",
   "id": "7a2a5845-04fc-4f07-810d-468c38a67c96",
   "metadata": {},
   "source": [
    "![exp1X.jpg](attachment:c7bf3718-b360-4e69-ac94-998cb1e213ba.jpg)"
   ]
  },
  {
   "attachments": {},
   "cell_type": "markdown",
   "id": "9d7cf196-09e1-4ce0-9212-c8c3bf061fe2",
   "metadata": {},
   "source": [
    "In the code snippet, three variables are set up for a configuration or script that appears to be preparing for a network performance testing scenario:\n",
    "\n",
    "- experimentNumber: This variable likely indicates a identifier for the experiment.\n",
    "\n",
    "- tiperf: This variable specifies the duration in seconds for the iperf3 command. \n",
    "\n",
    "- nthreads: This variable defines the number of parallel client threads to be used in the test. \n",
    "\n",
    "These variables are essential for controlling the parameters of a network testing session, allowing for precise adjustments to the testing environment based on the needs of the experiment or the specifics of the network being tested."
   ]
  },
  {
   "cell_type": "code",
   "execution_count": 13,
   "id": "ec2df518-4357-4071-8442-c23bff3b9d0f",
   "metadata": {},
   "outputs": [],
   "source": [
    "experimentNumber = 1\n",
    "tiperf = 15\n",
    "nthreads = 1"
   ]
  },
  {
   "cell_type": "markdown",
   "id": "c3e8e9a8-5493-42fa-a302-14ee3f380963",
   "metadata": {},
   "source": [
    "The first line executes a command to terminate all iperf3 processes silently in h2, while the second line does the same for all Python 3 instances, capturing any output or errors into stdout and stderr respectively. "
   ]
  },
  {
   "cell_type": "code",
   "execution_count": 14,
   "id": "4c9323fb-48f3-471b-8487-963212724d4b",
   "metadata": {},
   "outputs": [],
   "source": [
    "#h2.execute(\"sudo killall iperf3\", quiet=True)\n",
    "stdout, stderr = h2.execute(\"sudo killall python3\", quiet=True)"
   ]
  },
  {
   "cell_type": "markdown",
   "id": "4c5bafb5-dba6-4fb5-b0c9-e907667e1307",
   "metadata": {},
   "source": [
    "The Python code snippet launches an iperf3 server instance on \"h2\" in a separate thread. This is accomplished using a method called execute_thread, which likely allows the iperf3 -s command (indicating server mode) to run asynchronously, ensuring that the main program can continue executing other tasks without waiting for the iperf3 server process to finish."
   ]
  },
  {
   "cell_type": "code",
   "execution_count": 15,
   "id": "3e9d61fc-702c-4515-8e71-533a2ec6c556",
   "metadata": {},
   "outputs": [],
   "source": [
    "#iperf2 = h2.execute_thread(f\"iperf3 -s\")"
   ]
  },
  {
   "cell_type": "markdown",
   "id": "ece78cff-b467-4c18-b9fc-6d255b30697e",
   "metadata": {},
   "source": [
    "The Python code snippet launches a script named receive.py on \"h2\" using elevated privileges (sudo). The script is run asynchronously in a separate thread by the method execute_thread, allowing the main program to continue its execution without waiting for receive.py to complete."
   ]
  },
  {
   "cell_type": "code",
   "execution_count": 16,
   "id": "725b1a40-61ac-47a7-aba1-810205b54735",
   "metadata": {},
   "outputs": [],
   "source": [
    "mriPacket_receive = h2.execute_thread(f\"sudo python3 receive.py\")"
   ]
  },
  {
   "cell_type": "markdown",
   "id": "ce0b6f72-57d7-4573-8ac1-c4ed499dcd78",
   "metadata": {},
   "source": [
    "The following cell orchestrates parallel network traffic captures across multiple devices—two hosts and two switches—using `tcpdump`, a command-line packet analyzer. Commands are executed asynchronously in separate threads to prevent blocking, enabling simultaneous captures on specified network interfaces for each device. For hosts `h1` and `h2`, and switches `s1` and `s2`, traffic is recorded on their respective interfaces, with each session outputting to a dedicated pcap file."
   ]
  },
  {
   "cell_type": "code",
   "execution_count": 17,
   "id": "fb5e01e4-c004-40e4-8e85-46a0ee233f2d",
   "metadata": {},
   "outputs": [
    {
     "name": "stdout",
     "output_type": "stream",
     "text": [
      "hosts\n",
      "s1\n",
      "s2\n"
     ]
    }
   ],
   "source": [
    "h1.execute_thread(f\"sudo tcpdump -i {h1_iface0_name} -w h1_0.pcap\")\n",
    "h2.execute_thread(f\"sudo tcpdump -i {h2_iface0_name} -w h2_0.pcap\")\n",
    "print(\"hosts\")\n",
    "s1.execute_thread(f\"sudo tcpdump -i {s1_iface1_name} -w s1_1.pcap\")\n",
    "s1.execute_thread(f\"sudo tcpdump -i {s1_iface2_name} -w s1_2.pcap\")\n",
    "print(\"s1\")\n",
    "s2.execute_thread(f\"sudo tcpdump -i {s2_iface1_name} -w s2_1.pcap\")\n",
    "s2.execute_thread(f\"sudo tcpdump -i {s2_iface2_name} -w s2_2.pcap\")\n",
    "print(\"s2\")"
   ]
  },
  {
   "cell_type": "markdown",
   "id": "2f7117c8-b695-4a6d-9102-a1b8462a7e84",
   "metadata": {},
   "source": [
    "The code snippet initiates an asynchronous task on the host \"h1\" to execute a Python script named \"sendPacket.py\" using elevated privileges (`sudo`). This script send packets by passing three arguments: `1`, `2`, and `30`. The first one is represents the host that is sending the packet. The second argument, in this case \"2\", is the host destination. And the last argument represents the number of packes that are going to send."
   ]
  },
  {
   "cell_type": "code",
   "execution_count": 18,
   "id": "b103f927-6a92-4d91-bdda-6cd44a87462d",
   "metadata": {},
   "outputs": [],
   "source": [
    "mriPacket_send = h1.execute_thread(f\"sudo python3 sendPacket.py 1 2 30\")"
   ]
  },
  {
   "cell_type": "markdown",
   "id": "e4198c2a-0de0-4229-90bd-682ed45b10b9",
   "metadata": {},
   "source": [
    "The sleep(10) function call in your code causes the program to pause or delay its execution for 10 seconds. "
   ]
  },
  {
   "cell_type": "code",
   "execution_count": 19,
   "id": "74171cb6-8957-4a8f-b56f-8375ed3282bf",
   "metadata": {},
   "outputs": [],
   "source": [
    "sleep(10)"
   ]
  },
  {
   "cell_type": "markdown",
   "id": "65605ccb-09d2-413a-be6e-71e3ab650ac8",
   "metadata": {},
   "source": [
    "The Python code snippet runs a script named \"BgT_iperf.py\" on the host \"h1\", passing three arguments: h2_ip, tiperf, and nthreads. \"h2_ip\" represents the ip of the destination host. \"tiperf\" id the duration of the test in seconds, specified by the tiperf variable. Finally \"nthreads\" is the number of parallel client threads to use during the iperf test, specified by the nthreads variable."
   ]
  },
  {
   "cell_type": "code",
   "execution_count": 20,
   "id": "26d4a8fa-dc05-427f-b3fd-0599ce3049d1",
   "metadata": {
    "scrolled": true
   },
   "outputs": [],
   "source": [
    "iperf_h1 = h1.execute(f\"python3 BgT_iperf.py {h2_ip} {tiperf} {nthreads}\",quiet=True)"
   ]
  },
  {
   "cell_type": "markdown",
   "id": "bf12c7bb-cef9-443e-acfc-fbad2e421ebd",
   "metadata": {},
   "source": [
    "The sleep(10) function call in your code causes the program to pause or delay its execution for 10 seconds. "
   ]
  },
  {
   "cell_type": "code",
   "execution_count": 21,
   "id": "6b1921a6-b699-4140-a4a9-a6f56fee8188",
   "metadata": {},
   "outputs": [],
   "source": [
    "sleep(10)"
   ]
  },
  {
   "cell_type": "markdown",
   "id": "80db4786-c794-4dfa-9f53-dbe774e75dc5",
   "metadata": {},
   "source": [
    "The code snippet processes the JSON output from an iperf network test, formats it for readability, and saves it to a file. It begins by parsing the JSON output stored in iperf_h1[0] into a Python dictionary. Then, it converts this dictionary back into a JSON-formatted string with indentation for clarity. Finally, it writes this formatted JSON data to a file named according to the experiment number, ensuring the results are neatly saved and organized."
   ]
  },
  {
   "cell_type": "code",
   "execution_count": 22,
   "id": "73276184-803c-48d8-86d4-027d5af763c9",
   "metadata": {},
   "outputs": [],
   "source": [
    "data_dict = json.loads(iperf_h1[0])\n",
    "json_data = json.dumps(data_dict, indent=4)\n",
    "with open(f'./graphs/data/exp{experimentNumber}.json', 'w') as file:\n",
    "    file.write(json_data)"
   ]
  },
  {
   "cell_type": "markdown",
   "id": "74f52376-e78a-41fa-8e97-e9f89936b8f8",
   "metadata": {},
   "source": [
    "The code snippet processes the output of the receive.py program, formats it for readability, and saves it to a file. "
   ]
  },
  {
   "cell_type": "code",
   "execution_count": 23,
   "id": "d481bd0d-5a50-491e-a8e4-880955bdda61",
   "metadata": {},
   "outputs": [],
   "source": [
    "stdout, stderr = h2.execute(\"sudo killall python3\", quiet=True)\n",
    "hex_list = mriPacket_receive.result()[0].split('\\n')[1:-1]\n",
    "df = pd.DataFrame(hex_list, columns=['Values'])\n",
    "df.to_csv(f'./graphs/data/exp{experimentNumber}.csv', index=False)"
   ]
  },
  {
   "cell_type": "markdown",
   "id": "458609f9-53b4-4f53-bd2e-35abf5eec101",
   "metadata": {},
   "source": [
    "The following lines executes a command to terminate all tcpdump processes silently in all the nodes of the experiment. "
   ]
  },
  {
   "cell_type": "code",
   "execution_count": 24,
   "id": "41212524-353f-46d7-80c1-433c3347414f",
   "metadata": {},
   "outputs": [],
   "source": [
    "stdout, stderr = h1.execute(\"sudo killall tcpdump\", quiet=True)\n",
    "stdout, stderr = h2.execute(\"sudo killall tcpdump\", quiet=True)\n",
    "stdout, stderr = s1.execute(\"sudo killall tcpdump\", quiet=True)\n",
    "stdout, stderr = s2.execute(\"sudo killall tcpdump\", quiet=True)"
   ]
  },
  {
   "cell_type": "markdown",
   "id": "4773c1ee-75a9-4c3b-9678-4eaee90108fe",
   "metadata": {},
   "source": [
    "The following code process the pcap output of each of the tcpdump commands and extract the values of the number of packets of each type and the size of bytes."
   ]
  },
  {
   "cell_type": "code",
   "execution_count": 25,
   "id": "d6223c26-79a7-4297-ba28-e6886aed0d2c",
   "metadata": {
    "collapsed": true,
    "jupyter": {
     "outputs_hidden": true
    },
    "scrolled": true
   },
   "outputs": [
    {
     "name": "stdout",
     "output_type": "stream",
     "text": [
      "[[29, 65, 65.0, 65], [1360, 46, 1487.8838235294118, 1490]]\n",
      "[[26, 81, 81.0, 81], [840, 46, 1486.5738095238096, 1490]]\n",
      "hosts\n",
      "[[29, 65, 65.0, 65], [1360, 56, 1487.8911764705883, 1490]]\n",
      "[[25, 73, 73.0, 73], [840, 56, 1486.5857142857142, 1490]]\n",
      "s1\n",
      "[[25, 73, 73.0, 73], [840, 56, 1486.5857142857142, 1490]]\n",
      "[[26, 81, 81.0, 81], [840, 56, 1486.5857142857142, 1490]]\n",
      "s2\n"
     ]
    }
   ],
   "source": [
    "h1_0 = h1.execute(\"sudo python3 nPackets.py h1_0.pcap\")\n",
    "h2_0 = h2.execute(\"sudo python3 nPackets.py h2_0.pcap\")\n",
    "print(\"hosts\")\n",
    "s1_1 = s1.execute(\"sudo python3 nPackets.py s1_1.pcap\")\n",
    "s1_2 = s1.execute(\"sudo python3 nPackets.py s1_2.pcap\")\n",
    "print(\"s1\")\n",
    "s2_1 = s2.execute(\"sudo python3 nPackets.py s2_1.pcap\")\n",
    "s2_2 = s2.execute(\"sudo python3 nPackets.py s2_2.pcap\")\n",
    "print(\"s2\")"
   ]
  },
  {
   "cell_type": "markdown",
   "id": "20367768-cbde-4876-90c8-ece7dbea8e37",
   "metadata": {},
   "source": [
    "In the following code we are going to take the outputs of the cell above and store them in a pandas dataframe. "
   ]
  },
  {
   "cell_type": "code",
   "execution_count": 26,
   "id": "b502534b-09a0-4f29-af10-6adcab20a78a",
   "metadata": {
    "jupyter": {
     "source_hidden": true
    }
   },
   "outputs": [],
   "source": [
    "array_string = h1_0[0].strip()\n",
    "data = json.loads(array_string)\n",
    "dataframeh1_0 = pd.DataFrame(data).T\n",
    "dataframeh1_0.columns = ['h1_MRI', 'h1_iperf']\n",
    "\n",
    "array_string = h2_0[0].strip()\n",
    "data = json.loads(array_string)\n",
    "dataframeh2_0 = pd.DataFrame(data).T\n",
    "dataframeh2_0.columns = ['h2_MRI', 'h2_iperf']\n",
    "\n",
    "dataframe_hosts = pd.concat([dataframeh1_0, dataframeh2_0], axis=1)\n",
    "\n",
    "array_string = s1_1[0].strip()\n",
    "data = json.loads(array_string)\n",
    "dataframes1_1 = pd.DataFrame(data).T\n",
    "dataframes1_1.columns = ['s11_MRI', 's11_iperf']\n",
    "\n",
    "array_string = s1_2[0].strip()\n",
    "data = json.loads(array_string)\n",
    "dataframes1_2 = pd.DataFrame(data).T\n",
    "dataframes1_2.columns = ['s12_MRI', 's12_iperf']\n",
    "\n",
    "dataframe_s1 = pd.concat([dataframes1_1, dataframes1_2], axis=1)\n",
    "\n",
    "array_string = s2_1[0].strip()\n",
    "data = json.loads(array_string)\n",
    "dataframes2_1 = pd.DataFrame(data).T\n",
    "dataframes2_1.columns = ['s21_MRI', 's21_iperf']\n",
    "\n",
    "array_string = s2_2[0].strip()\n",
    "data = json.loads(array_string)\n",
    "dataframes2_2 = pd.DataFrame(data).T\n",
    "dataframes2_2.columns = ['s22_MRI', 's22_iperf']\n",
    "\n",
    "dataframe_s2 = pd.concat([dataframes2_1, dataframes2_2], axis=1)"
   ]
  },
  {
   "cell_type": "markdown",
   "id": "cdfd6e97-ad20-45ac-b9a3-ef8ecc9ffe60",
   "metadata": {},
   "source": [
    "The code snippet saves data from three different DataFrames to CSV files, organizing the results of an experiment based on the experimentNumber variable."
   ]
  },
  {
   "cell_type": "code",
   "execution_count": 27,
   "id": "27ab9912-e65a-4a32-8dbf-63bdbeab87b8",
   "metadata": {},
   "outputs": [],
   "source": [
    "dataframe_hosts.to_csv(f'./graphs/data/exp{experimentNumber}_nH.csv', index=False)\n",
    "dataframe_s1.to_csv(f'./graphs/data/exp{experimentNumber}_nS1.csv', index=False)\n",
    "dataframe_s2.to_csv(f'./graphs/data/exp{experimentNumber}_nS2.csv', index=False)"
   ]
  },
  {
   "cell_type": "markdown",
   "id": "167a84fe",
   "metadata": {
    "jp-MarkdownHeadingCollapsed": true
   },
   "source": [
    "#### Experiment 2"
   ]
  },
  {
   "cell_type": "markdown",
   "id": "1b30267c",
   "metadata": {},
   "source": [
    "To execute this experiment, we need to set the \"set_queue_depth\" value for the switches to 100 and the \"set_queue_rate\" to 50. Two threads of traffic will be sent using iperf for a duration of 15 seconds. Below, you can see an image depicting the traffic that will be sent. "
   ]
  },
  {
   "attachments": {
    "8894d5ef-abb4-44dc-b159-963e1daaa1d0.jpg": {
     "image/jpeg": "[encoded data removed]"
    }
   },
   "cell_type": "markdown",
   "id": "b2fe4b5d",
   "metadata": {},
   "source": [
    "![exp2X.jpg](attachment:8894d5ef-abb4-44dc-b159-963e1daaa1d0.jpg)"
   ]
  },
  {
   "cell_type": "markdown",
   "id": "3054ab5e",
   "metadata": {},
   "source": [
    "In the code snippet, three variables are set up for a configuration or script that appears to be preparing for a network performance testing scenario:\n",
    "\n",
    "- experimentNumber: This variable likely indicates a identifier for the experiment.\n",
    "\n",
    "- tiperf: This variable specifies the duration in seconds for the iperf3 command. \n",
    "\n",
    "- nthreads: This variable defines the number of parallel client threads to be used in the test. \n",
    "\n",
    "These variables are essential for controlling the parameters of a network testing session, allowing for precise adjustments to the testing environment based on the needs of the experiment or the specifics of the network being tested."
   ]
  },
  {
   "cell_type": "code",
   "execution_count": 28,
   "id": "9c9ac2a0",
   "metadata": {},
   "outputs": [],
   "source": [
    "experimentNumber = 2\n",
    "tiperf = 15\n",
    "nthreads = 2"
   ]
  },
  {
   "cell_type": "markdown",
   "id": "cf0e0d63",
   "metadata": {},
   "source": [
    "The first line executes a command to terminate all iperf3 processes silently in h2, while the second line does the same for all Python 3 instances, capturing any output or errors into stdout and stderr respectively. "
   ]
  },
  {
   "cell_type": "code",
   "execution_count": 29,
   "id": "3fc93cb2",
   "metadata": {},
   "outputs": [],
   "source": [
    "#h2.execute(\"sudo killall iperf3\", quiet=True)\n",
    "stdout, stderr = h2.execute(\"sudo killall python3\", quiet=True)"
   ]
  },
  {
   "cell_type": "markdown",
   "id": "31f5627c",
   "metadata": {},
   "source": [
    "The Python code snippet launches an iperf3 server instance on \"h2\" in a separate thread. This is accomplished using a method called execute_thread, which likely allows the iperf3 -s command (indicating server mode) to run asynchronously, ensuring that the main program can continue executing other tasks without waiting for the iperf3 server process to finish."
   ]
  },
  {
   "cell_type": "code",
   "execution_count": 30,
   "id": "b4a5ef33",
   "metadata": {},
   "outputs": [],
   "source": [
    "#iperf2 = h2.execute_thread(f\"iperf3 -s\")"
   ]
  },
  {
   "cell_type": "markdown",
   "id": "5d559fd3",
   "metadata": {},
   "source": [
    "The Python code snippet launches a script named receive.py on \"h2\" using elevated privileges (sudo). The script is run asynchronously in a separate thread by the method execute_thread, allowing the main program to continue its execution without waiting for receive.py to complete."
   ]
  },
  {
   "cell_type": "code",
   "execution_count": 31,
   "id": "8879c2af",
   "metadata": {},
   "outputs": [],
   "source": [
    "mriPacket_receive = h2.execute_thread(f\"sudo python3 receive.py\")"
   ]
  },
  {
   "cell_type": "markdown",
   "id": "61617e38",
   "metadata": {},
   "source": [
    "The following cell orchestrates parallel network traffic captures across multiple devices—two hosts and two switches—using `tcpdump`, a command-line packet analyzer. Commands are executed asynchronously in separate threads to prevent blocking, enabling simultaneous captures on specified network interfaces for each device. For hosts `h1` and `h2`, and switches `s1` and `s2`, traffic is recorded on their respective interfaces, with each session outputting to a dedicated pcap file."
   ]
  },
  {
   "cell_type": "code",
   "execution_count": 32,
   "id": "73473878",
   "metadata": {},
   "outputs": [
    {
     "name": "stdout",
     "output_type": "stream",
     "text": [
      "hosts\n",
      "s1\n",
      "s2\n"
     ]
    }
   ],
   "source": [
    "h1.execute_thread(f\"sudo tcpdump -i {h1_iface0_name} -w h1_0.pcap\")\n",
    "h2.execute_thread(f\"sudo tcpdump -i {h2_iface0_name} -w h2_0.pcap\")\n",
    "print(\"hosts\")\n",
    "s1.execute_thread(f\"sudo tcpdump -i {s1_iface1_name} -w s1_1.pcap\")\n",
    "s1.execute_thread(f\"sudo tcpdump -i {s1_iface2_name} -w s1_2.pcap\")\n",
    "print(\"s1\")\n",
    "s2.execute_thread(f\"sudo tcpdump -i {s2_iface1_name} -w s2_1.pcap\")\n",
    "s2.execute_thread(f\"sudo tcpdump -i {s2_iface2_name} -w s2_2.pcap\")\n",
    "print(\"s2\")"
   ]
  },
  {
   "cell_type": "markdown",
   "id": "283d3c83",
   "metadata": {},
   "source": [
    "The code snippet initiates an asynchronous task on the host \"h1\" to execute a Python script named \"sendPacket.py\" using elevated privileges (`sudo`). This script send packets by passing three arguments: `1`, `2`, and `30`. The first one is represents the host that is sending the packet. The second argument, in this case \"2\", is the host destination. And the last argument represents the number of packes that are going to send."
   ]
  },
  {
   "cell_type": "code",
   "execution_count": 33,
   "id": "88a52b9c",
   "metadata": {},
   "outputs": [],
   "source": [
    "mriPacket_send = h1.execute_thread(f\"sudo python3 sendPacket.py 1 2 30\")"
   ]
  },
  {
   "cell_type": "markdown",
   "id": "9218844e",
   "metadata": {},
   "source": [
    "The sleep(10) function call in your code causes the program to pause or delay its execution for 10 seconds. "
   ]
  },
  {
   "cell_type": "code",
   "execution_count": 34,
   "id": "26726e0f",
   "metadata": {},
   "outputs": [],
   "source": [
    "sleep(10)"
   ]
  },
  {
   "cell_type": "markdown",
   "id": "484747b0",
   "metadata": {},
   "source": [
    "The Python code snippet runs a script named \"BgT_iperf.py\" on the host \"h1\", passing three arguments: h2_ip, tiperf, and nthreads. \"h2_ip\" represents the ip of the destination host. \"tiperf\" id the duration of the test in seconds, specified by the tiperf variable. Finally \"nthreads\" is the number of parallel client threads to use during the iperf test, specified by the nthreads variable."
   ]
  },
  {
   "cell_type": "code",
   "execution_count": 35,
   "id": "700a7bfa",
   "metadata": {},
   "outputs": [],
   "source": [
    "iperf_h1 = h1.execute(f\"python3 BgT_iperf.py {h2_ip} {tiperf} {nthreads}\",quiet=True)"
   ]
  },
  {
   "cell_type": "markdown",
   "id": "88bbc1cd",
   "metadata": {},
   "source": [
    "The sleep(10) function call in your code causes the program to pause or delay its execution for 10 seconds. "
   ]
  },
  {
   "cell_type": "code",
   "execution_count": 36,
   "id": "b360692e",
   "metadata": {},
   "outputs": [],
   "source": [
    "sleep(10)"
   ]
  },
  {
   "cell_type": "markdown",
   "id": "7cd22a42",
   "metadata": {},
   "source": [
    "The code snippet processes the JSON output from an iperf network test, formats it for readability, and saves it to a file. It begins by parsing the JSON output stored in iperf_h1[0] into a Python dictionary. Then, it converts this dictionary back into a JSON-formatted string with indentation for clarity. Finally, it writes this formatted JSON data to a file named according to the experiment number, ensuring the results are neatly saved and organized."
   ]
  },
  {
   "cell_type": "code",
   "execution_count": 37,
   "id": "a63a44c2",
   "metadata": {},
   "outputs": [],
   "source": [
    "data_dict = json.loads(iperf_h1[0])\n",
    "json_data = json.dumps(data_dict, indent=4)\n",
    "with open(f'./graphs/data/exp{experimentNumber}.json', 'w') as file:\n",
    "    file.write(json_data)"
   ]
  },
  {
   "cell_type": "markdown",
   "id": "6acbe543",
   "metadata": {},
   "source": [
    "The code snippet processes the output of the receive.py program, formats it for readability, and saves it to a file. "
   ]
  },
  {
   "cell_type": "code",
   "execution_count": 38,
   "id": "1dfcfc54",
   "metadata": {},
   "outputs": [],
   "source": [
    "stdout, stderr = h2.execute(\"sudo killall python3\", quiet=True)\n",
    "hex_list = mriPacket_receive.result()[0].split('\\n')[1:-1]\n",
    "df = pd.DataFrame(hex_list, columns=['Values'])\n",
    "df.to_csv(f'./graphs/data/exp{experimentNumber}.csv', index=False)"
   ]
  },
  {
   "cell_type": "markdown",
   "id": "14d99124",
   "metadata": {},
   "source": [
    "The following lines executes a command to terminate all tcpdump processes silently in all the nodes of the experiment. "
   ]
  },
  {
   "cell_type": "code",
   "execution_count": 39,
   "id": "c368fc86",
   "metadata": {},
   "outputs": [],
   "source": [
    "stdout, stderr = h1.execute(\"sudo killall tcpdump\", quiet=True)\n",
    "stdout, stderr = h2.execute(\"sudo killall tcpdump\", quiet=True)\n",
    "stdout, stderr = s1.execute(\"sudo killall tcpdump\", quiet=True)\n",
    "stdout, stderr = s2.execute(\"sudo killall tcpdump\", quiet=True)"
   ]
  },
  {
   "cell_type": "markdown",
   "id": "0b37b6c1",
   "metadata": {},
   "source": [
    "The following code process the pcap output of each of the tcpdump commands and extract the values of the number of packets of each type and the size of bytes."
   ]
  },
  {
   "cell_type": "code",
   "execution_count": 40,
   "id": "41d310f8",
   "metadata": {},
   "outputs": [
    {
     "name": "stdout",
     "output_type": "stream",
     "text": [
      "[[30, 65, 65.0, 65], [2720, 46, 1487.8838235294118, 1490]]\n",
      "[[20, 81, 81.0, 81], [848, 46, 1483.2122641509434, 1490]]\n",
      "hosts\n",
      "[[30, 65, 65.0, 65], [2720, 56, 1487.8911764705883, 1490]]\n",
      "[[20, 73, 73.0, 73], [848, 56, 1483.2358490566037, 1490]]\n",
      "s1\n",
      "[[20, 73, 73.0, 73], [848, 56, 1483.2358490566037, 1490]]\n",
      "[[20, 81, 81.0, 81], [848, 56, 1483.2358490566037, 1490]]\n",
      "s2\n"
     ]
    }
   ],
   "source": [
    "h1_0 = h1.execute(\"sudo python3 nPackets.py h1_0.pcap\")\n",
    "h2_0 = h2.execute(\"sudo python3 nPackets.py h2_0.pcap\")\n",
    "print(\"hosts\")\n",
    "s1_1 = s1.execute(\"sudo python3 nPackets.py s1_1.pcap\")\n",
    "s1_2 = s1.execute(\"sudo python3 nPackets.py s1_2.pcap\")\n",
    "print(\"s1\")\n",
    "s2_1 = s2.execute(\"sudo python3 nPackets.py s2_1.pcap\")\n",
    "s2_2 = s2.execute(\"sudo python3 nPackets.py s2_2.pcap\")\n",
    "print(\"s2\")"
   ]
  },
  {
   "cell_type": "markdown",
   "id": "4d0f0653",
   "metadata": {},
   "source": [
    "In the following code we are going to take the outputs of the cell above and store them in a pandas dataframe. "
   ]
  },
  {
   "cell_type": "code",
   "execution_count": 41,
   "id": "b8428495",
   "metadata": {
    "jupyter": {
     "source_hidden": true
    }
   },
   "outputs": [],
   "source": [
    "array_string = h1_0[0].strip()\n",
    "data = json.loads(array_string)\n",
    "dataframeh1_0 = pd.DataFrame(data).T\n",
    "dataframeh1_0.columns = ['h1_MRI', 'h1_iperf']\n",
    "\n",
    "array_string = h2_0[0].strip()\n",
    "data = json.loads(array_string)\n",
    "dataframeh2_0 = pd.DataFrame(data).T\n",
    "dataframeh2_0.columns = ['h2_MRI', 'h2_iperf']\n",
    "\n",
    "dataframe_hosts = pd.concat([dataframeh1_0, dataframeh2_0], axis=1)\n",
    "\n",
    "array_string = s1_1[0].strip()\n",
    "data = json.loads(array_string)\n",
    "dataframes1_1 = pd.DataFrame(data).T\n",
    "dataframes1_1.columns = ['s11_MRI', 's11_iperf']\n",
    "\n",
    "array_string = s1_2[0].strip()\n",
    "data = json.loads(array_string)\n",
    "dataframes1_2 = pd.DataFrame(data).T\n",
    "dataframes1_2.columns = ['s12_MRI', 's12_iperf']\n",
    "\n",
    "dataframe_s1 = pd.concat([dataframes1_1, dataframes1_2], axis=1)\n",
    "\n",
    "array_string = s2_1[0].strip()\n",
    "data = json.loads(array_string)\n",
    "dataframes2_1 = pd.DataFrame(data).T\n",
    "dataframes2_1.columns = ['s21_MRI', 's21_iperf']\n",
    "\n",
    "array_string = s2_2[0].strip()\n",
    "data = json.loads(array_string)\n",
    "dataframes2_2 = pd.DataFrame(data).T\n",
    "dataframes2_2.columns = ['s22_MRI', 's22_iperf']\n",
    "\n",
    "dataframe_s2 = pd.concat([dataframes2_1, dataframes2_2], axis=1)"
   ]
  },
  {
   "cell_type": "markdown",
   "id": "8e7e9046",
   "metadata": {},
   "source": [
    "The code snippet saves data from three different DataFrames to CSV files, organizing the results of an experiment based on the experimentNumber variable."
   ]
  },
  {
   "cell_type": "code",
   "execution_count": 42,
   "id": "f380ba9a",
   "metadata": {},
   "outputs": [],
   "source": [
    "dataframe_hosts.to_csv(f'./graphs/data/exp{experimentNumber}_nH.csv', index=False)\n",
    "dataframe_s1.to_csv(f'./graphs/data/exp{experimentNumber}_nS1.csv', index=False)\n",
    "dataframe_s2.to_csv(f'./graphs/data/exp{experimentNumber}_nS2.csv', index=False)"
   ]
  },
  {
   "cell_type": "markdown",
   "id": "967eabee",
   "metadata": {
    "jp-MarkdownHeadingCollapsed": true
   },
   "source": [
    "#### Experiment 3"
   ]
  },
  {
   "cell_type": "markdown",
   "id": "4ff55c10",
   "metadata": {},
   "source": [
    "To execute this experiment, we need to set the \"set_queue_depth\" value for the switches to 100 and the \"set_queue_rate\" to 50. Three threads of traffic will be sent using iperf for a duration of 15 seconds. Below, you can see an image depicting the traffic that will be sent. "
   ]
  },
  {
   "attachments": {
    "759acfce-dcf9-423e-939c-0e063ae5c921.jpg": {
     "image/jpeg": "[encoded data removed]"
    }
   },
   "cell_type": "markdown",
   "id": "47f7789a",
   "metadata": {},
   "source": [
    "![exp3X.jpg](attachment:759acfce-dcf9-423e-939c-0e063ae5c921.jpg)"
   ]
  },
  {
   "cell_type": "markdown",
   "id": "d69df697",
   "metadata": {},
   "source": [
    "In the code snippet, three variables are set up for a configuration or script that appears to be preparing for a network performance testing scenario:\n",
    "\n",
    "- experimentNumber: This variable likely indicates a identifier for the experiment.\n",
    "\n",
    "- tiperf: This variable specifies the duration in seconds for the iperf3 command. \n",
    "\n",
    "- nthreads: This variable defines the number of parallel client threads to be used in the test. \n",
    "\n",
    "These variables are essential for controlling the parameters of a network testing session, allowing for precise adjustments to the testing environment based on the needs of the experiment or the specifics of the network being tested."
   ]
  },
  {
   "cell_type": "code",
   "execution_count": 43,
   "id": "cf8046a1",
   "metadata": {},
   "outputs": [],
   "source": [
    "experimentNumber = 3\n",
    "tiperf = 15\n",
    "nthreads = 3"
   ]
  },
  {
   "cell_type": "markdown",
   "id": "672a2580",
   "metadata": {},
   "source": [
    "The first line executes a command to terminate all iperf3 processes silently in h2, while the second line does the same for all Python 3 instances, capturing any output or errors into stdout and stderr respectively. "
   ]
  },
  {
   "cell_type": "code",
   "execution_count": 44,
   "id": "4c98c7aa",
   "metadata": {},
   "outputs": [],
   "source": [
    "#h2.execute(\"sudo killall iperf3\", quiet=True)\n",
    "stdout, stderr = h2.execute(\"sudo killall python3\", quiet=True)"
   ]
  },
  {
   "cell_type": "markdown",
   "id": "01fb54c9",
   "metadata": {},
   "source": [
    "The Python code snippet launches an iperf3 server instance on \"h2\" in a separate thread. This is accomplished using a method called execute_thread, which likely allows the iperf3 -s command (indicating server mode) to run asynchronously, ensuring that the main program can continue executing other tasks without waiting for the iperf3 server process to finish."
   ]
  },
  {
   "cell_type": "code",
   "execution_count": 45,
   "id": "895291c6",
   "metadata": {},
   "outputs": [],
   "source": [
    "#iperf2 = h2.execute_thread(f\"iperf3 -s\")"
   ]
  },
  {
   "cell_type": "markdown",
   "id": "3d91d2fe",
   "metadata": {},
   "source": [
    "The Python code snippet launches a script named receive.py on \"h2\" using elevated privileges (sudo). The script is run asynchronously in a separate thread by the method execute_thread, allowing the main program to continue its execution without waiting for receive.py to complete."
   ]
  },
  {
   "cell_type": "code",
   "execution_count": 46,
   "id": "59265233",
   "metadata": {},
   "outputs": [],
   "source": [
    "mriPacket_receive = h2.execute_thread(f\"sudo python3 receive.py\")"
   ]
  },
  {
   "cell_type": "markdown",
   "id": "0511c8f3",
   "metadata": {},
   "source": [
    "The following cell orchestrates parallel network traffic captures across multiple devices—two hosts and two switches—using `tcpdump`, a command-line packet analyzer. Commands are executed asynchronously in separate threads to prevent blocking, enabling simultaneous captures on specified network interfaces for each device. For hosts `h1` and `h2`, and switches `s1` and `s2`, traffic is recorded on their respective interfaces, with each session outputting to a dedicated pcap file."
   ]
  },
  {
   "cell_type": "code",
   "execution_count": 47,
   "id": "f36ab15d",
   "metadata": {},
   "outputs": [
    {
     "name": "stdout",
     "output_type": "stream",
     "text": [
      "hosts\n",
      "s1\n",
      "s2\n"
     ]
    }
   ],
   "source": [
    "h1.execute_thread(f\"sudo tcpdump -i {h1_iface0_name} -w h1_0.pcap\")\n",
    "h2.execute_thread(f\"sudo tcpdump -i {h2_iface0_name} -w h2_0.pcap\")\n",
    "print(\"hosts\")\n",
    "s1.execute_thread(f\"sudo tcpdump -i {s1_iface1_name} -w s1_1.pcap\")\n",
    "s1.execute_thread(f\"sudo tcpdump -i {s1_iface2_name} -w s1_2.pcap\")\n",
    "print(\"s1\")\n",
    "s2.execute_thread(f\"sudo tcpdump -i {s2_iface1_name} -w s2_1.pcap\")\n",
    "s2.execute_thread(f\"sudo tcpdump -i {s2_iface2_name} -w s2_2.pcap\")\n",
    "print(\"s2\")"
   ]
  },
  {
   "cell_type": "markdown",
   "id": "ea06df32",
   "metadata": {},
   "source": [
    "The code snippet initiates an asynchronous task on the host \"h1\" to execute a Python script named \"sendPacket.py\" using elevated privileges (`sudo`). This script send packets by passing three arguments: `1`, `2`, and `30`. The first one is represents the host that is sending the packet. The second argument, in this case \"2\", is the host destination. And the last argument represents the number of packes that are going to send."
   ]
  },
  {
   "cell_type": "code",
   "execution_count": 48,
   "id": "dec06d37",
   "metadata": {},
   "outputs": [],
   "source": [
    "mriPacket_send = h1.execute_thread(f\"sudo python3 sendPacket.py 1 2 30\")"
   ]
  },
  {
   "cell_type": "markdown",
   "id": "ec1f48fd",
   "metadata": {},
   "source": [
    "The sleep(10) function call in your code causes the program to pause or delay its execution for 10 seconds. "
   ]
  },
  {
   "cell_type": "code",
   "execution_count": 49,
   "id": "b19253e4",
   "metadata": {},
   "outputs": [],
   "source": [
    "sleep(10)"
   ]
  },
  {
   "cell_type": "markdown",
   "id": "5c1607c5",
   "metadata": {},
   "source": [
    "The Python code snippet runs a script named \"BgT_iperf.py\" on the host \"h1\", passing three arguments: h2_ip, tiperf, and nthreads. \"h2_ip\" represents the ip of the destination host. \"tiperf\" id the duration of the test in seconds, specified by the tiperf variable. Finally \"nthreads\" is the number of parallel client threads to use during the iperf test, specified by the nthreads variable."
   ]
  },
  {
   "cell_type": "code",
   "execution_count": 50,
   "id": "583f1bb8",
   "metadata": {},
   "outputs": [],
   "source": [
    "iperf_h1 = h1.execute(f\"python3 BgT_iperf.py {h2_ip} {tiperf} {nthreads}\",quiet=True)"
   ]
  },
  {
   "cell_type": "markdown",
   "id": "12e44cfa",
   "metadata": {},
   "source": [
    "The sleep(10) function call in your code causes the program to pause or delay its execution for 10 seconds. "
   ]
  },
  {
   "cell_type": "code",
   "execution_count": 51,
   "id": "a9d015d2",
   "metadata": {},
   "outputs": [],
   "source": [
    "sleep(10)"
   ]
  },
  {
   "cell_type": "markdown",
   "id": "7bff088a",
   "metadata": {},
   "source": [
    "The code snippet processes the JSON output from an iperf network test, formats it for readability, and saves it to a file. It begins by parsing the JSON output stored in iperf_h1[0] into a Python dictionary. Then, it converts this dictionary back into a JSON-formatted string with indentation for clarity. Finally, it writes this formatted JSON data to a file named according to the experiment number, ensuring the results are neatly saved and organized."
   ]
  },
  {
   "cell_type": "code",
   "execution_count": 52,
   "id": "74e9839a",
   "metadata": {},
   "outputs": [],
   "source": [
    "data_dict = json.loads(iperf_h1[0])\n",
    "json_data = json.dumps(data_dict, indent=4)\n",
    "with open(f'./graphs/data/exp{experimentNumber}.json', 'w') as file:\n",
    "    file.write(json_data)"
   ]
  },
  {
   "cell_type": "markdown",
   "id": "7ea3ea4b",
   "metadata": {},
   "source": [
    "The code snippet processes the output of the receive.py program, formats it for readability, and saves it to a file. "
   ]
  },
  {
   "cell_type": "code",
   "execution_count": 53,
   "id": "bb4ea1ec",
   "metadata": {},
   "outputs": [],
   "source": [
    "stdout, stderr = h2.execute(\"sudo killall python3\", quiet=True)\n",
    "hex_list = mriPacket_receive.result()[0].split('\\n')[1:-1]\n",
    "df = pd.DataFrame(hex_list, columns=['Values'])\n",
    "df.to_csv(f'./graphs/data/exp{experimentNumber}.csv', index=False)"
   ]
  },
  {
   "cell_type": "markdown",
   "id": "b4153046",
   "metadata": {},
   "source": [
    "The following lines executes a command to terminate all tcpdump processes silently in all the nodes of the experiment. "
   ]
  },
  {
   "cell_type": "code",
   "execution_count": 54,
   "id": "c12ff1ca",
   "metadata": {},
   "outputs": [],
   "source": [
    "stdout, stderr = h1.execute(\"sudo killall tcpdump\", quiet=True)\n",
    "stdout, stderr = h2.execute(\"sudo killall tcpdump\", quiet=True)\n",
    "stdout, stderr = s1.execute(\"sudo killall tcpdump\", quiet=True)\n",
    "stdout, stderr = s2.execute(\"sudo killall tcpdump\", quiet=True)"
   ]
  },
  {
   "cell_type": "markdown",
   "id": "5adb1f31",
   "metadata": {},
   "source": [
    "The following code process the pcap output of each of the tcpdump commands and extract the values of the number of packets of each type and the size of bytes."
   ]
  },
  {
   "cell_type": "code",
   "execution_count": 55,
   "id": "5376fea5",
   "metadata": {},
   "outputs": [
    {
     "name": "stdout",
     "output_type": "stream",
     "text": [
      "[[30, 65, 65.0, 65], [4080, 46, 1487.8838235294118, 1490]]\n",
      "[[18, 81, 81.0, 81], [852, 46, 1479.8661971830986, 1490]]\n",
      "hosts\n",
      "[[29, 65, 65.0, 65], [4080, 56, 1487.8911764705883, 1490]]\n",
      "[[17, 73, 73.0, 73], [852, 56, 1479.9014084507041, 1490]]\n",
      "s1\n",
      "[[18, 73, 73.0, 73], [852, 56, 1479.9014084507041, 1490]]\n",
      "[[18, 81, 81.0, 81], [852, 56, 1479.9014084507041, 1490]]\n",
      "s2\n"
     ]
    }
   ],
   "source": [
    "h1_0 = h1.execute(\"sudo python3 nPackets.py h1_0.pcap\")\n",
    "h2_0 = h2.execute(\"sudo python3 nPackets.py h2_0.pcap\")\n",
    "print(\"hosts\")\n",
    "s1_1 = s1.execute(\"sudo python3 nPackets.py s1_1.pcap\")\n",
    "s1_2 = s1.execute(\"sudo python3 nPackets.py s1_2.pcap\")\n",
    "print(\"s1\")\n",
    "s2_1 = s2.execute(\"sudo python3 nPackets.py s2_1.pcap\")\n",
    "s2_2 = s2.execute(\"sudo python3 nPackets.py s2_2.pcap\")\n",
    "print(\"s2\")"
   ]
  },
  {
   "cell_type": "markdown",
   "id": "240a9792",
   "metadata": {},
   "source": [
    "In the following code we are going to take the outputs of the cell above and store them in a pandas dataframe. "
   ]
  },
  {
   "cell_type": "code",
   "execution_count": 56,
   "id": "d05b2177",
   "metadata": {},
   "outputs": [],
   "source": [
    "array_string = h1_0[0].strip()\n",
    "data = json.loads(array_string)\n",
    "dataframeh1_0 = pd.DataFrame(data).T\n",
    "dataframeh1_0.columns = ['h1_MRI', 'h1_iperf']\n",
    "\n",
    "array_string = h2_0[0].strip()\n",
    "data = json.loads(array_string)\n",
    "dataframeh2_0 = pd.DataFrame(data).T\n",
    "dataframeh2_0.columns = ['h2_MRI', 'h2_iperf']\n",
    "\n",
    "dataframe_hosts = pd.concat([dataframeh1_0, dataframeh2_0], axis=1)\n",
    "\n",
    "array_string = s1_1[0].strip()\n",
    "data = json.loads(array_string)\n",
    "dataframes1_1 = pd.DataFrame(data).T\n",
    "dataframes1_1.columns = ['s11_MRI', 's11_iperf']\n",
    "\n",
    "array_string = s1_2[0].strip()\n",
    "data = json.loads(array_string)\n",
    "dataframes1_2 = pd.DataFrame(data).T\n",
    "dataframes1_2.columns = ['s12_MRI', 's12_iperf']\n",
    "\n",
    "dataframe_s1 = pd.concat([dataframes1_1, dataframes1_2], axis=1)\n",
    "\n",
    "array_string = s2_1[0].strip()\n",
    "data = json.loads(array_string)\n",
    "dataframes2_1 = pd.DataFrame(data).T\n",
    "dataframes2_1.columns = ['s21_MRI', 's21_iperf']\n",
    "\n",
    "array_string = s2_2[0].strip()\n",
    "data = json.loads(array_string)\n",
    "dataframes2_2 = pd.DataFrame(data).T\n",
    "dataframes2_2.columns = ['s22_MRI', 's22_iperf']\n",
    "\n",
    "dataframe_s2 = pd.concat([dataframes2_1, dataframes2_2], axis=1)"
   ]
  },
  {
   "cell_type": "markdown",
   "id": "36f247cd",
   "metadata": {},
   "source": [
    "The code snippet saves data from three different DataFrames to CSV files, organizing the results of an experiment based on the experimentNumber variable."
   ]
  },
  {
   "cell_type": "code",
   "execution_count": 57,
   "id": "43e5e19f",
   "metadata": {},
   "outputs": [],
   "source": [
    "dataframe_hosts.to_csv(f'./graphs/data/exp{experimentNumber}_nH.csv', index=False)\n",
    "dataframe_s1.to_csv(f'./graphs/data/exp{experimentNumber}_nS1.csv', index=False)\n",
    "dataframe_s2.to_csv(f'./graphs/data/exp{experimentNumber}_nS2.csv', index=False)"
   ]
  },
  {
   "cell_type": "markdown",
   "id": "7a3c5d39",
   "metadata": {
    "jp-MarkdownHeadingCollapsed": true
   },
   "source": [
    "#### Experiment 4"
   ]
  },
  {
   "cell_type": "markdown",
   "id": "de509eb5",
   "metadata": {},
   "source": [
    "To execute this experiment, we need to set the \"set_queue_depth\" value for the switches to 100 and the \"set_queue_rate\" to 50. Four threads of traffic will be sent using iperf for a duration of 15 seconds. Below, you can see an image depicting the traffic that will be sent. "
   ]
  },
  {
   "attachments": {
    "cf85dc96-251a-4cac-800e-0a6ea359fd33.jpg": {
     "image/jpeg": "[encoded data removed]"
    }
   },
   "cell_type": "markdown",
   "id": "2a325408",
   "metadata": {},
   "source": [
    "![exp4X.jpg](attachment:cf85dc96-251a-4cac-800e-0a6ea359fd33.jpg)"
   ]
  },
  {
   "cell_type": "markdown",
   "id": "7338739f",
   "metadata": {},
   "source": [
    "In the code snippet, three variables are set up for a configuration or script that appears to be preparing for a network performance testing scenario:\n",
    "\n",
    "- experimentNumber: This variable likely indicates a identifier for the experiment.\n",
    "\n",
    "- tiperf: This variable specifies the duration in seconds for the iperf3 command. \n",
    "\n",
    "- nthreads: This variable defines the number of parallel client threads to be used in the test. \n",
    "\n",
    "These variables are essential for controlling the parameters of a network testing session, allowing for precise adjustments to the testing environment based on the needs of the experiment or the specifics of the network being tested."
   ]
  },
  {
   "cell_type": "code",
   "execution_count": 58,
   "id": "7c88bd0e",
   "metadata": {},
   "outputs": [],
   "source": [
    "experimentNumber = 4\n",
    "tiperf = 15\n",
    "nthreads = 4"
   ]
  },
  {
   "cell_type": "markdown",
   "id": "4edf78dc",
   "metadata": {},
   "source": [
    "The first line executes a command to terminate all iperf3 processes silently in h2, while the second line does the same for all Python 3 instances, capturing any output or errors into stdout and stderr respectively. "
   ]
  },
  {
   "cell_type": "code",
   "execution_count": 59,
   "id": "a2d5eb59",
   "metadata": {},
   "outputs": [],
   "source": [
    "#h2.execute(\"sudo killall iperf3\", quiet=True)\n",
    "stdout, stderr = h2.execute(\"sudo killall python3\", quiet=True)"
   ]
  },
  {
   "cell_type": "markdown",
   "id": "0b7f6969",
   "metadata": {},
   "source": [
    "The Python code snippet launches an iperf3 server instance on \"h2\" in a separate thread. This is accomplished using a method called execute_thread, which likely allows the iperf3 -s command (indicating server mode) to run asynchronously, ensuring that the main program can continue executing other tasks without waiting for the iperf3 server process to finish."
   ]
  },
  {
   "cell_type": "code",
   "execution_count": 60,
   "id": "92a99a1f",
   "metadata": {},
   "outputs": [],
   "source": [
    "#iperf2 = h2.execute_thread(f\"iperf3 -s\")"
   ]
  },
  {
   "cell_type": "markdown",
   "id": "e9741f45",
   "metadata": {},
   "source": [
    "The Python code snippet launches a script named receive.py on \"h2\" using elevated privileges (sudo). The script is run asynchronously in a separate thread by the method execute_thread, allowing the main program to continue its execution without waiting for receive.py to complete."
   ]
  },
  {
   "cell_type": "code",
   "execution_count": 61,
   "id": "7703ba6a",
   "metadata": {},
   "outputs": [],
   "source": [
    "mriPacket_receive = h2.execute_thread(f\"sudo python3 receive.py\")"
   ]
  },
  {
   "cell_type": "markdown",
   "id": "8b57c789",
   "metadata": {},
   "source": [
    "The following cell orchestrates parallel network traffic captures across multiple devices—two hosts and two switches—using `tcpdump`, a command-line packet analyzer. Commands are executed asynchronously in separate threads to prevent blocking, enabling simultaneous captures on specified network interfaces for each device. For hosts `h1` and `h2`, and switches `s1` and `s2`, traffic is recorded on their respective interfaces, with each session outputting to a dedicated pcap file."
   ]
  },
  {
   "cell_type": "code",
   "execution_count": 62,
   "id": "e101b994",
   "metadata": {},
   "outputs": [
    {
     "name": "stdout",
     "output_type": "stream",
     "text": [
      "hosts\n",
      "s1\n",
      "s2\n"
     ]
    }
   ],
   "source": [
    "h1.execute_thread(f\"sudo tcpdump -i {h1_iface0_name} -w h1_0.pcap\")\n",
    "h2.execute_thread(f\"sudo tcpdump -i {h2_iface0_name} -w h2_0.pcap\")\n",
    "print(\"hosts\")\n",
    "s1.execute_thread(f\"sudo tcpdump -i {s1_iface1_name} -w s1_1.pcap\")\n",
    "s1.execute_thread(f\"sudo tcpdump -i {s1_iface2_name} -w s1_2.pcap\")\n",
    "print(\"s1\")\n",
    "s2.execute_thread(f\"sudo tcpdump -i {s2_iface1_name} -w s2_1.pcap\")\n",
    "s2.execute_thread(f\"sudo tcpdump -i {s2_iface2_name} -w s2_2.pcap\")\n",
    "print(\"s2\")"
   ]
  },
  {
   "cell_type": "markdown",
   "id": "a2906a0f",
   "metadata": {},
   "source": [
    "The code snippet initiates an asynchronous task on the host \"h1\" to execute a Python script named \"sendPacket.py\" using elevated privileges (`sudo`). This script send packets by passing three arguments: `1`, `2`, and `30`. The first one is represents the host that is sending the packet. The second argument, in this case \"2\", is the host destination. And the last argument represents the number of packes that are going to send."
   ]
  },
  {
   "cell_type": "code",
   "execution_count": 63,
   "id": "ebfa8fff",
   "metadata": {},
   "outputs": [],
   "source": [
    "mriPacket_send = h1.execute_thread(f\"sudo python3 sendPacket.py 1 2 30\")"
   ]
  },
  {
   "cell_type": "markdown",
   "id": "4e00036f",
   "metadata": {},
   "source": [
    "The sleep(10) function call in your code causes the program to pause or delay its execution for 10 seconds. "
   ]
  },
  {
   "cell_type": "code",
   "execution_count": 64,
   "id": "676016df",
   "metadata": {},
   "outputs": [],
   "source": [
    "sleep(10)"
   ]
  },
  {
   "cell_type": "markdown",
   "id": "bb167802",
   "metadata": {},
   "source": [
    "The Python code snippet runs a script named \"BgT_iperf.py\" on the host \"h1\", passing three arguments: h2_ip, tiperf, and nthreads. \"h2_ip\" represents the ip of the destination host. \"tiperf\" id the duration of the test in seconds, specified by the tiperf variable. Finally \"nthreads\" is the number of parallel client threads to use during the iperf test, specified by the nthreads variable."
   ]
  },
  {
   "cell_type": "code",
   "execution_count": 65,
   "id": "8694b883",
   "metadata": {},
   "outputs": [],
   "source": [
    "iperf_h1 = h1.execute(f\"python3 BgT_iperf.py {h2_ip} {tiperf} {nthreads}\",quiet=True)"
   ]
  },
  {
   "cell_type": "markdown",
   "id": "b508044c",
   "metadata": {},
   "source": [
    "The sleep(10) function call in your code causes the program to pause or delay its execution for 10 seconds. "
   ]
  },
  {
   "cell_type": "code",
   "execution_count": 66,
   "id": "20bd16d8",
   "metadata": {},
   "outputs": [],
   "source": [
    "sleep(10)"
   ]
  },
  {
   "cell_type": "markdown",
   "id": "4f69eaa9",
   "metadata": {},
   "source": [
    "The code snippet processes the JSON output from an iperf network test, formats it for readability, and saves it to a file. It begins by parsing the JSON output stored in iperf_h1[0] into a Python dictionary. Then, it converts this dictionary back into a JSON-formatted string with indentation for clarity. Finally, it writes this formatted JSON data to a file named according to the experiment number, ensuring the results are neatly saved and organized."
   ]
  },
  {
   "cell_type": "code",
   "execution_count": 67,
   "id": "6742b00d",
   "metadata": {},
   "outputs": [],
   "source": [
    "data_dict = json.loads(iperf_h1[0])\n",
    "json_data = json.dumps(data_dict, indent=4)\n",
    "with open(f'./graphs/data/exp{experimentNumber}.json', 'w') as file:\n",
    "    file.write(json_data)"
   ]
  },
  {
   "cell_type": "markdown",
   "id": "53f9e98a",
   "metadata": {},
   "source": [
    "The code snippet processes the output of the receive.py program, formats it for readability, and saves it to a file. "
   ]
  },
  {
   "cell_type": "code",
   "execution_count": 68,
   "id": "a2501bdb",
   "metadata": {},
   "outputs": [],
   "source": [
    "stdout, stderr = h2.execute(\"sudo killall python3\", quiet=True)\n",
    "hex_list = mriPacket_receive.result()[0].split('\\n')[1:-1]\n",
    "df = pd.DataFrame(hex_list, columns=['Values'])\n",
    "df.to_csv(f'./graphs/data/exp{experimentNumber}.csv', index=False)"
   ]
  },
  {
   "cell_type": "markdown",
   "id": "f302d0c3",
   "metadata": {},
   "source": [
    "The following lines executes a command to terminate all tcpdump processes silently in all the nodes of the experiment. "
   ]
  },
  {
   "cell_type": "code",
   "execution_count": 69,
   "id": "1751c511",
   "metadata": {},
   "outputs": [],
   "source": [
    "stdout, stderr = h1.execute(\"sudo killall tcpdump\", quiet=True)\n",
    "stdout, stderr = h2.execute(\"sudo killall tcpdump\", quiet=True)\n",
    "stdout, stderr = s1.execute(\"sudo killall tcpdump\", quiet=True)\n",
    "stdout, stderr = s2.execute(\"sudo killall tcpdump\", quiet=True)"
   ]
  },
  {
   "cell_type": "markdown",
   "id": "daf093e4",
   "metadata": {},
   "source": [
    "The following code process the pcap output of each of the tcpdump commands and extract the values of the number of packets of each type and the size of bytes."
   ]
  },
  {
   "cell_type": "code",
   "execution_count": 70,
   "id": "47698032",
   "metadata": {},
   "outputs": [
    {
     "name": "stdout",
     "output_type": "stream",
     "text": [
      "[[30, 65, 65.0, 65], [5440, 46, 1487.8838235294118, 1490]]\n",
      "[[19, 81, 81.0, 81], [853, 46, 1476.504103165299, 1490]]\n",
      "hosts\n",
      "[[30, 65, 65.0, 65], [5440, 56, 1487.8911764705883, 1490]]\n",
      "[[19, 73, 73.0, 73], [853, 56, 1476.5509964830012, 1490]]\n",
      "s1\n",
      "[[19, 73, 73.0, 73], [853, 56, 1476.5509964830012, 1490]]\n",
      "[[19, 81, 81.0, 81], [853, 56, 1476.5509964830012, 1490]]\n",
      "s2\n"
     ]
    }
   ],
   "source": [
    "h1_0 = h1.execute(\"sudo python3 nPackets.py h1_0.pcap\")\n",
    "h2_0 = h2.execute(\"sudo python3 nPackets.py h2_0.pcap\")\n",
    "print(\"hosts\")\n",
    "s1_1 = s1.execute(\"sudo python3 nPackets.py s1_1.pcap\")\n",
    "s1_2 = s1.execute(\"sudo python3 nPackets.py s1_2.pcap\")\n",
    "print(\"s1\")\n",
    "s2_1 = s2.execute(\"sudo python3 nPackets.py s2_1.pcap\")\n",
    "s2_2 = s2.execute(\"sudo python3 nPackets.py s2_2.pcap\")\n",
    "print(\"s2\")"
   ]
  },
  {
   "cell_type": "markdown",
   "id": "a2781eb8",
   "metadata": {},
   "source": [
    "In the following code we are going to take the outputs of the cell above and store them in a pandas dataframe. "
   ]
  },
  {
   "cell_type": "code",
   "execution_count": 71,
   "id": "2858d365",
   "metadata": {},
   "outputs": [],
   "source": [
    "array_string = h1_0[0].strip()\n",
    "data = json.loads(array_string)\n",
    "dataframeh1_0 = pd.DataFrame(data).T\n",
    "dataframeh1_0.columns = ['h1_MRI', 'h1_iperf']\n",
    "\n",
    "array_string = h2_0[0].strip()\n",
    "data = json.loads(array_string)\n",
    "dataframeh2_0 = pd.DataFrame(data).T\n",
    "dataframeh2_0.columns = ['h2_MRI', 'h2_iperf']\n",
    "\n",
    "dataframe_hosts = pd.concat([dataframeh1_0, dataframeh2_0], axis=1)\n",
    "\n",
    "array_string = s1_1[0].strip()\n",
    "data = json.loads(array_string)\n",
    "dataframes1_1 = pd.DataFrame(data).T\n",
    "dataframes1_1.columns = ['s11_MRI', 's11_iperf']\n",
    "\n",
    "array_string = s1_2[0].strip()\n",
    "data = json.loads(array_string)\n",
    "dataframes1_2 = pd.DataFrame(data).T\n",
    "dataframes1_2.columns = ['s12_MRI', 's12_iperf']\n",
    "\n",
    "dataframe_s1 = pd.concat([dataframes1_1, dataframes1_2], axis=1)\n",
    "\n",
    "array_string = s2_1[0].strip()\n",
    "data = json.loads(array_string)\n",
    "dataframes2_1 = pd.DataFrame(data).T\n",
    "dataframes2_1.columns = ['s21_MRI', 's21_iperf']\n",
    "\n",
    "array_string = s2_2[0].strip()\n",
    "data = json.loads(array_string)\n",
    "dataframes2_2 = pd.DataFrame(data).T\n",
    "dataframes2_2.columns = ['s22_MRI', 's22_iperf']\n",
    "\n",
    "dataframe_s2 = pd.concat([dataframes2_1, dataframes2_2], axis=1)"
   ]
  },
  {
   "cell_type": "markdown",
   "id": "8b62904f",
   "metadata": {},
   "source": [
    "The code snippet saves data from three different DataFrames to CSV files, organizing the results of an experiment based on the experimentNumber variable."
   ]
  },
  {
   "cell_type": "code",
   "execution_count": 72,
   "id": "67132735",
   "metadata": {},
   "outputs": [],
   "source": [
    "dataframe_hosts.to_csv(f'./graphs/data/exp{experimentNumber}_nH.csv', index=False)\n",
    "dataframe_s1.to_csv(f'./graphs/data/exp{experimentNumber}_nS1.csv', index=False)\n",
    "dataframe_s2.to_csv(f'./graphs/data/exp{experimentNumber}_nS2.csv', index=False)"
   ]
  },
  {
   "cell_type": "markdown",
   "id": "9ae7a2b1",
   "metadata": {
    "jp-MarkdownHeadingCollapsed": true
   },
   "source": [
    "#### Experiment 5"
   ]
  },
  {
   "cell_type": "markdown",
   "id": "dacfbef7",
   "metadata": {},
   "source": [
    "To execute this experiment, we need to set the \"set_queue_depth\" value for the switches to 100 and the \"set_queue_rate\" to 50. A single thread of traffic will be sent using iperf for a duration of 10 seconds. Below, you can see an image depicting the traffic that will be sent. "
   ]
  },
  {
   "attachments": {
    "9dcabf11-cb0b-4bc3-b112-a281b8af31c1.jpg": {
     "image/jpeg": "[encoded data removed]"
    }
   },
   "cell_type": "markdown",
   "id": "1b16aafa",
   "metadata": {},
   "source": [
    "![exp5X.jpg](attachment:9dcabf11-cb0b-4bc3-b112-a281b8af31c1.jpg)"
   ]
  },
  {
   "cell_type": "markdown",
   "id": "a3ad97b5",
   "metadata": {},
   "source": [
    "In the code snippet, three variables are set up for a configuration or script that appears to be preparing for a network performance testing scenario:\n",
    "\n",
    "- experimentNumber: This variable likely indicates a identifier for the experiment.\n",
    "\n",
    "- tiperf: This variable specifies the duration in seconds for the iperf3 command. \n",
    "\n",
    "- nthreads: This variable defines the number of parallel client threads to be used in the test. \n",
    "\n",
    "These variables are essential for controlling the parameters of a network testing session, allowing for precise adjustments to the testing environment based on the needs of the experiment or the specifics of the network being tested."
   ]
  },
  {
   "cell_type": "code",
   "execution_count": 73,
   "id": "c410b1d6",
   "metadata": {},
   "outputs": [],
   "source": [
    "experimentNumber = 5\n",
    "tiperf = 10\n",
    "nthreads = 1"
   ]
  },
  {
   "cell_type": "markdown",
   "id": "01000b0d",
   "metadata": {},
   "source": [
    "The first line executes a command to terminate all iperf3 processes silently in h2, while the second line does the same for all Python 3 instances, capturing any output or errors into stdout and stderr respectively. "
   ]
  },
  {
   "cell_type": "code",
   "execution_count": 74,
   "id": "df67ef20",
   "metadata": {},
   "outputs": [],
   "source": [
    "#h2.execute(\"sudo killall iperf3\", quiet=True)\n",
    "stdout, stderr = h2.execute(\"sudo killall python3\", quiet=True)"
   ]
  },
  {
   "cell_type": "markdown",
   "id": "a9ec231b",
   "metadata": {},
   "source": [
    "The Python code snippet launches an iperf3 server instance on \"h2\" in a separate thread. This is accomplished using a method called execute_thread, which likely allows the iperf3 -s command (indicating server mode) to run asynchronously, ensuring that the main program can continue executing other tasks without waiting for the iperf3 server process to finish."
   ]
  },
  {
   "cell_type": "code",
   "execution_count": 75,
   "id": "9e9613e6",
   "metadata": {},
   "outputs": [],
   "source": [
    "#iperf2 = h2.execute_thread(f\"iperf3 -s\")"
   ]
  },
  {
   "cell_type": "markdown",
   "id": "67d37075",
   "metadata": {},
   "source": [
    "The Python code snippet launches a script named receive.py on \"h2\" using elevated privileges (sudo). The script is run asynchronously in a separate thread by the method execute_thread, allowing the main program to continue its execution without waiting for receive.py to complete."
   ]
  },
  {
   "cell_type": "code",
   "execution_count": 76,
   "id": "4299629f",
   "metadata": {},
   "outputs": [],
   "source": [
    "mriPacket_receive = h2.execute_thread(f\"sudo python3 receive.py\")"
   ]
  },
  {
   "cell_type": "markdown",
   "id": "6188dbce",
   "metadata": {},
   "source": [
    "The following cell orchestrates parallel network traffic captures across multiple devices—two hosts and two switches—using `tcpdump`, a command-line packet analyzer. Commands are executed asynchronously in separate threads to prevent blocking, enabling simultaneous captures on specified network interfaces for each device. For hosts `h1` and `h2`, and switches `s1` and `s2`, traffic is recorded on their respective interfaces, with each session outputting to a dedicated pcap file."
   ]
  },
  {
   "cell_type": "code",
   "execution_count": 77,
   "id": "bce439ec",
   "metadata": {},
   "outputs": [
    {
     "name": "stdout",
     "output_type": "stream",
     "text": [
      "hosts\n",
      "s1\n",
      "s2\n"
     ]
    }
   ],
   "source": [
    "h1.execute_thread(f\"sudo tcpdump -i {h1_iface0_name} -w h1_0.pcap\")\n",
    "h2.execute_thread(f\"sudo tcpdump -i {h2_iface0_name} -w h2_0.pcap\")\n",
    "print(\"hosts\")\n",
    "s1.execute_thread(f\"sudo tcpdump -i {s1_iface1_name} -w s1_1.pcap\")\n",
    "s1.execute_thread(f\"sudo tcpdump -i {s1_iface2_name} -w s1_2.pcap\")\n",
    "print(\"s1\")\n",
    "s2.execute_thread(f\"sudo tcpdump -i {s2_iface1_name} -w s2_1.pcap\")\n",
    "s2.execute_thread(f\"sudo tcpdump -i {s2_iface2_name} -w s2_2.pcap\")\n",
    "print(\"s2\")"
   ]
  },
  {
   "cell_type": "markdown",
   "id": "e3c32ecd",
   "metadata": {},
   "source": [
    "The code snippet initiates an asynchronous task on the host \"h1\" to execute a Python script named \"sendPacket.py\" using elevated privileges (`sudo`). This script send packets by passing three arguments: `1`, `2`, and `30`. The first one is represents the host that is sending the packet. The second argument, in this case \"2\", is the host destination. And the last argument represents the number of packes that are going to send."
   ]
  },
  {
   "cell_type": "code",
   "execution_count": 78,
   "id": "0d54911b",
   "metadata": {},
   "outputs": [],
   "source": [
    "mriPacket_send = h1.execute_thread(f\"sudo python3 sendPacket.py 1 2 30\")"
   ]
  },
  {
   "cell_type": "markdown",
   "id": "ff907d8c",
   "metadata": {},
   "source": [
    "The sleep(10) function call in your code causes the program to pause or delay its execution for 10 seconds. "
   ]
  },
  {
   "cell_type": "code",
   "execution_count": 79,
   "id": "32965a81",
   "metadata": {},
   "outputs": [],
   "source": [
    "sleep(10)"
   ]
  },
  {
   "cell_type": "markdown",
   "id": "05f36760",
   "metadata": {},
   "source": [
    "The Python code snippet runs a script named \"BgT_iperf.py\" on the host \"h1\", passing three arguments: h2_ip, tiperf, and nthreads. \"h2_ip\" represents the ip of the destination host. \"tiperf\" id the duration of the test in seconds, specified by the tiperf variable. Finally \"nthreads\" is the number of parallel client threads to use during the iperf test, specified by the nthreads variable."
   ]
  },
  {
   "cell_type": "code",
   "execution_count": 80,
   "id": "9e01acff",
   "metadata": {},
   "outputs": [],
   "source": [
    "iperf_h1 = h1.execute(f\"python3 BgT_iperf.py {h2_ip} {tiperf} {nthreads}\",quiet=True)"
   ]
  },
  {
   "cell_type": "markdown",
   "id": "37ea0dff",
   "metadata": {},
   "source": [
    "The sleep(15) function call in your code causes the program to pause or delay its execution for 15 seconds. "
   ]
  },
  {
   "cell_type": "code",
   "execution_count": 81,
   "id": "7478630c",
   "metadata": {},
   "outputs": [],
   "source": [
    "sleep(15)"
   ]
  },
  {
   "cell_type": "markdown",
   "id": "bce1d6f6",
   "metadata": {},
   "source": [
    "The code snippet processes the JSON output from an iperf network test, formats it for readability, and saves it to a file. It begins by parsing the JSON output stored in iperf_h1[0] into a Python dictionary. Then, it converts this dictionary back into a JSON-formatted string with indentation for clarity. Finally, it writes this formatted JSON data to a file named according to the experiment number, ensuring the results are neatly saved and organized."
   ]
  },
  {
   "cell_type": "code",
   "execution_count": 82,
   "id": "c37ad04f",
   "metadata": {},
   "outputs": [],
   "source": [
    "data_dict = json.loads(iperf_h1[0])\n",
    "json_data = json.dumps(data_dict, indent=4)\n",
    "with open(f'./graphs/data/exp{experimentNumber}.json', 'w') as file:\n",
    "    file.write(json_data)"
   ]
  },
  {
   "cell_type": "markdown",
   "id": "693fec51",
   "metadata": {},
   "source": [
    "The code snippet processes the output of the receive.py program, formats it for readability, and saves it to a file. "
   ]
  },
  {
   "cell_type": "code",
   "execution_count": 83,
   "id": "df60e66f",
   "metadata": {},
   "outputs": [],
   "source": [
    "stdout, stderr = h2.execute(\"sudo killall python3\", quiet=True)\n",
    "hex_list = mriPacket_receive.result()[0].split('\\n')[1:-1]\n",
    "df = pd.DataFrame(hex_list, columns=['Values'])\n",
    "df.to_csv(f'./graphs/data/exp{experimentNumber}.csv', index=False)"
   ]
  },
  {
   "cell_type": "markdown",
   "id": "73da6508",
   "metadata": {},
   "source": [
    "The following lines executes a command to terminate all tcpdump processes silently in all the nodes of the experiment. "
   ]
  },
  {
   "cell_type": "code",
   "execution_count": 84,
   "id": "bf643966",
   "metadata": {},
   "outputs": [],
   "source": [
    "stdout, stderr = h1.execute(\"sudo killall tcpdump\", quiet=True)\n",
    "stdout, stderr = h2.execute(\"sudo killall tcpdump\", quiet=True)\n",
    "stdout, stderr = s1.execute(\"sudo killall tcpdump\", quiet=True)\n",
    "stdout, stderr = s2.execute(\"sudo killall tcpdump\", quiet=True)"
   ]
  },
  {
   "cell_type": "markdown",
   "id": "51af75ab",
   "metadata": {},
   "source": [
    "The following code process the pcap output of each of the tcpdump commands and extract the values of the number of packets of each type and the size of bytes."
   ]
  },
  {
   "cell_type": "code",
   "execution_count": 85,
   "id": "cf492337",
   "metadata": {},
   "outputs": [
    {
     "name": "stdout",
     "output_type": "stream",
     "text": [
      "[[30, 65, 65.0, 65], [908, 46, 1486.8303964757708, 1490]]\n",
      "[[26, 81, 81.0, 81], [594, 46, 1485.1548821548822, 1490]]\n",
      "hosts\n",
      "[[30, 65, 65.0, 65], [908, 56, 1486.84140969163, 1490]]\n",
      "[[26, 73, 73.0, 73], [594, 56, 1485.171717171717, 1490]]\n",
      "s1\n",
      "[[26, 73, 73.0, 73], [594, 56, 1485.171717171717, 1490]]\n",
      "[[26, 81, 81.0, 81], [594, 56, 1485.171717171717, 1490]]\n",
      "s2\n"
     ]
    }
   ],
   "source": [
    "h1_0 = h1.execute(\"sudo python3 nPackets.py h1_0.pcap\")\n",
    "h2_0 = h2.execute(\"sudo python3 nPackets.py h2_0.pcap\")\n",
    "print(\"hosts\")\n",
    "s1_1 = s1.execute(\"sudo python3 nPackets.py s1_1.pcap\")\n",
    "s1_2 = s1.execute(\"sudo python3 nPackets.py s1_2.pcap\")\n",
    "print(\"s1\")\n",
    "s2_1 = s2.execute(\"sudo python3 nPackets.py s2_1.pcap\")\n",
    "s2_2 = s2.execute(\"sudo python3 nPackets.py s2_2.pcap\")\n",
    "print(\"s2\")"
   ]
  },
  {
   "cell_type": "markdown",
   "id": "808ed5d0",
   "metadata": {},
   "source": [
    "In the following code we are going to take the outputs of the cell above and store them in a pandas dataframe. "
   ]
  },
  {
   "cell_type": "code",
   "execution_count": 86,
   "id": "0ae7e823",
   "metadata": {},
   "outputs": [],
   "source": [
    "array_string = h1_0[0].strip()\n",
    "data = json.loads(array_string)\n",
    "dataframeh1_0 = pd.DataFrame(data).T\n",
    "dataframeh1_0.columns = ['h1_MRI', 'h1_iperf']\n",
    "\n",
    "array_string = h2_0[0].strip()\n",
    "data = json.loads(array_string)\n",
    "dataframeh2_0 = pd.DataFrame(data).T\n",
    "dataframeh2_0.columns = ['h2_MRI', 'h2_iperf']\n",
    "\n",
    "dataframe_hosts = pd.concat([dataframeh1_0, dataframeh2_0], axis=1)\n",
    "\n",
    "array_string = s1_1[0].strip()\n",
    "data = json.loads(array_string)\n",
    "dataframes1_1 = pd.DataFrame(data).T\n",
    "dataframes1_1.columns = ['s11_MRI', 's11_iperf']\n",
    "\n",
    "array_string = s1_2[0].strip()\n",
    "data = json.loads(array_string)\n",
    "dataframes1_2 = pd.DataFrame(data).T\n",
    "dataframes1_2.columns = ['s12_MRI', 's12_iperf']\n",
    "\n",
    "dataframe_s1 = pd.concat([dataframes1_1, dataframes1_2], axis=1)\n",
    "\n",
    "array_string = s2_1[0].strip()\n",
    "data = json.loads(array_string)\n",
    "dataframes2_1 = pd.DataFrame(data).T\n",
    "dataframes2_1.columns = ['s21_MRI', 's21_iperf']\n",
    "\n",
    "array_string = s2_2[0].strip()\n",
    "data = json.loads(array_string)\n",
    "dataframes2_2 = pd.DataFrame(data).T\n",
    "dataframes2_2.columns = ['s22_MRI', 's22_iperf']\n",
    "\n",
    "dataframe_s2 = pd.concat([dataframes2_1, dataframes2_2], axis=1)"
   ]
  },
  {
   "cell_type": "markdown",
   "id": "27c2ae9d",
   "metadata": {},
   "source": [
    "The code snippet saves data from three different DataFrames to CSV files, organizing the results of an experiment based on the experimentNumber variable."
   ]
  },
  {
   "cell_type": "code",
   "execution_count": 87,
   "id": "ab61bbd0",
   "metadata": {},
   "outputs": [],
   "source": [
    "dataframe_hosts.to_csv(f'./graphs/data/exp{experimentNumber}_nH.csv', index=False)\n",
    "dataframe_s1.to_csv(f'./graphs/data/exp{experimentNumber}_nS1.csv', index=False)\n",
    "dataframe_s2.to_csv(f'./graphs/data/exp{experimentNumber}_nS2.csv', index=False)"
   ]
  },
  {
   "cell_type": "markdown",
   "id": "aa83a93d",
   "metadata": {
    "jp-MarkdownHeadingCollapsed": true
   },
   "source": [
    "#### Experiment 6"
   ]
  },
  {
   "cell_type": "markdown",
   "id": "0425678a",
   "metadata": {},
   "source": [
    "To execute this experiment, we need to set the \"set_queue_depth\" value for the switches to 100 and the \"set_queue_rate\" to 50. Two threads of traffic will be sent using iperf for a duration of 10 seconds. Below, you can see an image depicting the traffic that will be sent. "
   ]
  },
  {
   "attachments": {
    "834a63e4-7391-4b3c-9b66-7d9d56edea11.jpg": {
     "image/jpeg": "[encoded data removed]"
    }
   },
   "cell_type": "markdown",
   "id": "b110f996",
   "metadata": {},
   "source": [
    "![exp6X.jpg](attachment:834a63e4-7391-4b3c-9b66-7d9d56edea11.jpg)"
   ]
  },
  {
   "cell_type": "markdown",
   "id": "a61a8602",
   "metadata": {},
   "source": [
    "In the code snippet, three variables are set up for a configuration or script that appears to be preparing for a network performance testing scenario:\n",
    "\n",
    "- experimentNumber: This variable likely indicates a identifier for the experiment.\n",
    "\n",
    "- tiperf: This variable specifies the duration in seconds for the iperf3 command. \n",
    "\n",
    "- nthreads: This variable defines the number of parallel client threads to be used in the test. \n",
    "\n",
    "These variables are essential for controlling the parameters of a network testing session, allowing for precise adjustments to the testing environment based on the needs of the experiment or the specifics of the network being tested."
   ]
  },
  {
   "cell_type": "code",
   "execution_count": 88,
   "id": "633b1393",
   "metadata": {},
   "outputs": [],
   "source": [
    "experimentNumber = 6\n",
    "tiperf = 10\n",
    "nthreads = 2"
   ]
  },
  {
   "cell_type": "markdown",
   "id": "1bd52536",
   "metadata": {},
   "source": [
    "The first line executes a command to terminate all iperf3 processes silently in h2, while the second line does the same for all Python 3 instances, capturing any output or errors into stdout and stderr respectively. "
   ]
  },
  {
   "cell_type": "code",
   "execution_count": 89,
   "id": "2a298308",
   "metadata": {},
   "outputs": [],
   "source": [
    "#h2.execute(\"sudo killall iperf3\", quiet=True)\n",
    "stdout, stderr = h2.execute(\"sudo killall python3\", quiet=True)"
   ]
  },
  {
   "cell_type": "markdown",
   "id": "c8ff7a7e",
   "metadata": {},
   "source": [
    "The Python code snippet launches an iperf3 server instance on \"h2\" in a separate thread. This is accomplished using a method called execute_thread, which likely allows the iperf3 -s command (indicating server mode) to run asynchronously, ensuring that the main program can continue executing other tasks without waiting for the iperf3 server process to finish."
   ]
  },
  {
   "cell_type": "code",
   "execution_count": 90,
   "id": "5500e3a6",
   "metadata": {},
   "outputs": [],
   "source": [
    "#iperf2 = h2.execute_thread(f\"iperf3 -s\")"
   ]
  },
  {
   "cell_type": "markdown",
   "id": "ddb64077",
   "metadata": {},
   "source": [
    "The Python code snippet launches a script named receive.py on \"h2\" using elevated privileges (sudo). The script is run asynchronously in a separate thread by the method execute_thread, allowing the main program to continue its execution without waiting for receive.py to complete."
   ]
  },
  {
   "cell_type": "code",
   "execution_count": 91,
   "id": "94982d09",
   "metadata": {},
   "outputs": [],
   "source": [
    "mriPacket_receive = h2.execute_thread(f\"sudo python3 receive.py\")"
   ]
  },
  {
   "cell_type": "markdown",
   "id": "5c43c250",
   "metadata": {},
   "source": [
    "The following cell orchestrates parallel network traffic captures across multiple devices—two hosts and two switches—using `tcpdump`, a command-line packet analyzer. Commands are executed asynchronously in separate threads to prevent blocking, enabling simultaneous captures on specified network interfaces for each device. For hosts `h1` and `h2`, and switches `s1` and `s2`, traffic is recorded on their respective interfaces, with each session outputting to a dedicated pcap file."
   ]
  },
  {
   "cell_type": "code",
   "execution_count": 92,
   "id": "6d852084",
   "metadata": {},
   "outputs": [
    {
     "name": "stdout",
     "output_type": "stream",
     "text": [
      "hosts\n",
      "s1\n",
      "s2\n"
     ]
    }
   ],
   "source": [
    "h1.execute_thread(f\"sudo tcpdump -i {h1_iface0_name} -w h1_0.pcap\")\n",
    "h2.execute_thread(f\"sudo tcpdump -i {h2_iface0_name} -w h2_0.pcap\")\n",
    "print(\"hosts\")\n",
    "s1.execute_thread(f\"sudo tcpdump -i {s1_iface1_name} -w s1_1.pcap\")\n",
    "s1.execute_thread(f\"sudo tcpdump -i {s1_iface2_name} -w s1_2.pcap\")\n",
    "print(\"s1\")\n",
    "s2.execute_thread(f\"sudo tcpdump -i {s2_iface1_name} -w s2_1.pcap\")\n",
    "s2.execute_thread(f\"sudo tcpdump -i {s2_iface2_name} -w s2_2.pcap\")\n",
    "print(\"s2\")"
   ]
  },
  {
   "cell_type": "markdown",
   "id": "6e751195",
   "metadata": {},
   "source": [
    "The code snippet initiates an asynchronous task on the host \"h1\" to execute a Python script named \"sendPacket.py\" using elevated privileges (`sudo`). This script send packets by passing three arguments: `1`, `2`, and `30`. The first one is represents the host that is sending the packet. The second argument, in this case \"2\", is the host destination. And the last argument represents the number of packes that are going to send."
   ]
  },
  {
   "cell_type": "code",
   "execution_count": 93,
   "id": "440e4e8c",
   "metadata": {},
   "outputs": [],
   "source": [
    "mriPacket_send = h1.execute_thread(f\"sudo python3 sendPacket.py 1 2 30\")"
   ]
  },
  {
   "cell_type": "markdown",
   "id": "ccf1cfb7",
   "metadata": {},
   "source": [
    "The sleep(10) function call in your code causes the program to pause or delay its execution for 10 seconds. "
   ]
  },
  {
   "cell_type": "code",
   "execution_count": 94,
   "id": "1a2c57f5",
   "metadata": {},
   "outputs": [],
   "source": [
    "sleep(10)"
   ]
  },
  {
   "cell_type": "markdown",
   "id": "cbd31f5b",
   "metadata": {},
   "source": [
    "The Python code snippet runs a script named \"BgT_iperf.py\" on the host \"h1\", passing three arguments: h2_ip, tiperf, and nthreads. \"h2_ip\" represents the ip of the destination host. \"tiperf\" id the duration of the test in seconds, specified by the tiperf variable. Finally \"nthreads\" is the number of parallel client threads to use during the iperf test, specified by the nthreads variable."
   ]
  },
  {
   "cell_type": "code",
   "execution_count": 95,
   "id": "8f912787",
   "metadata": {},
   "outputs": [],
   "source": [
    "iperf_h1 = h1.execute(f\"python3 BgT_iperf.py {h2_ip} {tiperf} {nthreads}\",quiet=True)"
   ]
  },
  {
   "cell_type": "markdown",
   "id": "5b9e8e29",
   "metadata": {},
   "source": [
    "The sleep(15) function call in your code causes the program to pause or delay its execution for 15 seconds. "
   ]
  },
  {
   "cell_type": "code",
   "execution_count": 96,
   "id": "89624289",
   "metadata": {},
   "outputs": [],
   "source": [
    "sleep(15)"
   ]
  },
  {
   "cell_type": "markdown",
   "id": "f9ddcaae",
   "metadata": {},
   "source": [
    "The code snippet processes the JSON output from an iperf network test, formats it for readability, and saves it to a file. It begins by parsing the JSON output stored in iperf_h1[0] into a Python dictionary. Then, it converts this dictionary back into a JSON-formatted string with indentation for clarity. Finally, it writes this formatted JSON data to a file named according to the experiment number, ensuring the results are neatly saved and organized."
   ]
  },
  {
   "cell_type": "code",
   "execution_count": 97,
   "id": "8200a8f7",
   "metadata": {},
   "outputs": [],
   "source": [
    "data_dict = json.loads(iperf_h1[0])\n",
    "json_data = json.dumps(data_dict, indent=4)\n",
    "with open(f'./graphs/data/exp{experimentNumber}.json', 'w') as file:\n",
    "    file.write(json_data)"
   ]
  },
  {
   "cell_type": "markdown",
   "id": "99f7dbeb",
   "metadata": {},
   "source": [
    "The code snippet processes the output of the receive.py program, formats it for readability, and saves it to a file. "
   ]
  },
  {
   "cell_type": "code",
   "execution_count": 98,
   "id": "202d67c5",
   "metadata": {},
   "outputs": [],
   "source": [
    "stdout, stderr = h2.execute(\"sudo killall python3\", quiet=True)\n",
    "hex_list = mriPacket_receive.result()[0].split('\\n')[1:-1]\n",
    "df = pd.DataFrame(hex_list, columns=['Values'])\n",
    "df.to_csv(f'./graphs/data/exp{experimentNumber}.csv', index=False)"
   ]
  },
  {
   "cell_type": "markdown",
   "id": "c8cea36e",
   "metadata": {},
   "source": [
    "The following lines executes a command to terminate all tcpdump processes silently in all the nodes of the experiment. "
   ]
  },
  {
   "cell_type": "code",
   "execution_count": 99,
   "id": "35594c17",
   "metadata": {},
   "outputs": [],
   "source": [
    "stdout, stderr = h1.execute(\"sudo killall tcpdump\", quiet=True)\n",
    "stdout, stderr = h2.execute(\"sudo killall tcpdump\", quiet=True)\n",
    "stdout, stderr = s1.execute(\"sudo killall tcpdump\", quiet=True)\n",
    "stdout, stderr = s2.execute(\"sudo killall tcpdump\", quiet=True)"
   ]
  },
  {
   "cell_type": "markdown",
   "id": "66a3a49a",
   "metadata": {},
   "source": [
    "The following code process the pcap output of each of the tcpdump commands and extract the values of the number of packets of each type and the size of bytes."
   ]
  },
  {
   "cell_type": "code",
   "execution_count": 100,
   "id": "85bec06b",
   "metadata": {},
   "outputs": [
    {
     "name": "stdout",
     "output_type": "stream",
     "text": [
      "[[30, 65, 65.0, 65], [1816, 46, 1486.8303964757708, 1490]]\n",
      "[[22, 81, 81.0, 81], [600, 46, 1480.4066666666668, 1490]]\n",
      "hosts\n",
      "[[30, 65, 65.0, 65], [1816, 56, 1486.84140969163, 1490]]\n",
      "[[22, 73, 73.0, 73], [600, 56, 1480.44, 1490]]\n",
      "s1\n",
      "[[22, 73, 73.0, 73], [600, 56, 1480.44, 1490]]\n",
      "[[22, 81, 81.0, 81], [600, 56, 1480.44, 1490]]\n",
      "s2\n"
     ]
    }
   ],
   "source": [
    "h1_0 = h1.execute(\"sudo python3 nPackets.py h1_0.pcap\")\n",
    "h2_0 = h2.execute(\"sudo python3 nPackets.py h2_0.pcap\")\n",
    "print(\"hosts\")\n",
    "s1_1 = s1.execute(\"sudo python3 nPackets.py s1_1.pcap\")\n",
    "s1_2 = s1.execute(\"sudo python3 nPackets.py s1_2.pcap\")\n",
    "print(\"s1\")\n",
    "s2_1 = s2.execute(\"sudo python3 nPackets.py s2_1.pcap\")\n",
    "s2_2 = s2.execute(\"sudo python3 nPackets.py s2_2.pcap\")\n",
    "print(\"s2\")"
   ]
  },
  {
   "cell_type": "markdown",
   "id": "38f9da6e",
   "metadata": {},
   "source": [
    "In the following code we are going to take the outputs of the cell above and store them in a pandas dataframe. "
   ]
  },
  {
   "cell_type": "code",
   "execution_count": 101,
   "id": "aef9e1ac",
   "metadata": {},
   "outputs": [],
   "source": [
    "array_string = h1_0[0].strip()\n",
    "data = json.loads(array_string)\n",
    "dataframeh1_0 = pd.DataFrame(data).T\n",
    "dataframeh1_0.columns = ['h1_MRI', 'h1_iperf']\n",
    "\n",
    "array_string = h2_0[0].strip()\n",
    "data = json.loads(array_string)\n",
    "dataframeh2_0 = pd.DataFrame(data).T\n",
    "dataframeh2_0.columns = ['h2_MRI', 'h2_iperf']\n",
    "\n",
    "dataframe_hosts = pd.concat([dataframeh1_0, dataframeh2_0], axis=1)\n",
    "\n",
    "array_string = s1_1[0].strip()\n",
    "data = json.loads(array_string)\n",
    "dataframes1_1 = pd.DataFrame(data).T\n",
    "dataframes1_1.columns = ['s11_MRI', 's11_iperf']\n",
    "\n",
    "array_string = s1_2[0].strip()\n",
    "data = json.loads(array_string)\n",
    "dataframes1_2 = pd.DataFrame(data).T\n",
    "dataframes1_2.columns = ['s12_MRI', 's12_iperf']\n",
    "\n",
    "dataframe_s1 = pd.concat([dataframes1_1, dataframes1_2], axis=1)\n",
    "\n",
    "array_string = s2_1[0].strip()\n",
    "data = json.loads(array_string)\n",
    "dataframes2_1 = pd.DataFrame(data).T\n",
    "dataframes2_1.columns = ['s21_MRI', 's21_iperf']\n",
    "\n",
    "array_string = s2_2[0].strip()\n",
    "data = json.loads(array_string)\n",
    "dataframes2_2 = pd.DataFrame(data).T\n",
    "dataframes2_2.columns = ['s22_MRI', 's22_iperf']\n",
    "\n",
    "dataframe_s2 = pd.concat([dataframes2_1, dataframes2_2], axis=1)"
   ]
  },
  {
   "cell_type": "markdown",
   "id": "06765409",
   "metadata": {},
   "source": [
    "The code snippet saves data from three different DataFrames to CSV files, organizing the results of an experiment based on the experimentNumber variable."
   ]
  },
  {
   "cell_type": "code",
   "execution_count": 102,
   "id": "826ac203",
   "metadata": {},
   "outputs": [],
   "source": [
    "dataframe_hosts.to_csv(f'./graphs/data/exp{experimentNumber}_nH.csv', index=False)\n",
    "dataframe_s1.to_csv(f'./graphs/data/exp{experimentNumber}_nS1.csv', index=False)\n",
    "dataframe_s2.to_csv(f'./graphs/data/exp{experimentNumber}_nS2.csv', index=False)"
   ]
  },
  {
   "cell_type": "markdown",
   "id": "5d5558c7",
   "metadata": {
    "jp-MarkdownHeadingCollapsed": true
   },
   "source": [
    "#### Experiment 7"
   ]
  },
  {
   "cell_type": "markdown",
   "id": "a43500f4",
   "metadata": {},
   "source": [
    "To execute this experiment, we need to set the \"set_queue_depth\" value for the switches to 100 and the \"set_queue_rate\" to 50. Three threads of traffic will be sent using iperf for a duration of 10 seconds. Below, you can see an image depicting the traffic that will be sent. "
   ]
  },
  {
   "attachments": {
    "2d5e82d6-6ee3-414f-b4a0-50d70e368976.jpg": {
     "image/jpeg": "[encoded data removed]"
    }
   },
   "cell_type": "markdown",
   "id": "3a93ea07",
   "metadata": {},
   "source": [
    "![exp7X.jpg](attachment:2d5e82d6-6ee3-414f-b4a0-50d70e368976.jpg)"
   ]
  },
  {
   "cell_type": "markdown",
   "id": "57c7525b",
   "metadata": {},
   "source": [
    "In the code snippet, three variables are set up for a configuration or script that appears to be preparing for a network performance testing scenario:\n",
    "\n",
    "- experimentNumber: This variable likely indicates a identifier for the experiment.\n",
    "\n",
    "- tiperf: This variable specifies the duration in seconds for the iperf3 command. \n",
    "\n",
    "- nthreads: This variable defines the number of parallel client threads to be used in the test. \n",
    "\n",
    "These variables are essential for controlling the parameters of a network testing session, allowing for precise adjustments to the testing environment based on the needs of the experiment or the specifics of the network being tested."
   ]
  },
  {
   "cell_type": "code",
   "execution_count": 103,
   "id": "b7b15a26",
   "metadata": {},
   "outputs": [],
   "source": [
    "experimentNumber = 7\n",
    "tiperf = 10\n",
    "nthreads = 3"
   ]
  },
  {
   "cell_type": "markdown",
   "id": "3d36b08f",
   "metadata": {},
   "source": [
    "The first line executes a command to terminate all iperf3 processes silently in h2, while the second line does the same for all Python 3 instances, capturing any output or errors into stdout and stderr respectively. "
   ]
  },
  {
   "cell_type": "code",
   "execution_count": 104,
   "id": "770b14a5",
   "metadata": {},
   "outputs": [],
   "source": [
    "#h2.execute(\"sudo killall iperf3\", quiet=True)\n",
    "stdout, stderr = h2.execute(\"sudo killall python3\", quiet=True)"
   ]
  },
  {
   "cell_type": "markdown",
   "id": "72c88a7e",
   "metadata": {},
   "source": [
    "The Python code snippet launches an iperf3 server instance on \"h2\" in a separate thread. This is accomplished using a method called execute_thread, which likely allows the iperf3 -s command (indicating server mode) to run asynchronously, ensuring that the main program can continue executing other tasks without waiting for the iperf3 server process to finish."
   ]
  },
  {
   "cell_type": "code",
   "execution_count": 105,
   "id": "3f761671",
   "metadata": {},
   "outputs": [],
   "source": [
    "#iperf2 = h2.execute_thread(f\"iperf3 -s\")"
   ]
  },
  {
   "cell_type": "markdown",
   "id": "dbbb5497",
   "metadata": {},
   "source": [
    "The Python code snippet launches a script named receive.py on \"h2\" using elevated privileges (sudo). The script is run asynchronously in a separate thread by the method execute_thread, allowing the main program to continue its execution without waiting for receive.py to complete."
   ]
  },
  {
   "cell_type": "code",
   "execution_count": 106,
   "id": "9cde48c6",
   "metadata": {},
   "outputs": [],
   "source": [
    "mriPacket_receive = h2.execute_thread(f\"sudo python3 receive.py\")"
   ]
  },
  {
   "cell_type": "markdown",
   "id": "41baebe4",
   "metadata": {},
   "source": [
    "The following cell orchestrates parallel network traffic captures across multiple devices—two hosts and two switches—using `tcpdump`, a command-line packet analyzer. Commands are executed asynchronously in separate threads to prevent blocking, enabling simultaneous captures on specified network interfaces for each device. For hosts `h1` and `h2`, and switches `s1` and `s2`, traffic is recorded on their respective interfaces, with each session outputting to a dedicated pcap file."
   ]
  },
  {
   "cell_type": "code",
   "execution_count": 107,
   "id": "0f9a3f50",
   "metadata": {},
   "outputs": [
    {
     "name": "stdout",
     "output_type": "stream",
     "text": [
      "hosts\n",
      "s1\n",
      "s2\n"
     ]
    }
   ],
   "source": [
    "h1.execute_thread(f\"sudo tcpdump -i {h1_iface0_name} -w h1_0.pcap\")\n",
    "h2.execute_thread(f\"sudo tcpdump -i {h2_iface0_name} -w h2_0.pcap\")\n",
    "print(\"hosts\")\n",
    "s1.execute_thread(f\"sudo tcpdump -i {s1_iface1_name} -w s1_1.pcap\")\n",
    "s1.execute_thread(f\"sudo tcpdump -i {s1_iface2_name} -w s1_2.pcap\")\n",
    "print(\"s1\")\n",
    "s2.execute_thread(f\"sudo tcpdump -i {s2_iface1_name} -w s2_1.pcap\")\n",
    "s2.execute_thread(f\"sudo tcpdump -i {s2_iface2_name} -w s2_2.pcap\")\n",
    "print(\"s2\")"
   ]
  },
  {
   "cell_type": "markdown",
   "id": "1b0c7bf4",
   "metadata": {},
   "source": [
    "The code snippet initiates an asynchronous task on the host \"h1\" to execute a Python script named \"sendPacket.py\" using elevated privileges (`sudo`). This script send packets by passing three arguments: `1`, `2`, and `30`. The first one is represents the host that is sending the packet. The second argument, in this case \"2\", is the host destination. And the last argument represents the number of packes that are going to send."
   ]
  },
  {
   "cell_type": "code",
   "execution_count": 108,
   "id": "b5bd5f1e",
   "metadata": {},
   "outputs": [],
   "source": [
    "mriPacket_send = h1.execute_thread(f\"sudo python3 sendPacket.py 1 2 30\")"
   ]
  },
  {
   "cell_type": "markdown",
   "id": "6c4bd65a",
   "metadata": {},
   "source": [
    "The sleep(10) function call in your code causes the program to pause or delay its execution for 10 seconds. "
   ]
  },
  {
   "cell_type": "code",
   "execution_count": 109,
   "id": "aba09d92",
   "metadata": {},
   "outputs": [],
   "source": [
    "sleep(10)"
   ]
  },
  {
   "cell_type": "markdown",
   "id": "39899b7e",
   "metadata": {},
   "source": [
    "The Python code snippet runs a script named \"BgT_iperf.py\" on the host \"h1\", passing three arguments: h2_ip, tiperf, and nthreads. \"h2_ip\" represents the ip of the destination host. \"tiperf\" id the duration of the test in seconds, specified by the tiperf variable. Finally \"nthreads\" is the number of parallel client threads to use during the iperf test, specified by the nthreads variable."
   ]
  },
  {
   "cell_type": "code",
   "execution_count": 110,
   "id": "c91bf2db",
   "metadata": {},
   "outputs": [],
   "source": [
    "iperf_h1 = h1.execute(f\"python3 BgT_iperf.py {h2_ip} {tiperf} {nthreads}\",quiet=True)"
   ]
  },
  {
   "cell_type": "markdown",
   "id": "6d13191c",
   "metadata": {},
   "source": [
    "The sleep(15) function call in your code causes the program to pause or delay its execution for 15 seconds. "
   ]
  },
  {
   "cell_type": "code",
   "execution_count": 111,
   "id": "f18cf1a6",
   "metadata": {},
   "outputs": [],
   "source": [
    "sleep(15)"
   ]
  },
  {
   "cell_type": "markdown",
   "id": "0d7e1735",
   "metadata": {},
   "source": [
    "The code snippet processes the JSON output from an iperf network test, formats it for readability, and saves it to a file. It begins by parsing the JSON output stored in iperf_h1[0] into a Python dictionary. Then, it converts this dictionary back into a JSON-formatted string with indentation for clarity. Finally, it writes this formatted JSON data to a file named according to the experiment number, ensuring the results are neatly saved and organized."
   ]
  },
  {
   "cell_type": "code",
   "execution_count": 112,
   "id": "1174b932",
   "metadata": {},
   "outputs": [],
   "source": [
    "data_dict = json.loads(iperf_h1[0])\n",
    "json_data = json.dumps(data_dict, indent=4)\n",
    "with open(f'./graphs/data/exp{experimentNumber}.json', 'w') as file:\n",
    "    file.write(json_data)"
   ]
  },
  {
   "cell_type": "markdown",
   "id": "e0957b33",
   "metadata": {},
   "source": [
    "The code snippet processes the output of the receive.py program, formats it for readability, and saves it to a file. "
   ]
  },
  {
   "cell_type": "code",
   "execution_count": 113,
   "id": "a164c1f1",
   "metadata": {},
   "outputs": [],
   "source": [
    "stdout, stderr = h2.execute(\"sudo killall python3\", quiet=True)\n",
    "hex_list = mriPacket_receive.result()[0].split('\\n')[1:-1]\n",
    "df = pd.DataFrame(hex_list, columns=['Values'])\n",
    "df.to_csv(f'./graphs/data/exp{experimentNumber}.csv', index=False)"
   ]
  },
  {
   "cell_type": "markdown",
   "id": "e3c6ca7c",
   "metadata": {},
   "source": [
    "The following lines executes a command to terminate all tcpdump processes silently in all the nodes of the experiment. "
   ]
  },
  {
   "cell_type": "code",
   "execution_count": 114,
   "id": "99091930",
   "metadata": {},
   "outputs": [],
   "source": [
    "stdout, stderr = h1.execute(\"sudo killall tcpdump\", quiet=True)\n",
    "stdout, stderr = h2.execute(\"sudo killall tcpdump\", quiet=True)\n",
    "stdout, stderr = s1.execute(\"sudo killall tcpdump\", quiet=True)\n",
    "stdout, stderr = s2.execute(\"sudo killall tcpdump\", quiet=True)"
   ]
  },
  {
   "cell_type": "markdown",
   "id": "6ed90ba1",
   "metadata": {},
   "source": [
    "The following code process the pcap output of each of the tcpdump commands and extract the values of the number of packets of each type and the size of bytes."
   ]
  },
  {
   "cell_type": "code",
   "execution_count": 115,
   "id": "b5aa99f7",
   "metadata": {},
   "outputs": [
    {
     "name": "stdout",
     "output_type": "stream",
     "text": [
      "[[29, 65, 65.0, 65], [2724, 46, 1486.8303964757708, 1490]]\n",
      "[[25, 81, 81.0, 81], [598, 46, 1475.561872909699, 1490]]\n",
      "hosts\n",
      "[[30, 65, 65.0, 65], [2724, 56, 1486.84140969163, 1490]]\n",
      "[[25, 73, 73.0, 73], [598, 56, 1475.6120401337794, 1490]]\n",
      "s1\n",
      "[[26, 73, 73.0, 73], [598, 56, 1475.6120401337794, 1490]]\n",
      "[[26, 81, 81.0, 81], [598, 56, 1475.6120401337794, 1490]]\n",
      "s2\n"
     ]
    }
   ],
   "source": [
    "h1_0 = h1.execute(\"sudo python3 nPackets.py h1_0.pcap\")\n",
    "h2_0 = h2.execute(\"sudo python3 nPackets.py h2_0.pcap\")\n",
    "print(\"hosts\")\n",
    "s1_1 = s1.execute(\"sudo python3 nPackets.py s1_1.pcap\")\n",
    "s1_2 = s1.execute(\"sudo python3 nPackets.py s1_2.pcap\")\n",
    "print(\"s1\")\n",
    "s2_1 = s2.execute(\"sudo python3 nPackets.py s2_1.pcap\")\n",
    "s2_2 = s2.execute(\"sudo python3 nPackets.py s2_2.pcap\")\n",
    "print(\"s2\")"
   ]
  },
  {
   "cell_type": "markdown",
   "id": "3d9ce91a",
   "metadata": {},
   "source": [
    "In the following code we are going to take the outputs of the cell above and store them in a pandas dataframe. "
   ]
  },
  {
   "cell_type": "code",
   "execution_count": 116,
   "id": "466dc4d9",
   "metadata": {},
   "outputs": [],
   "source": [
    "array_string = h1_0[0].strip()\n",
    "data = json.loads(array_string)\n",
    "dataframeh1_0 = pd.DataFrame(data).T\n",
    "dataframeh1_0.columns = ['h1_MRI', 'h1_iperf']\n",
    "\n",
    "array_string = h2_0[0].strip()\n",
    "data = json.loads(array_string)\n",
    "dataframeh2_0 = pd.DataFrame(data).T\n",
    "dataframeh2_0.columns = ['h2_MRI', 'h2_iperf']\n",
    "\n",
    "dataframe_hosts = pd.concat([dataframeh1_0, dataframeh2_0], axis=1)\n",
    "\n",
    "array_string = s1_1[0].strip()\n",
    "data = json.loads(array_string)\n",
    "dataframes1_1 = pd.DataFrame(data).T\n",
    "dataframes1_1.columns = ['s11_MRI', 's11_iperf']\n",
    "\n",
    "array_string = s1_2[0].strip()\n",
    "data = json.loads(array_string)\n",
    "dataframes1_2 = pd.DataFrame(data).T\n",
    "dataframes1_2.columns = ['s12_MRI', 's12_iperf']\n",
    "\n",
    "dataframe_s1 = pd.concat([dataframes1_1, dataframes1_2], axis=1)\n",
    "\n",
    "array_string = s2_1[0].strip()\n",
    "data = json.loads(array_string)\n",
    "dataframes2_1 = pd.DataFrame(data).T\n",
    "dataframes2_1.columns = ['s21_MRI', 's21_iperf']\n",
    "\n",
    "array_string = s2_2[0].strip()\n",
    "data = json.loads(array_string)\n",
    "dataframes2_2 = pd.DataFrame(data).T\n",
    "dataframes2_2.columns = ['s22_MRI', 's22_iperf']\n",
    "\n",
    "dataframe_s2 = pd.concat([dataframes2_1, dataframes2_2], axis=1)"
   ]
  },
  {
   "cell_type": "markdown",
   "id": "b4f67920",
   "metadata": {},
   "source": [
    "The code snippet saves data from three different DataFrames to CSV files, organizing the results of an experiment based on the experimentNumber variable."
   ]
  },
  {
   "cell_type": "code",
   "execution_count": 117,
   "id": "1a2f4b64",
   "metadata": {},
   "outputs": [],
   "source": [
    "dataframe_hosts.to_csv(f'./graphs/data/exp{experimentNumber}_nH.csv', index=False)\n",
    "dataframe_s1.to_csv(f'./graphs/data/exp{experimentNumber}_nS1.csv', index=False)\n",
    "dataframe_s2.to_csv(f'./graphs/data/exp{experimentNumber}_nS2.csv', index=False)"
   ]
  },
  {
   "cell_type": "markdown",
   "id": "a9b203c1",
   "metadata": {
    "jp-MarkdownHeadingCollapsed": true
   },
   "source": [
    "#### Experiment 8"
   ]
  },
  {
   "cell_type": "markdown",
   "id": "176a2487",
   "metadata": {},
   "source": [
    "To execute this experiment, we need to set the \"set_queue_depth\" value for the switches to 100 and the \"set_queue_rate\" to 50. Four threads of traffic will be sent using iperf for a duration of 10 seconds. Below, you can see an image depicting the traffic that will be sent. "
   ]
  },
  {
   "attachments": {
    "118e9c23-afff-4ae4-93d4-6f2177df3558.jpg": {
     "image/jpeg": "[encoded data removed]"
    }
   },
   "cell_type": "markdown",
   "id": "942fb2b8",
   "metadata": {},
   "source": [
    "![exp8X.jpg](attachment:118e9c23-afff-4ae4-93d4-6f2177df3558.jpg)"
   ]
  },
  {
   "cell_type": "markdown",
   "id": "585fce02",
   "metadata": {},
   "source": [
    "In the code snippet, three variables are set up for a configuration or script that appears to be preparing for a network performance testing scenario:\n",
    "\n",
    "- experimentNumber: This variable likely indicates a identifier for the experiment.\n",
    "\n",
    "- tiperf: This variable specifies the duration in seconds for the iperf3 command. \n",
    "\n",
    "- nthreads: This variable defines the number of parallel client threads to be used in the test. \n",
    "\n",
    "These variables are essential for controlling the parameters of a network testing session, allowing for precise adjustments to the testing environment based on the needs of the experiment or the specifics of the network being tested."
   ]
  },
  {
   "cell_type": "code",
   "execution_count": 118,
   "id": "8179e0a4",
   "metadata": {},
   "outputs": [],
   "source": [
    "experimentNumber = 8\n",
    "tiperf = 10\n",
    "nthreads = 4"
   ]
  },
  {
   "cell_type": "markdown",
   "id": "5d4809ed",
   "metadata": {},
   "source": [
    "The first line executes a command to terminate all iperf3 processes silently in h2, while the second line does the same for all Python 3 instances, capturing any output or errors into stdout and stderr respectively. "
   ]
  },
  {
   "cell_type": "code",
   "execution_count": 119,
   "id": "d0bc20c3",
   "metadata": {},
   "outputs": [],
   "source": [
    "#h2.execute(\"sudo killall iperf3\", quiet=True)\n",
    "stdout, stderr = h2.execute(\"sudo killall python3\", quiet=True)"
   ]
  },
  {
   "cell_type": "markdown",
   "id": "129af218",
   "metadata": {},
   "source": [
    "The Python code snippet launches an iperf3 server instance on \"h2\" in a separate thread. This is accomplished using a method called execute_thread, which likely allows the iperf3 -s command (indicating server mode) to run asynchronously, ensuring that the main program can continue executing other tasks without waiting for the iperf3 server process to finish."
   ]
  },
  {
   "cell_type": "code",
   "execution_count": 120,
   "id": "bbe8e4cc",
   "metadata": {},
   "outputs": [],
   "source": [
    "#iperf2 = h2.execute_thread(f\"iperf3 -s\")"
   ]
  },
  {
   "cell_type": "markdown",
   "id": "f3b91748",
   "metadata": {},
   "source": [
    "The Python code snippet launches a script named receive.py on \"h2\" using elevated privileges (sudo). The script is run asynchronously in a separate thread by the method execute_thread, allowing the main program to continue its execution without waiting for receive.py to complete."
   ]
  },
  {
   "cell_type": "code",
   "execution_count": 121,
   "id": "4b168438",
   "metadata": {},
   "outputs": [],
   "source": [
    "mriPacket_receive = h2.execute_thread(f\"sudo python3 receive.py\")"
   ]
  },
  {
   "cell_type": "markdown",
   "id": "a79c2cfa",
   "metadata": {},
   "source": [
    "The following cell orchestrates parallel network traffic captures across multiple devices—two hosts and two switches—using `tcpdump`, a command-line packet analyzer. Commands are executed asynchronously in separate threads to prevent blocking, enabling simultaneous captures on specified network interfaces for each device. For hosts `h1` and `h2`, and switches `s1` and `s2`, traffic is recorded on their respective interfaces, with each session outputting to a dedicated pcap file."
   ]
  },
  {
   "cell_type": "code",
   "execution_count": 122,
   "id": "4b7e8c0e",
   "metadata": {},
   "outputs": [
    {
     "name": "stdout",
     "output_type": "stream",
     "text": [
      "hosts\n",
      "s1\n",
      "s2\n"
     ]
    }
   ],
   "source": [
    "h1.execute_thread(f\"sudo tcpdump -i {h1_iface0_name} -w h1_0.pcap\")\n",
    "h2.execute_thread(f\"sudo tcpdump -i {h2_iface0_name} -w h2_0.pcap\")\n",
    "print(\"hosts\")\n",
    "s1.execute_thread(f\"sudo tcpdump -i {s1_iface1_name} -w s1_1.pcap\")\n",
    "s1.execute_thread(f\"sudo tcpdump -i {s1_iface2_name} -w s1_2.pcap\")\n",
    "print(\"s1\")\n",
    "s2.execute_thread(f\"sudo tcpdump -i {s2_iface1_name} -w s2_1.pcap\")\n",
    "s2.execute_thread(f\"sudo tcpdump -i {s2_iface2_name} -w s2_2.pcap\")\n",
    "print(\"s2\")"
   ]
  },
  {
   "cell_type": "markdown",
   "id": "e5aa5158",
   "metadata": {},
   "source": [
    "The code snippet initiates an asynchronous task on the host \"h1\" to execute a Python script named \"sendPacket.py\" using elevated privileges (`sudo`). This script send packets by passing three arguments: `1`, `2`, and `30`. The first one is represents the host that is sending the packet. The second argument, in this case \"2\", is the host destination. And the last argument represents the number of packes that are going to send."
   ]
  },
  {
   "cell_type": "code",
   "execution_count": 123,
   "id": "409f6407",
   "metadata": {},
   "outputs": [],
   "source": [
    "mriPacket_send = h1.execute_thread(f\"sudo python3 sendPacket.py 1 2 30\")"
   ]
  },
  {
   "cell_type": "markdown",
   "id": "0bc73bba",
   "metadata": {},
   "source": [
    "The sleep(10) function call in your code causes the program to pause or delay its execution for 10 seconds. "
   ]
  },
  {
   "cell_type": "code",
   "execution_count": 124,
   "id": "a05bb3fe",
   "metadata": {},
   "outputs": [],
   "source": [
    "sleep(10)"
   ]
  },
  {
   "cell_type": "markdown",
   "id": "d0c6171b",
   "metadata": {},
   "source": [
    "The Python code snippet runs a script named \"BgT_iperf.py\" on the host \"h1\", passing three arguments: h2_ip, tiperf, and nthreads. \"h2_ip\" represents the ip of the destination host. \"tiperf\" id the duration of the test in seconds, specified by the tiperf variable. Finally \"nthreads\" is the number of parallel client threads to use during the iperf test, specified by the nthreads variable."
   ]
  },
  {
   "cell_type": "code",
   "execution_count": 125,
   "id": "d8cddad7",
   "metadata": {},
   "outputs": [],
   "source": [
    "iperf_h1 = h1.execute(f\"python3 BgT_iperf.py {h2_ip} {tiperf} {nthreads}\",quiet=True)"
   ]
  },
  {
   "cell_type": "markdown",
   "id": "f48f2e95",
   "metadata": {},
   "source": [
    "The sleep(15) function call in your code causes the program to pause or delay its execution for 15 seconds. "
   ]
  },
  {
   "cell_type": "code",
   "execution_count": 126,
   "id": "773ef330",
   "metadata": {},
   "outputs": [],
   "source": [
    "sleep(15)"
   ]
  },
  {
   "cell_type": "markdown",
   "id": "5d9346ad",
   "metadata": {},
   "source": [
    "The code snippet processes the JSON output from an iperf network test, formats it for readability, and saves it to a file. It begins by parsing the JSON output stored in iperf_h1[0] into a Python dictionary. Then, it converts this dictionary back into a JSON-formatted string with indentation for clarity. Finally, it writes this formatted JSON data to a file named according to the experiment number, ensuring the results are neatly saved and organized."
   ]
  },
  {
   "cell_type": "code",
   "execution_count": 127,
   "id": "494a4a0e",
   "metadata": {},
   "outputs": [],
   "source": [
    "data_dict = json.loads(iperf_h1[0])\n",
    "json_data = json.dumps(data_dict, indent=4)\n",
    "with open(f'./graphs/data/exp{experimentNumber}.json', 'w') as file:\n",
    "    file.write(json_data)"
   ]
  },
  {
   "cell_type": "markdown",
   "id": "357e370f",
   "metadata": {},
   "source": [
    "The code snippet processes the output of the receive.py program, formats it for readability, and saves it to a file. "
   ]
  },
  {
   "cell_type": "code",
   "execution_count": 128,
   "id": "ad6cd2a9",
   "metadata": {},
   "outputs": [],
   "source": [
    "stdout, stderr = h2.execute(\"sudo killall python3\", quiet=True)\n",
    "hex_list = mriPacket_receive.result()[0].split('\\n')[1:-1]\n",
    "df = pd.DataFrame(hex_list, columns=['Values'])\n",
    "df.to_csv(f'./graphs/data/exp{experimentNumber}.csv', index=False)"
   ]
  },
  {
   "cell_type": "markdown",
   "id": "edd59aa0",
   "metadata": {},
   "source": [
    "The following lines executes a command to terminate all tcpdump processes silently in all the nodes of the experiment. "
   ]
  },
  {
   "cell_type": "code",
   "execution_count": 129,
   "id": "eab6d741",
   "metadata": {},
   "outputs": [],
   "source": [
    "stdout, stderr = h1.execute(\"sudo killall tcpdump\", quiet=True)\n",
    "stdout, stderr = h2.execute(\"sudo killall tcpdump\", quiet=True)\n",
    "stdout, stderr = s1.execute(\"sudo killall tcpdump\", quiet=True)\n",
    "stdout, stderr = s2.execute(\"sudo killall tcpdump\", quiet=True)"
   ]
  },
  {
   "cell_type": "markdown",
   "id": "de5ac3bc",
   "metadata": {},
   "source": [
    "The following code process the pcap output of each of the tcpdump commands and extract the values of the number of packets of each type and the size of bytes."
   ]
  },
  {
   "cell_type": "code",
   "execution_count": 130,
   "id": "18179bd3",
   "metadata": {},
   "outputs": [
    {
     "name": "stdout",
     "output_type": "stream",
     "text": [
      "[[30, 65, 65.0, 65], [3632, 46, 1486.8303964757708, 1490]]\n",
      "[[24, 81, 81.0, 81], [603, 46, 1470.9087893864014, 1490]]\n",
      "hosts\n",
      "[[30, 65, 65.0, 65], [3632, 56, 1486.84140969163, 1490]]\n",
      "[[23, 73, 73.0, 73], [603, 56, 1470.9751243781095, 1490]]\n",
      "s1\n",
      "[[24, 73, 73.0, 73], [603, 56, 1470.9751243781095, 1490]]\n",
      "[[24, 81, 81.0, 81], [603, 56, 1470.9751243781095, 1490]]\n",
      "s2\n"
     ]
    }
   ],
   "source": [
    "h1_0 = h1.execute(\"sudo python3 nPackets.py h1_0.pcap\")\n",
    "h2_0 = h2.execute(\"sudo python3 nPackets.py h2_0.pcap\")\n",
    "print(\"hosts\")\n",
    "s1_1 = s1.execute(\"sudo python3 nPackets.py s1_1.pcap\")\n",
    "s1_2 = s1.execute(\"sudo python3 nPackets.py s1_2.pcap\")\n",
    "print(\"s1\")\n",
    "s2_1 = s2.execute(\"sudo python3 nPackets.py s2_1.pcap\")\n",
    "s2_2 = s2.execute(\"sudo python3 nPackets.py s2_2.pcap\")\n",
    "print(\"s2\")"
   ]
  },
  {
   "cell_type": "markdown",
   "id": "8f15d47f",
   "metadata": {},
   "source": [
    "In the following code we are going to take the outputs of the cell above and store them in a pandas dataframe. "
   ]
  },
  {
   "cell_type": "code",
   "execution_count": 131,
   "id": "1f704912",
   "metadata": {},
   "outputs": [],
   "source": [
    "array_string = h1_0[0].strip()\n",
    "data = json.loads(array_string)\n",
    "dataframeh1_0 = pd.DataFrame(data).T\n",
    "dataframeh1_0.columns = ['h1_MRI', 'h1_iperf']\n",
    "\n",
    "array_string = h2_0[0].strip()\n",
    "data = json.loads(array_string)\n",
    "dataframeh2_0 = pd.DataFrame(data).T\n",
    "dataframeh2_0.columns = ['h2_MRI', 'h2_iperf']\n",
    "\n",
    "dataframe_hosts = pd.concat([dataframeh1_0, dataframeh2_0], axis=1)\n",
    "\n",
    "array_string = s1_1[0].strip()\n",
    "data = json.loads(array_string)\n",
    "dataframes1_1 = pd.DataFrame(data).T\n",
    "dataframes1_1.columns = ['s11_MRI', 's11_iperf']\n",
    "\n",
    "array_string = s1_2[0].strip()\n",
    "data = json.loads(array_string)\n",
    "dataframes1_2 = pd.DataFrame(data).T\n",
    "dataframes1_2.columns = ['s12_MRI', 's12_iperf']\n",
    "\n",
    "dataframe_s1 = pd.concat([dataframes1_1, dataframes1_2], axis=1)\n",
    "\n",
    "array_string = s2_1[0].strip()\n",
    "data = json.loads(array_string)\n",
    "dataframes2_1 = pd.DataFrame(data).T\n",
    "dataframes2_1.columns = ['s21_MRI', 's21_iperf']\n",
    "\n",
    "array_string = s2_2[0].strip()\n",
    "data = json.loads(array_string)\n",
    "dataframes2_2 = pd.DataFrame(data).T\n",
    "dataframes2_2.columns = ['s22_MRI', 's22_iperf']\n",
    "\n",
    "dataframe_s2 = pd.concat([dataframes2_1, dataframes2_2], axis=1)"
   ]
  },
  {
   "cell_type": "markdown",
   "id": "64bdf0f8",
   "metadata": {},
   "source": [
    "The code snippet saves data from three different DataFrames to CSV files, organizing the results of an experiment based on the experimentNumber variable."
   ]
  },
  {
   "cell_type": "code",
   "execution_count": 132,
   "id": "41cc4be6",
   "metadata": {},
   "outputs": [],
   "source": [
    "dataframe_hosts.to_csv(f'./graphs/data/exp{experimentNumber}_nH.csv', index=False)\n",
    "dataframe_s1.to_csv(f'./graphs/data/exp{experimentNumber}_nS1.csv', index=False)\n",
    "dataframe_s2.to_csv(f'./graphs/data/exp{experimentNumber}_nS2.csv', index=False)"
   ]
  },
  {
   "cell_type": "markdown",
   "id": "f62272ef",
   "metadata": {
    "jp-MarkdownHeadingCollapsed": true
   },
   "source": [
    "### Experiments 11-18 "
   ]
  },
  {
   "cell_type": "code",
   "execution_count": 133,
   "id": "4034e9e8",
   "metadata": {},
   "outputs": [
    {
     "name": "stdout",
     "output_type": "stream",
     "text": [
      "Obtaining JSON from switch...\n",
      "Done\n",
      "Control utility for runtime P4 table manipulation\n",
      "RuntimeCmd: RuntimeCmd: RuntimeCmd: \n",
      "Obtaining JSON from switch...\n",
      "Done\n",
      "Control utility for runtime P4 table manipulation\n",
      "RuntimeCmd: RuntimeCmd: RuntimeCmd: \n"
     ]
    },
    {
     "data": {
      "text/plain": [
       "('Obtaining JSON from switch...\\nDone\\nControl utility for runtime P4 table manipulation\\nRuntimeCmd: RuntimeCmd: RuntimeCmd: \\n',\n",
       " '')"
      ]
     },
     "execution_count": 133,
     "metadata": {},
     "output_type": "execute_result"
    }
   ],
   "source": [
    "s1.execute(\"simple_switch_CLI <<< $'set_queue_rate 25\\nset_queue_depth 50'\")\n",
    "s2.execute(\"simple_switch_CLI <<< $'set_queue_rate 25\\nset_queue_depth 50'\")"
   ]
  },
  {
   "cell_type": "markdown",
   "id": "9a9ff745",
   "metadata": {
    "jp-MarkdownHeadingCollapsed": true
   },
   "source": [
    "#### Experiment 11 "
   ]
  },
  {
   "cell_type": "markdown",
   "id": "7cd51447",
   "metadata": {},
   "source": [
    "To execute this experiment, we need to set the \"set_queue_depth\" value for the switches to 50 and the \"set_queue_rate\" to 25. A single thread of traffic will be sent using iperf for a duration of 15 seconds. Below, you can see an image depicting the traffic that will be sent. "
   ]
  },
  {
   "attachments": {
    "92802c8a-9d6d-44b3-a32f-8dd00cafb1ed.jpg": {
     "image/jpeg": "[encoded data removed]"
    }
   },
   "cell_type": "markdown",
   "id": "85311702",
   "metadata": {},
   "source": [
    "![exp1X.jpg](attachment:92802c8a-9d6d-44b3-a32f-8dd00cafb1ed.jpg)"
   ]
  },
  {
   "cell_type": "markdown",
   "id": "40d294b9",
   "metadata": {},
   "source": [
    "In the code snippet, three variables are set up for a configuration or script that appears to be preparing for a network performance testing scenario:\n",
    "\n",
    "- experimentNumber: This variable likely indicates a identifier for the experiment.\n",
    "\n",
    "- tiperf: This variable specifies the duration in seconds for the iperf3 command. \n",
    "\n",
    "- nthreads: This variable defines the number of parallel client threads to be used in the test. \n",
    "\n",
    "These variables are essential for controlling the parameters of a network testing session, allowing for precise adjustments to the testing environment based on the needs of the experiment or the specifics of the network being tested."
   ]
  },
  {
   "cell_type": "code",
   "execution_count": 134,
   "id": "ff5db763",
   "metadata": {},
   "outputs": [],
   "source": [
    "experimentNumber = 11\n",
    "tiperf = 15\n",
    "nthreads = 1"
   ]
  },
  {
   "cell_type": "markdown",
   "id": "6c4361d0",
   "metadata": {},
   "source": [
    "The first line executes a command to terminate all iperf3 processes silently in h2, while the second line does the same for all Python 3 instances, capturing any output or errors into stdout and stderr respectively. "
   ]
  },
  {
   "cell_type": "code",
   "execution_count": 135,
   "id": "b39a9e3d",
   "metadata": {},
   "outputs": [],
   "source": [
    "#h2.execute(\"sudo killall iperf3\", quiet=True)\n",
    "stdout, stderr = h2.execute(\"sudo killall python3\", quiet=True)"
   ]
  },
  {
   "cell_type": "markdown",
   "id": "851d407f",
   "metadata": {},
   "source": [
    "The Python code snippet launches an iperf3 server instance on \"h2\" in a separate thread. This is accomplished using a method called execute_thread, which likely allows the iperf3 -s command (indicating server mode) to run asynchronously, ensuring that the main program can continue executing other tasks without waiting for the iperf3 server process to finish."
   ]
  },
  {
   "cell_type": "code",
   "execution_count": 136,
   "id": "e48bed3e",
   "metadata": {},
   "outputs": [],
   "source": [
    "#iperf2 = h2.execute_thread(f\"iperf3 -s\")"
   ]
  },
  {
   "cell_type": "markdown",
   "id": "62c2e7f4",
   "metadata": {},
   "source": [
    "The Python code snippet launches a script named receive.py on \"h2\" using elevated privileges (sudo). The script is run asynchronously in a separate thread by the method execute_thread, allowing the main program to continue its execution without waiting for receive.py to complete."
   ]
  },
  {
   "cell_type": "code",
   "execution_count": 137,
   "id": "07fb84f6",
   "metadata": {},
   "outputs": [],
   "source": [
    "mriPacket_receive = h2.execute_thread(f\"sudo python3 receive.py\")"
   ]
  },
  {
   "cell_type": "markdown",
   "id": "7b2f6a0d",
   "metadata": {},
   "source": [
    "The following cell orchestrates parallel network traffic captures across multiple devices—two hosts and two switches—using `tcpdump`, a command-line packet analyzer. Commands are executed asynchronously in separate threads to prevent blocking, enabling simultaneous captures on specified network interfaces for each device. For hosts `h1` and `h2`, and switches `s1` and `s2`, traffic is recorded on their respective interfaces, with each session outputting to a dedicated pcap file."
   ]
  },
  {
   "cell_type": "code",
   "execution_count": 138,
   "id": "0a6e7097",
   "metadata": {},
   "outputs": [
    {
     "name": "stdout",
     "output_type": "stream",
     "text": [
      "hosts\n",
      "s1\n",
      "s2\n"
     ]
    }
   ],
   "source": [
    "h1.execute_thread(f\"sudo tcpdump -i {h1_iface0_name} -w h1_0.pcap\")\n",
    "h2.execute_thread(f\"sudo tcpdump -i {h2_iface0_name} -w h2_0.pcap\")\n",
    "print(\"hosts\")\n",
    "s1.execute_thread(f\"sudo tcpdump -i {s1_iface1_name} -w s1_1.pcap\")\n",
    "s1.execute_thread(f\"sudo tcpdump -i {s1_iface2_name} -w s1_2.pcap\")\n",
    "print(\"s1\")\n",
    "s2.execute_thread(f\"sudo tcpdump -i {s2_iface1_name} -w s2_1.pcap\")\n",
    "s2.execute_thread(f\"sudo tcpdump -i {s2_iface2_name} -w s2_2.pcap\")\n",
    "print(\"s2\")"
   ]
  },
  {
   "cell_type": "markdown",
   "id": "ce041201",
   "metadata": {},
   "source": [
    "The code snippet initiates an asynchronous task on the host \"h1\" to execute a Python script named \"sendPacket.py\" using elevated privileges (`sudo`). This script send packets by passing three arguments: `1`, `2`, and `30`. The first one is represents the host that is sending the packet. The second argument, in this case \"2\", is the host destination. And the last argument represents the number of packes that are going to send."
   ]
  },
  {
   "cell_type": "code",
   "execution_count": 139,
   "id": "d2303d2a",
   "metadata": {},
   "outputs": [],
   "source": [
    "mriPacket_send = h1.execute_thread(f\"sudo python3 sendPacket.py 1 2 30\")"
   ]
  },
  {
   "cell_type": "markdown",
   "id": "1d7c0efb",
   "metadata": {},
   "source": [
    "The sleep(10) function call in your code causes the program to pause or delay its execution for 10 seconds. "
   ]
  },
  {
   "cell_type": "code",
   "execution_count": 140,
   "id": "12c465f5",
   "metadata": {},
   "outputs": [],
   "source": [
    "sleep(10)"
   ]
  },
  {
   "cell_type": "markdown",
   "id": "32c435c9",
   "metadata": {},
   "source": [
    "The Python code snippet runs a script named \"BgT_iperf.py\" on the host \"h1\", passing three arguments: h2_ip, tiperf, and nthreads. \"h2_ip\" represents the ip of the destination host. \"tiperf\" id the duration of the test in seconds, specified by the tiperf variable. Finally \"nthreads\" is the number of parallel client threads to use during the iperf test, specified by the nthreads variable."
   ]
  },
  {
   "cell_type": "code",
   "execution_count": 141,
   "id": "b2e8ae86",
   "metadata": {},
   "outputs": [],
   "source": [
    "iperf_h1 = h1.execute(f\"python3 BgT_iperf.py {h2_ip} {tiperf} {nthreads}\",quiet=True)"
   ]
  },
  {
   "cell_type": "markdown",
   "id": "1cd249fc",
   "metadata": {},
   "source": [
    "The sleep(10) function call in your code causes the program to pause or delay its execution for 10 seconds. "
   ]
  },
  {
   "cell_type": "code",
   "execution_count": 142,
   "id": "86579e81",
   "metadata": {},
   "outputs": [],
   "source": [
    "sleep(10)"
   ]
  },
  {
   "cell_type": "markdown",
   "id": "c989e4fe",
   "metadata": {},
   "source": [
    "The code snippet processes the JSON output from an iperf network test, formats it for readability, and saves it to a file. It begins by parsing the JSON output stored in iperf_h1[0] into a Python dictionary. Then, it converts this dictionary back into a JSON-formatted string with indentation for clarity. Finally, it writes this formatted JSON data to a file named according to the experiment number, ensuring the results are neatly saved and organized."
   ]
  },
  {
   "cell_type": "code",
   "execution_count": 143,
   "id": "6380ada9",
   "metadata": {},
   "outputs": [],
   "source": [
    "data_dict = json.loads(iperf_h1[0])\n",
    "json_data = json.dumps(data_dict, indent=4)\n",
    "with open(f'./graphs/data/exp{experimentNumber}.json', 'w') as file:\n",
    "    file.write(json_data)"
   ]
  },
  {
   "cell_type": "markdown",
   "id": "feacf307",
   "metadata": {},
   "source": [
    "The code snippet processes the output of the receive.py program, formats it for readability, and saves it to a file. "
   ]
  },
  {
   "cell_type": "code",
   "execution_count": 144,
   "id": "ac624301",
   "metadata": {},
   "outputs": [],
   "source": [
    "stdout, stderr = h2.execute(\"sudo killall python3\", quiet=True)\n",
    "hex_list = mriPacket_receive.result()[0].split('\\n')[1:-1]\n",
    "df = pd.DataFrame(hex_list, columns=['Values'])\n",
    "df.to_csv(f'./graphs/data/exp{experimentNumber}.csv', index=False)"
   ]
  },
  {
   "cell_type": "markdown",
   "id": "d8f5d48a",
   "metadata": {},
   "source": [
    "The following lines executes a command to terminate all tcpdump processes silently in all the nodes of the experiment. "
   ]
  },
  {
   "cell_type": "code",
   "execution_count": 145,
   "id": "14ee58b8",
   "metadata": {},
   "outputs": [],
   "source": [
    "stdout, stderr = h1.execute(\"sudo killall tcpdump\", quiet=True)\n",
    "stdout, stderr = h2.execute(\"sudo killall tcpdump\", quiet=True)\n",
    "stdout, stderr = s1.execute(\"sudo killall tcpdump\", quiet=True)\n",
    "stdout, stderr = s2.execute(\"sudo killall tcpdump\", quiet=True)"
   ]
  },
  {
   "cell_type": "markdown",
   "id": "71c758fd",
   "metadata": {},
   "source": [
    "The following code process the pcap output of each of the tcpdump commands and extract the values of the number of packets of each type and the size of bytes."
   ]
  },
  {
   "cell_type": "code",
   "execution_count": 146,
   "id": "0be3a164",
   "metadata": {},
   "outputs": [
    {
     "name": "stdout",
     "output_type": "stream",
     "text": [
      "[[30, 65, 65.0, 65], [1360, 46, 1487.8838235294118, 1490]]\n",
      "[[16, 81, 81.0, 81], [425, 46, 1483.2282352941177, 1490]]\n",
      "hosts\n",
      "[[30, 65, 65.0, 65], [1360, 56, 1487.8911764705883, 1490]]\n",
      "[[16, 73, 73.0, 73], [425, 56, 1483.2517647058824, 1490]]\n",
      "s1\n",
      "[[16, 73, 73.0, 73], [425, 56, 1483.2517647058824, 1490]]\n",
      "[[16, 81, 81.0, 81], [425, 56, 1483.2517647058824, 1490]]\n",
      "s2\n"
     ]
    }
   ],
   "source": [
    "h1_0 = h1.execute(\"sudo python3 nPackets.py h1_0.pcap\")\n",
    "h2_0 = h2.execute(\"sudo python3 nPackets.py h2_0.pcap\")\n",
    "print(\"hosts\")\n",
    "s1_1 = s1.execute(\"sudo python3 nPackets.py s1_1.pcap\")\n",
    "s1_2 = s1.execute(\"sudo python3 nPackets.py s1_2.pcap\")\n",
    "print(\"s1\")\n",
    "s2_1 = s2.execute(\"sudo python3 nPackets.py s2_1.pcap\")\n",
    "s2_2 = s2.execute(\"sudo python3 nPackets.py s2_2.pcap\")\n",
    "print(\"s2\")"
   ]
  },
  {
   "cell_type": "markdown",
   "id": "3ce26b3b",
   "metadata": {},
   "source": [
    "In the following code we are going to take the outputs of the cell above and store them in a pandas dataframe. "
   ]
  },
  {
   "cell_type": "code",
   "execution_count": 147,
   "id": "831cd869",
   "metadata": {},
   "outputs": [],
   "source": [
    "array_string = h1_0[0].strip()\n",
    "data = json.loads(array_string)\n",
    "dataframeh1_0 = pd.DataFrame(data).T\n",
    "dataframeh1_0.columns = ['h1_MRI', 'h1_iperf']\n",
    "\n",
    "array_string = h2_0[0].strip()\n",
    "data = json.loads(array_string)\n",
    "dataframeh2_0 = pd.DataFrame(data).T\n",
    "dataframeh2_0.columns = ['h2_MRI', 'h2_iperf']\n",
    "\n",
    "dataframe_hosts = pd.concat([dataframeh1_0, dataframeh2_0], axis=1)\n",
    "\n",
    "array_string = s1_1[0].strip()\n",
    "data = json.loads(array_string)\n",
    "dataframes1_1 = pd.DataFrame(data).T\n",
    "dataframes1_1.columns = ['s11_MRI', 's11_iperf']\n",
    "\n",
    "array_string = s1_2[0].strip()\n",
    "data = json.loads(array_string)\n",
    "dataframes1_2 = pd.DataFrame(data).T\n",
    "dataframes1_2.columns = ['s12_MRI', 's12_iperf']\n",
    "\n",
    "dataframe_s1 = pd.concat([dataframes1_1, dataframes1_2], axis=1)\n",
    "\n",
    "array_string = s2_1[0].strip()\n",
    "data = json.loads(array_string)\n",
    "dataframes2_1 = pd.DataFrame(data).T\n",
    "dataframes2_1.columns = ['s21_MRI', 's21_iperf']\n",
    "\n",
    "array_string = s2_2[0].strip()\n",
    "data = json.loads(array_string)\n",
    "dataframes2_2 = pd.DataFrame(data).T\n",
    "dataframes2_2.columns = ['s22_MRI', 's22_iperf']\n",
    "\n",
    "dataframe_s2 = pd.concat([dataframes2_1, dataframes2_2], axis=1)"
   ]
  },
  {
   "cell_type": "markdown",
   "id": "d417b47d",
   "metadata": {},
   "source": [
    "The code snippet saves data from three different DataFrames to CSV files, organizing the results of an experiment based on the experimentNumber variable."
   ]
  },
  {
   "cell_type": "code",
   "execution_count": 148,
   "id": "5cb864bf",
   "metadata": {},
   "outputs": [],
   "source": [
    "dataframe_hosts.to_csv(f'./graphs/data/exp{experimentNumber}_nH.csv', index=False)\n",
    "dataframe_s1.to_csv(f'./graphs/data/exp{experimentNumber}_nS1.csv', index=False)\n",
    "dataframe_s2.to_csv(f'./graphs/data/exp{experimentNumber}_nS2.csv', index=False)"
   ]
  },
  {
   "cell_type": "markdown",
   "id": "77c69e7f",
   "metadata": {
    "jp-MarkdownHeadingCollapsed": true
   },
   "source": [
    "#### Experiment 12"
   ]
  },
  {
   "cell_type": "markdown",
   "id": "d390217f",
   "metadata": {},
   "source": [
    "To execute this experiment, we need to set the \"set_queue_depth\" value for the switches to 50 and the \"set_queue_rate\" to 25. Two threads of traffic will be sent using iperf for a duration of 15 seconds. Below, you can see an image depicting the traffic that will be sent. "
   ]
  },
  {
   "attachments": {
    "6fe0cdc4-fc31-4962-8930-dbce4fc435f2.jpg": {
     "image/jpeg": "[encoded data removed]"
    }
   },
   "cell_type": "markdown",
   "id": "adf35648",
   "metadata": {},
   "source": [
    "![exp2X.jpg](attachment:6fe0cdc4-fc31-4962-8930-dbce4fc435f2.jpg)"
   ]
  },
  {
   "cell_type": "markdown",
   "id": "01001ea0",
   "metadata": {},
   "source": [
    "In the code snippet, three variables are set up for a configuration or script that appears to be preparing for a network performance testing scenario:\n",
    "\n",
    "- experimentNumber: This variable likely indicates a identifier for the experiment.\n",
    "\n",
    "- tiperf: This variable specifies the duration in seconds for the iperf3 command. \n",
    "\n",
    "- nthreads: This variable defines the number of parallel client threads to be used in the test. \n",
    "\n",
    "These variables are essential for controlling the parameters of a network testing session, allowing for precise adjustments to the testing environment based on the needs of the experiment or the specifics of the network being tested."
   ]
  },
  {
   "cell_type": "code",
   "execution_count": 149,
   "id": "9800d1da",
   "metadata": {},
   "outputs": [],
   "source": [
    "experimentNumber = 12\n",
    "tiperf = 15\n",
    "nthreads = 2"
   ]
  },
  {
   "cell_type": "markdown",
   "id": "6886d949",
   "metadata": {},
   "source": [
    "The first line executes a command to terminate all iperf3 processes silently in h2, while the second line does the same for all Python 3 instances, capturing any output or errors into stdout and stderr respectively. "
   ]
  },
  {
   "cell_type": "code",
   "execution_count": 150,
   "id": "fb90ab1e",
   "metadata": {},
   "outputs": [],
   "source": [
    "#h2.execute(\"sudo killall iperf3\", quiet=True)\n",
    "stdout, stderr = h2.execute(\"sudo killall python3\", quiet=True)"
   ]
  },
  {
   "cell_type": "markdown",
   "id": "a642b6b1",
   "metadata": {},
   "source": [
    "The Python code snippet launches an iperf3 server instance on \"h2\" in a separate thread. This is accomplished using a method called execute_thread, which likely allows the iperf3 -s command (indicating server mode) to run asynchronously, ensuring that the main program can continue executing other tasks without waiting for the iperf3 server process to finish."
   ]
  },
  {
   "cell_type": "code",
   "execution_count": 151,
   "id": "3ba7a3c0",
   "metadata": {},
   "outputs": [],
   "source": [
    "#iperf2 = h2.execute_thread(f\"iperf3 -s\")"
   ]
  },
  {
   "cell_type": "markdown",
   "id": "f1e4a571",
   "metadata": {},
   "source": [
    "The Python code snippet launches a script named receive.py on \"h2\" using elevated privileges (sudo). The script is run asynchronously in a separate thread by the method execute_thread, allowing the main program to continue its execution without waiting for receive.py to complete."
   ]
  },
  {
   "cell_type": "code",
   "execution_count": 152,
   "id": "c0212b73",
   "metadata": {},
   "outputs": [],
   "source": [
    "mriPacket_receive = h2.execute_thread(f\"sudo python3 receive.py\")"
   ]
  },
  {
   "cell_type": "markdown",
   "id": "99849cba",
   "metadata": {},
   "source": [
    "The following cell orchestrates parallel network traffic captures across multiple devices—two hosts and two switches—using `tcpdump`, a command-line packet analyzer. Commands are executed asynchronously in separate threads to prevent blocking, enabling simultaneous captures on specified network interfaces for each device. For hosts `h1` and `h2`, and switches `s1` and `s2`, traffic is recorded on their respective interfaces, with each session outputting to a dedicated pcap file."
   ]
  },
  {
   "cell_type": "code",
   "execution_count": 153,
   "id": "e106c738",
   "metadata": {},
   "outputs": [
    {
     "name": "stdout",
     "output_type": "stream",
     "text": [
      "hosts\n",
      "s1\n",
      "s2\n"
     ]
    }
   ],
   "source": [
    "h1.execute_thread(f\"sudo tcpdump -i {h1_iface0_name} -w h1_0.pcap\")\n",
    "h2.execute_thread(f\"sudo tcpdump -i {h2_iface0_name} -w h2_0.pcap\")\n",
    "print(\"hosts\")\n",
    "s1.execute_thread(f\"sudo tcpdump -i {s1_iface1_name} -w s1_1.pcap\")\n",
    "s1.execute_thread(f\"sudo tcpdump -i {s1_iface2_name} -w s1_2.pcap\")\n",
    "print(\"s1\")\n",
    "s2.execute_thread(f\"sudo tcpdump -i {s2_iface1_name} -w s2_1.pcap\")\n",
    "s2.execute_thread(f\"sudo tcpdump -i {s2_iface2_name} -w s2_2.pcap\")\n",
    "print(\"s2\")"
   ]
  },
  {
   "cell_type": "markdown",
   "id": "d7968dc6",
   "metadata": {},
   "source": [
    "The code snippet initiates an asynchronous task on the host \"h1\" to execute a Python script named \"sendPacket.py\" using elevated privileges (`sudo`). This script send packets by passing three arguments: `1`, `2`, and `30`. The first one is represents the host that is sending the packet. The second argument, in this case \"2\", is the host destination. And the last argument represents the number of packes that are going to send."
   ]
  },
  {
   "cell_type": "code",
   "execution_count": 154,
   "id": "513852bb",
   "metadata": {},
   "outputs": [],
   "source": [
    "mriPacket_send = h1.execute_thread(f\"sudo python3 sendPacket.py 1 2 30\")"
   ]
  },
  {
   "cell_type": "markdown",
   "id": "8de25d7e",
   "metadata": {},
   "source": [
    "The sleep(10) function call in your code causes the program to pause or delay its execution for 10 seconds. "
   ]
  },
  {
   "cell_type": "code",
   "execution_count": 155,
   "id": "1b744788",
   "metadata": {},
   "outputs": [],
   "source": [
    "sleep(10)"
   ]
  },
  {
   "cell_type": "markdown",
   "id": "f444bf02",
   "metadata": {},
   "source": [
    "The Python code snippet runs a script named \"BgT_iperf.py\" on the host \"h1\", passing three arguments: h2_ip, tiperf, and nthreads. \"h2_ip\" represents the ip of the destination host. \"tiperf\" id the duration of the test in seconds, specified by the tiperf variable. Finally \"nthreads\" is the number of parallel client threads to use during the iperf test, specified by the nthreads variable."
   ]
  },
  {
   "cell_type": "code",
   "execution_count": 156,
   "id": "503ae93d",
   "metadata": {},
   "outputs": [],
   "source": [
    "iperf_h1 = h1.execute(f\"python3 BgT_iperf.py {h2_ip} {tiperf} {nthreads}\",quiet=True)"
   ]
  },
  {
   "cell_type": "markdown",
   "id": "1b6ca4ca",
   "metadata": {},
   "source": [
    "The sleep(10) function call in your code causes the program to pause or delay its execution for 10 seconds. "
   ]
  },
  {
   "cell_type": "code",
   "execution_count": 157,
   "id": "5f373d63",
   "metadata": {},
   "outputs": [],
   "source": [
    "sleep(10)"
   ]
  },
  {
   "cell_type": "markdown",
   "id": "9460fc45",
   "metadata": {},
   "source": [
    "The code snippet processes the JSON output from an iperf network test, formats it for readability, and saves it to a file. It begins by parsing the JSON output stored in iperf_h1[0] into a Python dictionary. Then, it converts this dictionary back into a JSON-formatted string with indentation for clarity. Finally, it writes this formatted JSON data to a file named according to the experiment number, ensuring the results are neatly saved and organized."
   ]
  },
  {
   "cell_type": "code",
   "execution_count": 158,
   "id": "8ec1fe17",
   "metadata": {},
   "outputs": [],
   "source": [
    "data_dict = json.loads(iperf_h1[0])\n",
    "json_data = json.dumps(data_dict, indent=4)\n",
    "with open(f'./graphs/data/exp{experimentNumber}.json', 'w') as file:\n",
    "    file.write(json_data)"
   ]
  },
  {
   "cell_type": "markdown",
   "id": "d0fa17a3",
   "metadata": {},
   "source": [
    "The code snippet processes the output of the receive.py program, formats it for readability, and saves it to a file. "
   ]
  },
  {
   "cell_type": "code",
   "execution_count": 159,
   "id": "605a4fa3",
   "metadata": {},
   "outputs": [],
   "source": [
    "stdout, stderr = h2.execute(\"sudo killall python3\", quiet=True)\n",
    "hex_list = mriPacket_receive.result()[0].split('\\n')[1:-1]\n",
    "df = pd.DataFrame(hex_list, columns=['Values'])\n",
    "df.to_csv(f'./graphs/data/exp{experimentNumber}.csv', index=False)"
   ]
  },
  {
   "cell_type": "markdown",
   "id": "2aed32c0",
   "metadata": {},
   "source": [
    "The following lines executes a command to terminate all tcpdump processes silently in all the nodes of the experiment. "
   ]
  },
  {
   "cell_type": "code",
   "execution_count": 160,
   "id": "6328e4ca",
   "metadata": {},
   "outputs": [],
   "source": [
    "stdout, stderr = h1.execute(\"sudo killall tcpdump\", quiet=True)\n",
    "stdout, stderr = h2.execute(\"sudo killall tcpdump\", quiet=True)\n",
    "stdout, stderr = s1.execute(\"sudo killall tcpdump\", quiet=True)\n",
    "stdout, stderr = s2.execute(\"sudo killall tcpdump\", quiet=True)"
   ]
  },
  {
   "cell_type": "markdown",
   "id": "1f133bda",
   "metadata": {},
   "source": [
    "The following code process the pcap output of each of the tcpdump commands and extract the values of the number of packets of each type and the size of bytes."
   ]
  },
  {
   "cell_type": "code",
   "execution_count": 161,
   "id": "4a39bef8",
   "metadata": {},
   "outputs": [
    {
     "name": "stdout",
     "output_type": "stream",
     "text": [
      "[[29, 65, 65.0, 65], [2720, 46, 1487.8838235294118, 1490]]\n",
      "[[20, 81, 81.0, 81], [422, 46, 1476.3601895734598, 1490]]\n",
      "hosts\n",
      "[[30, 65, 65.0, 65], [2720, 56, 1487.8911764705883, 1490]]\n",
      "[[19, 73, 73.0, 73], [422, 56, 1476.4075829383887, 1490]]\n",
      "s1\n",
      "[[19, 73, 73.0, 73], [422, 56, 1476.4075829383887, 1490]]\n",
      "[[19, 81, 81.0, 81], [422, 56, 1476.4075829383887, 1490]]\n",
      "s2\n"
     ]
    }
   ],
   "source": [
    "h1_0 = h1.execute(\"sudo python3 nPackets.py h1_0.pcap\")\n",
    "h2_0 = h2.execute(\"sudo python3 nPackets.py h2_0.pcap\")\n",
    "print(\"hosts\")\n",
    "s1_1 = s1.execute(\"sudo python3 nPackets.py s1_1.pcap\")\n",
    "s1_2 = s1.execute(\"sudo python3 nPackets.py s1_2.pcap\")\n",
    "print(\"s1\")\n",
    "s2_1 = s2.execute(\"sudo python3 nPackets.py s2_1.pcap\")\n",
    "s2_2 = s2.execute(\"sudo python3 nPackets.py s2_2.pcap\")\n",
    "print(\"s2\")"
   ]
  },
  {
   "cell_type": "markdown",
   "id": "4623b469",
   "metadata": {},
   "source": [
    "In the following code we are going to take the outputs of the cell above and store them in a pandas dataframe. "
   ]
  },
  {
   "cell_type": "code",
   "execution_count": 162,
   "id": "b5712bcf",
   "metadata": {},
   "outputs": [],
   "source": [
    "array_string = h1_0[0].strip()\n",
    "data = json.loads(array_string)\n",
    "dataframeh1_0 = pd.DataFrame(data).T\n",
    "dataframeh1_0.columns = ['h1_MRI', 'h1_iperf']\n",
    "\n",
    "array_string = h2_0[0].strip()\n",
    "data = json.loads(array_string)\n",
    "dataframeh2_0 = pd.DataFrame(data).T\n",
    "dataframeh2_0.columns = ['h2_MRI', 'h2_iperf']\n",
    "\n",
    "dataframe_hosts = pd.concat([dataframeh1_0, dataframeh2_0], axis=1)\n",
    "\n",
    "array_string = s1_1[0].strip()\n",
    "data = json.loads(array_string)\n",
    "dataframes1_1 = pd.DataFrame(data).T\n",
    "dataframes1_1.columns = ['s11_MRI', 's11_iperf']\n",
    "\n",
    "array_string = s1_2[0].strip()\n",
    "data = json.loads(array_string)\n",
    "dataframes1_2 = pd.DataFrame(data).T\n",
    "dataframes1_2.columns = ['s12_MRI', 's12_iperf']\n",
    "\n",
    "dataframe_s1 = pd.concat([dataframes1_1, dataframes1_2], axis=1)\n",
    "\n",
    "array_string = s2_1[0].strip()\n",
    "data = json.loads(array_string)\n",
    "dataframes2_1 = pd.DataFrame(data).T\n",
    "dataframes2_1.columns = ['s21_MRI', 's21_iperf']\n",
    "\n",
    "array_string = s2_2[0].strip()\n",
    "data = json.loads(array_string)\n",
    "dataframes2_2 = pd.DataFrame(data).T\n",
    "dataframes2_2.columns = ['s22_MRI', 's22_iperf']\n",
    "\n",
    "dataframe_s2 = pd.concat([dataframes2_1, dataframes2_2], axis=1)"
   ]
  },
  {
   "cell_type": "markdown",
   "id": "0b187a8c",
   "metadata": {},
   "source": [
    "The code snippet saves data from three different DataFrames to CSV files, organizing the results of an experiment based on the experimentNumber variable."
   ]
  },
  {
   "cell_type": "code",
   "execution_count": 163,
   "id": "959bf7aa",
   "metadata": {},
   "outputs": [],
   "source": [
    "dataframe_hosts.to_csv(f'./graphs/data/exp{experimentNumber}_nH.csv', index=False)\n",
    "dataframe_s1.to_csv(f'./graphs/data/exp{experimentNumber}_nS1.csv', index=False)\n",
    "dataframe_s2.to_csv(f'./graphs/data/exp{experimentNumber}_nS2.csv', index=False)"
   ]
  },
  {
   "cell_type": "markdown",
   "id": "99974020",
   "metadata": {
    "jp-MarkdownHeadingCollapsed": true
   },
   "source": [
    "#### Experiment 13"
   ]
  },
  {
   "cell_type": "markdown",
   "id": "20199260",
   "metadata": {},
   "source": [
    "To execute this experiment, we need to set the \"set_queue_depth\" value for the switches to 50 and the \"set_queue_rate\" to 25. Three threads of traffic will be sent using iperf for a duration of 15 seconds. Below, you can see an image depicting the traffic that will be sent. "
   ]
  },
  {
   "attachments": {
    "995f444c-b778-45da-a83f-06c09423b3fa.jpg": {
     "image/jpeg": "[encoded data removed]"
    }
   },
   "cell_type": "markdown",
   "id": "33205325",
   "metadata": {},
   "source": [
    "![exp3X.jpg](attachment:995f444c-b778-45da-a83f-06c09423b3fa.jpg)"
   ]
  },
  {
   "cell_type": "markdown",
   "id": "dd275095",
   "metadata": {},
   "source": [
    "In the code snippet, three variables are set up for a configuration or script that appears to be preparing for a network performance testing scenario:\n",
    "\n",
    "- experimentNumber: This variable likely indicates a identifier for the experiment.\n",
    "\n",
    "- tiperf: This variable specifies the duration in seconds for the iperf3 command. \n",
    "\n",
    "- nthreads: This variable defines the number of parallel client threads to be used in the test. \n",
    "\n",
    "These variables are essential for controlling the parameters of a network testing session, allowing for precise adjustments to the testing environment based on the needs of the experiment or the specifics of the network being tested."
   ]
  },
  {
   "cell_type": "code",
   "execution_count": 164,
   "id": "0aa72d27",
   "metadata": {},
   "outputs": [],
   "source": [
    "experimentNumber = 13\n",
    "tiperf = 15\n",
    "nthreads = 3"
   ]
  },
  {
   "cell_type": "markdown",
   "id": "a3143fa9",
   "metadata": {},
   "source": [
    "The first line executes a command to terminate all iperf3 processes silently in h2, while the second line does the same for all Python 3 instances, capturing any output or errors into stdout and stderr respectively. "
   ]
  },
  {
   "cell_type": "code",
   "execution_count": 165,
   "id": "cb4808f7",
   "metadata": {},
   "outputs": [],
   "source": [
    "#h2.execute(\"sudo killall iperf3\", quiet=True)\n",
    "stdout, stderr = h2.execute(\"sudo killall python3\", quiet=True)"
   ]
  },
  {
   "cell_type": "markdown",
   "id": "9c6d0596",
   "metadata": {},
   "source": [
    "The Python code snippet launches an iperf3 server instance on \"h2\" in a separate thread. This is accomplished using a method called execute_thread, which likely allows the iperf3 -s command (indicating server mode) to run asynchronously, ensuring that the main program can continue executing other tasks without waiting for the iperf3 server process to finish."
   ]
  },
  {
   "cell_type": "code",
   "execution_count": 166,
   "id": "42ba7310",
   "metadata": {},
   "outputs": [],
   "source": [
    "#iperf2 = h2.execute_thread(f\"iperf3 -s\")"
   ]
  },
  {
   "cell_type": "markdown",
   "id": "a84eb3e4",
   "metadata": {},
   "source": [
    "The Python code snippet launches a script named receive.py on \"h2\" using elevated privileges (sudo). The script is run asynchronously in a separate thread by the method execute_thread, allowing the main program to continue its execution without waiting for receive.py to complete."
   ]
  },
  {
   "cell_type": "code",
   "execution_count": 167,
   "id": "5894e4e7",
   "metadata": {},
   "outputs": [],
   "source": [
    "mriPacket_receive = h2.execute_thread(f\"sudo python3 receive.py\")"
   ]
  },
  {
   "cell_type": "markdown",
   "id": "197b6543",
   "metadata": {},
   "source": [
    "The following cell orchestrates parallel network traffic captures across multiple devices—two hosts and two switches—using `tcpdump`, a command-line packet analyzer. Commands are executed asynchronously in separate threads to prevent blocking, enabling simultaneous captures on specified network interfaces for each device. For hosts `h1` and `h2`, and switches `s1` and `s2`, traffic is recorded on their respective interfaces, with each session outputting to a dedicated pcap file."
   ]
  },
  {
   "cell_type": "code",
   "execution_count": 168,
   "id": "0ddc5ce4",
   "metadata": {},
   "outputs": [
    {
     "name": "stdout",
     "output_type": "stream",
     "text": [
      "hosts\n",
      "s1\n",
      "s2\n"
     ]
    }
   ],
   "source": [
    "h1.execute_thread(f\"sudo tcpdump -i {h1_iface0_name} -w h1_0.pcap\")\n",
    "h2.execute_thread(f\"sudo tcpdump -i {h2_iface0_name} -w h2_0.pcap\")\n",
    "print(\"hosts\")\n",
    "s1.execute_thread(f\"sudo tcpdump -i {s1_iface1_name} -w s1_1.pcap\")\n",
    "s1.execute_thread(f\"sudo tcpdump -i {s1_iface2_name} -w s1_2.pcap\")\n",
    "print(\"s1\")\n",
    "s2.execute_thread(f\"sudo tcpdump -i {s2_iface1_name} -w s2_1.pcap\")\n",
    "s2.execute_thread(f\"sudo tcpdump -i {s2_iface2_name} -w s2_2.pcap\")\n",
    "print(\"s2\")"
   ]
  },
  {
   "cell_type": "markdown",
   "id": "08b9b9bd",
   "metadata": {},
   "source": [
    "The code snippet initiates an asynchronous task on the host \"h1\" to execute a Python script named \"sendPacket.py\" using elevated privileges (`sudo`). This script send packets by passing three arguments: `1`, `2`, and `30`. The first one is represents the host that is sending the packet. The second argument, in this case \"2\", is the host destination. And the last argument represents the number of packes that are going to send."
   ]
  },
  {
   "cell_type": "code",
   "execution_count": 169,
   "id": "ef3306ec",
   "metadata": {},
   "outputs": [],
   "source": [
    "mriPacket_send = h1.execute_thread(f\"sudo python3 sendPacket.py 1 2 30\")"
   ]
  },
  {
   "cell_type": "markdown",
   "id": "fd26c005",
   "metadata": {},
   "source": [
    "The sleep(10) function call in your code causes the program to pause or delay its execution for 10 seconds. "
   ]
  },
  {
   "cell_type": "code",
   "execution_count": 170,
   "id": "0a5d0167",
   "metadata": {},
   "outputs": [],
   "source": [
    "sleep(10)"
   ]
  },
  {
   "cell_type": "markdown",
   "id": "eb048062",
   "metadata": {},
   "source": [
    "The Python code snippet runs a script named \"BgT_iperf.py\" on the host \"h1\", passing three arguments: h2_ip, tiperf, and nthreads. \"h2_ip\" represents the ip of the destination host. \"tiperf\" id the duration of the test in seconds, specified by the tiperf variable. Finally \"nthreads\" is the number of parallel client threads to use during the iperf test, specified by the nthreads variable."
   ]
  },
  {
   "cell_type": "code",
   "execution_count": 171,
   "id": "18d660a6",
   "metadata": {},
   "outputs": [],
   "source": [
    "iperf_h1 = h1.execute(f\"python3 BgT_iperf.py {h2_ip} {tiperf} {nthreads}\",quiet=True)"
   ]
  },
  {
   "cell_type": "markdown",
   "id": "4cb0a469",
   "metadata": {},
   "source": [
    "The sleep(10) function call in your code causes the program to pause or delay its execution for 10 seconds. "
   ]
  },
  {
   "cell_type": "code",
   "execution_count": 172,
   "id": "b3e676b1",
   "metadata": {},
   "outputs": [],
   "source": [
    "sleep(10)"
   ]
  },
  {
   "cell_type": "markdown",
   "id": "5b5b7fc9",
   "metadata": {},
   "source": [
    "The code snippet processes the JSON output from an iperf network test, formats it for readability, and saves it to a file. It begins by parsing the JSON output stored in iperf_h1[0] into a Python dictionary. Then, it converts this dictionary back into a JSON-formatted string with indentation for clarity. Finally, it writes this formatted JSON data to a file named according to the experiment number, ensuring the results are neatly saved and organized."
   ]
  },
  {
   "cell_type": "code",
   "execution_count": 173,
   "id": "de845f3b",
   "metadata": {},
   "outputs": [],
   "source": [
    "data_dict = json.loads(iperf_h1[0])\n",
    "json_data = json.dumps(data_dict, indent=4)\n",
    "with open(f'./graphs/data/exp{experimentNumber}.json', 'w') as file:\n",
    "    file.write(json_data)"
   ]
  },
  {
   "cell_type": "markdown",
   "id": "02b076c6",
   "metadata": {},
   "source": [
    "The code snippet processes the output of the receive.py program, formats it for readability, and saves it to a file. "
   ]
  },
  {
   "cell_type": "code",
   "execution_count": 174,
   "id": "12c264e3",
   "metadata": {},
   "outputs": [],
   "source": [
    "stdout, stderr = h2.execute(\"sudo killall python3\", quiet=True)\n",
    "hex_list = mriPacket_receive.result()[0].split('\\n')[1:-1]\n",
    "df = pd.DataFrame(hex_list, columns=['Values'])\n",
    "df.to_csv(f'./graphs/data/exp{experimentNumber}.csv', index=False)"
   ]
  },
  {
   "cell_type": "markdown",
   "id": "c0647dfd",
   "metadata": {},
   "source": [
    "The following lines executes a command to terminate all tcpdump processes silently in all the nodes of the experiment. "
   ]
  },
  {
   "cell_type": "code",
   "execution_count": 175,
   "id": "ea1fe8e2",
   "metadata": {},
   "outputs": [],
   "source": [
    "stdout, stderr = h1.execute(\"sudo killall tcpdump\", quiet=True)\n",
    "stdout, stderr = h2.execute(\"sudo killall tcpdump\", quiet=True)\n",
    "stdout, stderr = s1.execute(\"sudo killall tcpdump\", quiet=True)\n",
    "stdout, stderr = s2.execute(\"sudo killall tcpdump\", quiet=True)"
   ]
  },
  {
   "cell_type": "markdown",
   "id": "18226d03",
   "metadata": {},
   "source": [
    "The following code process the pcap output of each of the tcpdump commands and extract the values of the number of packets of each type and the size of bytes."
   ]
  },
  {
   "cell_type": "code",
   "execution_count": 176,
   "id": "6b6a674e",
   "metadata": {},
   "outputs": [
    {
     "name": "stdout",
     "output_type": "stream",
     "text": [
      "[[30, 65, 65.0, 65], [4080, 46, 1487.8838235294118, 1490]]\n",
      "[[19, 81, 81.0, 81], [425, 46, 1469.684705882353, 1490]]\n",
      "hosts\n",
      "[[30, 65, 65.0, 65], [4080, 56, 1487.8911764705883, 1490]]\n",
      "[[19, 73, 73.0, 73], [425, 56, 1469.755294117647, 1490]]\n",
      "s1\n",
      "[[19, 73, 73.0, 73], [425, 56, 1469.755294117647, 1490]]\n",
      "[[19, 81, 81.0, 81], [425, 56, 1469.755294117647, 1490]]\n",
      "s2\n"
     ]
    }
   ],
   "source": [
    "h1_0 = h1.execute(\"sudo python3 nPackets.py h1_0.pcap\")\n",
    "h2_0 = h2.execute(\"sudo python3 nPackets.py h2_0.pcap\")\n",
    "print(\"hosts\")\n",
    "s1_1 = s1.execute(\"sudo python3 nPackets.py s1_1.pcap\")\n",
    "s1_2 = s1.execute(\"sudo python3 nPackets.py s1_2.pcap\")\n",
    "print(\"s1\")\n",
    "s2_1 = s2.execute(\"sudo python3 nPackets.py s2_1.pcap\")\n",
    "s2_2 = s2.execute(\"sudo python3 nPackets.py s2_2.pcap\")\n",
    "print(\"s2\")"
   ]
  },
  {
   "cell_type": "markdown",
   "id": "84baddf2",
   "metadata": {},
   "source": [
    "In the following code we are going to take the outputs of the cell above and store them in a pandas dataframe. "
   ]
  },
  {
   "cell_type": "code",
   "execution_count": 177,
   "id": "1c3373fa",
   "metadata": {},
   "outputs": [],
   "source": [
    "array_string = h1_0[0].strip()\n",
    "data = json.loads(array_string)\n",
    "dataframeh1_0 = pd.DataFrame(data).T\n",
    "dataframeh1_0.columns = ['h1_MRI', 'h1_iperf']\n",
    "\n",
    "array_string = h2_0[0].strip()\n",
    "data = json.loads(array_string)\n",
    "dataframeh2_0 = pd.DataFrame(data).T\n",
    "dataframeh2_0.columns = ['h2_MRI', 'h2_iperf']\n",
    "\n",
    "dataframe_hosts = pd.concat([dataframeh1_0, dataframeh2_0], axis=1)\n",
    "\n",
    "array_string = s1_1[0].strip()\n",
    "data = json.loads(array_string)\n",
    "dataframes1_1 = pd.DataFrame(data).T\n",
    "dataframes1_1.columns = ['s11_MRI', 's11_iperf']\n",
    "\n",
    "array_string = s1_2[0].strip()\n",
    "data = json.loads(array_string)\n",
    "dataframes1_2 = pd.DataFrame(data).T\n",
    "dataframes1_2.columns = ['s12_MRI', 's12_iperf']\n",
    "\n",
    "dataframe_s1 = pd.concat([dataframes1_1, dataframes1_2], axis=1)\n",
    "\n",
    "array_string = s2_1[0].strip()\n",
    "data = json.loads(array_string)\n",
    "dataframes2_1 = pd.DataFrame(data).T\n",
    "dataframes2_1.columns = ['s21_MRI', 's21_iperf']\n",
    "\n",
    "array_string = s2_2[0].strip()\n",
    "data = json.loads(array_string)\n",
    "dataframes2_2 = pd.DataFrame(data).T\n",
    "dataframes2_2.columns = ['s22_MRI', 's22_iperf']\n",
    "\n",
    "dataframe_s2 = pd.concat([dataframes2_1, dataframes2_2], axis=1)"
   ]
  },
  {
   "cell_type": "markdown",
   "id": "74f36205",
   "metadata": {},
   "source": [
    "The code snippet saves data from three different DataFrames to CSV files, organizing the results of an experiment based on the experimentNumber variable."
   ]
  },
  {
   "cell_type": "code",
   "execution_count": 178,
   "id": "686666e2",
   "metadata": {},
   "outputs": [],
   "source": [
    "dataframe_hosts.to_csv(f'./graphs/data/exp{experimentNumber}_nH.csv', index=False)\n",
    "dataframe_s1.to_csv(f'./graphs/data/exp{experimentNumber}_nS1.csv', index=False)\n",
    "dataframe_s2.to_csv(f'./graphs/data/exp{experimentNumber}_nS2.csv', index=False)"
   ]
  },
  {
   "cell_type": "markdown",
   "id": "fb9effd9",
   "metadata": {
    "jp-MarkdownHeadingCollapsed": true
   },
   "source": [
    "#### Experiment 14"
   ]
  },
  {
   "cell_type": "markdown",
   "id": "036e9729",
   "metadata": {},
   "source": [
    "To execute this experiment, we need to set the \"set_queue_depth\" value for the switches to 50 and the \"set_queue_rate\" to 25. Four threads of traffic will be sent using iperf for a duration of 15 seconds. Below, you can see an image depicting the traffic that will be sent. "
   ]
  },
  {
   "attachments": {
    "8d820364-4b4e-45e2-97b4-0be2ecb01e1c.jpg": {
     "image/jpeg": "[encoded data removed]"
    }
   },
   "cell_type": "markdown",
   "id": "96bafbb5",
   "metadata": {},
   "source": [
    "![exp4X.jpg](attachment:8d820364-4b4e-45e2-97b4-0be2ecb01e1c.jpg)"
   ]
  },
  {
   "cell_type": "markdown",
   "id": "e898f133",
   "metadata": {},
   "source": [
    "In the code snippet, three variables are set up for a configuration or script that appears to be preparing for a network performance testing scenario:\n",
    "\n",
    "- experimentNumber: This variable likely indicates a identifier for the experiment.\n",
    "\n",
    "- tiperf: This variable specifies the duration in seconds for the iperf3 command. \n",
    "\n",
    "- nthreads: This variable defines the number of parallel client threads to be used in the test. \n",
    "\n",
    "These variables are essential for controlling the parameters of a network testing session, allowing for precise adjustments to the testing environment based on the needs of the experiment or the specifics of the network being tested."
   ]
  },
  {
   "cell_type": "code",
   "execution_count": 179,
   "id": "975ded9a",
   "metadata": {},
   "outputs": [],
   "source": [
    "experimentNumber = 14\n",
    "tiperf = 15\n",
    "nthreads = 4"
   ]
  },
  {
   "cell_type": "markdown",
   "id": "ee260508",
   "metadata": {},
   "source": [
    "The first line executes a command to terminate all iperf3 processes silently in h2, while the second line does the same for all Python 3 instances, capturing any output or errors into stdout and stderr respectively. "
   ]
  },
  {
   "cell_type": "code",
   "execution_count": 180,
   "id": "4e38ade2",
   "metadata": {},
   "outputs": [],
   "source": [
    "#h2.execute(\"sudo killall iperf3\", quiet=True)\n",
    "stdout, stderr = h2.execute(\"sudo killall python3\", quiet=True)"
   ]
  },
  {
   "cell_type": "markdown",
   "id": "90f60bdd",
   "metadata": {},
   "source": [
    "The Python code snippet launches an iperf3 server instance on \"h2\" in a separate thread. This is accomplished using a method called execute_thread, which likely allows the iperf3 -s command (indicating server mode) to run asynchronously, ensuring that the main program can continue executing other tasks without waiting for the iperf3 server process to finish."
   ]
  },
  {
   "cell_type": "code",
   "execution_count": 181,
   "id": "380943a4",
   "metadata": {},
   "outputs": [],
   "source": [
    "#iperf2 = h2.execute_thread(f\"iperf3 -s\")"
   ]
  },
  {
   "cell_type": "markdown",
   "id": "9f710641",
   "metadata": {},
   "source": [
    "The Python code snippet launches a script named receive.py on \"h2\" using elevated privileges (sudo). The script is run asynchronously in a separate thread by the method execute_thread, allowing the main program to continue its execution without waiting for receive.py to complete."
   ]
  },
  {
   "cell_type": "code",
   "execution_count": 182,
   "id": "64a991f9",
   "metadata": {},
   "outputs": [],
   "source": [
    "mriPacket_receive = h2.execute_thread(f\"sudo python3 receive.py\")"
   ]
  },
  {
   "cell_type": "markdown",
   "id": "45ca16de",
   "metadata": {},
   "source": [
    "The following cell orchestrates parallel network traffic captures across multiple devices—two hosts and two switches—using `tcpdump`, a command-line packet analyzer. Commands are executed asynchronously in separate threads to prevent blocking, enabling simultaneous captures on specified network interfaces for each device. For hosts `h1` and `h2`, and switches `s1` and `s2`, traffic is recorded on their respective interfaces, with each session outputting to a dedicated pcap file."
   ]
  },
  {
   "cell_type": "code",
   "execution_count": 183,
   "id": "b4b8df2f",
   "metadata": {},
   "outputs": [
    {
     "name": "stdout",
     "output_type": "stream",
     "text": [
      "hosts\n",
      "s1\n",
      "s2\n"
     ]
    }
   ],
   "source": [
    "h1.execute_thread(f\"sudo tcpdump -i {h1_iface0_name} -w h1_0.pcap\")\n",
    "h2.execute_thread(f\"sudo tcpdump -i {h2_iface0_name} -w h2_0.pcap\")\n",
    "print(\"hosts\")\n",
    "s1.execute_thread(f\"sudo tcpdump -i {s1_iface1_name} -w s1_1.pcap\")\n",
    "s1.execute_thread(f\"sudo tcpdump -i {s1_iface2_name} -w s1_2.pcap\")\n",
    "print(\"s1\")\n",
    "s2.execute_thread(f\"sudo tcpdump -i {s2_iface1_name} -w s2_1.pcap\")\n",
    "s2.execute_thread(f\"sudo tcpdump -i {s2_iface2_name} -w s2_2.pcap\")\n",
    "print(\"s2\")"
   ]
  },
  {
   "cell_type": "markdown",
   "id": "600f092d",
   "metadata": {},
   "source": [
    "The code snippet initiates an asynchronous task on the host \"h1\" to execute a Python script named \"sendPacket.py\" using elevated privileges (`sudo`). This script send packets by passing three arguments: `1`, `2`, and `30`. The first one is represents the host that is sending the packet. The second argument, in this case \"2\", is the host destination. And the last argument represents the number of packes that are going to send."
   ]
  },
  {
   "cell_type": "code",
   "execution_count": 184,
   "id": "760654cd",
   "metadata": {},
   "outputs": [],
   "source": [
    "mriPacket_send = h1.execute_thread(f\"sudo python3 sendPacket.py 1 2 30\")"
   ]
  },
  {
   "cell_type": "markdown",
   "id": "ca6094d3",
   "metadata": {},
   "source": [
    "The sleep(10) function call in your code causes the program to pause or delay its execution for 10 seconds. "
   ]
  },
  {
   "cell_type": "code",
   "execution_count": 185,
   "id": "5f432d17",
   "metadata": {},
   "outputs": [],
   "source": [
    "sleep(10)"
   ]
  },
  {
   "cell_type": "markdown",
   "id": "52653871",
   "metadata": {},
   "source": [
    "The Python code snippet runs a script named \"BgT_iperf.py\" on the host \"h1\", passing three arguments: h2_ip, tiperf, and nthreads. \"h2_ip\" represents the ip of the destination host. \"tiperf\" id the duration of the test in seconds, specified by the tiperf variable. Finally \"nthreads\" is the number of parallel client threads to use during the iperf test, specified by the nthreads variable."
   ]
  },
  {
   "cell_type": "code",
   "execution_count": 186,
   "id": "6f76e63b",
   "metadata": {},
   "outputs": [],
   "source": [
    "iperf_h1 = h1.execute(f\"python3 BgT_iperf.py {h2_ip} {tiperf} {nthreads}\",quiet=True)"
   ]
  },
  {
   "cell_type": "markdown",
   "id": "cc4db264",
   "metadata": {},
   "source": [
    "The sleep(10) function call in your code causes the program to pause or delay its execution for 10 seconds. "
   ]
  },
  {
   "cell_type": "code",
   "execution_count": 187,
   "id": "60a6c771",
   "metadata": {},
   "outputs": [],
   "source": [
    "sleep(10)"
   ]
  },
  {
   "cell_type": "markdown",
   "id": "9ce107da",
   "metadata": {},
   "source": [
    "The code snippet processes the JSON output from an iperf network test, formats it for readability, and saves it to a file. It begins by parsing the JSON output stored in iperf_h1[0] into a Python dictionary. Then, it converts this dictionary back into a JSON-formatted string with indentation for clarity. Finally, it writes this formatted JSON data to a file named according to the experiment number, ensuring the results are neatly saved and organized."
   ]
  },
  {
   "cell_type": "code",
   "execution_count": 188,
   "id": "736db51a",
   "metadata": {},
   "outputs": [],
   "source": [
    "data_dict = json.loads(iperf_h1[0])\n",
    "json_data = json.dumps(data_dict, indent=4)\n",
    "with open(f'./graphs/data/exp{experimentNumber}.json', 'w') as file:\n",
    "    file.write(json_data)"
   ]
  },
  {
   "cell_type": "markdown",
   "id": "01bd22cc",
   "metadata": {},
   "source": [
    "The code snippet processes the output of the receive.py program, formats it for readability, and saves it to a file. "
   ]
  },
  {
   "cell_type": "code",
   "execution_count": 189,
   "id": "9aec0184",
   "metadata": {},
   "outputs": [],
   "source": [
    "stdout, stderr = h2.execute(\"sudo killall python3\", quiet=True)\n",
    "hex_list = mriPacket_receive.result()[0].split('\\n')[1:-1]\n",
    "df = pd.DataFrame(hex_list, columns=['Values'])\n",
    "df.to_csv(f'./graphs/data/exp{experimentNumber}.csv', index=False)"
   ]
  },
  {
   "cell_type": "markdown",
   "id": "1ca2d9c1",
   "metadata": {},
   "source": [
    "The following lines executes a command to terminate all tcpdump processes silently in all the nodes of the experiment. "
   ]
  },
  {
   "cell_type": "code",
   "execution_count": 190,
   "id": "5687559e",
   "metadata": {},
   "outputs": [],
   "source": [
    "stdout, stderr = h1.execute(\"sudo killall tcpdump\", quiet=True)\n",
    "stdout, stderr = h2.execute(\"sudo killall tcpdump\", quiet=True)\n",
    "stdout, stderr = s1.execute(\"sudo killall tcpdump\", quiet=True)\n",
    "stdout, stderr = s2.execute(\"sudo killall tcpdump\", quiet=True)"
   ]
  },
  {
   "cell_type": "markdown",
   "id": "b9b53bcf",
   "metadata": {},
   "source": [
    "The following code process the pcap output of each of the tcpdump commands and extract the values of the number of packets of each type and the size of bytes."
   ]
  },
  {
   "cell_type": "code",
   "execution_count": 191,
   "id": "4a637305",
   "metadata": {},
   "outputs": [
    {
     "name": "stdout",
     "output_type": "stream",
     "text": [
      "[[29, 65, 65.0, 65], [5440, 46, 1487.8838235294118, 1490]]\n",
      "[[15, 81, 81.0, 81], [430, 46, 1463.2279069767442, 1490]]\n",
      "hosts\n",
      "[[30, 65, 65.0, 65], [5440, 56, 1487.8911764705883, 1490]]\n",
      "[[16, 73, 73.0, 73], [430, 56, 1463.320930232558, 1490]]\n",
      "s1\n",
      "[[15, 73, 73.0, 73], [430, 56, 1463.320930232558, 1490]]\n",
      "[[15, 81, 81.0, 81], [430, 56, 1463.320930232558, 1490]]\n",
      "s2\n"
     ]
    }
   ],
   "source": [
    "h1_0 = h1.execute(\"sudo python3 nPackets.py h1_0.pcap\")\n",
    "h2_0 = h2.execute(\"sudo python3 nPackets.py h2_0.pcap\")\n",
    "print(\"hosts\")\n",
    "s1_1 = s1.execute(\"sudo python3 nPackets.py s1_1.pcap\")\n",
    "s1_2 = s1.execute(\"sudo python3 nPackets.py s1_2.pcap\")\n",
    "print(\"s1\")\n",
    "s2_1 = s2.execute(\"sudo python3 nPackets.py s2_1.pcap\")\n",
    "s2_2 = s2.execute(\"sudo python3 nPackets.py s2_2.pcap\")\n",
    "print(\"s2\")"
   ]
  },
  {
   "cell_type": "markdown",
   "id": "b9cee9e9",
   "metadata": {},
   "source": [
    "In the following code we are going to take the outputs of the cell above and store them in a pandas dataframe. "
   ]
  },
  {
   "cell_type": "code",
   "execution_count": 192,
   "id": "84acd6d2",
   "metadata": {},
   "outputs": [],
   "source": [
    "array_string = h1_0[0].strip()\n",
    "data = json.loads(array_string)\n",
    "dataframeh1_0 = pd.DataFrame(data).T\n",
    "dataframeh1_0.columns = ['h1_MRI', 'h1_iperf']\n",
    "\n",
    "array_string = h2_0[0].strip()\n",
    "data = json.loads(array_string)\n",
    "dataframeh2_0 = pd.DataFrame(data).T\n",
    "dataframeh2_0.columns = ['h2_MRI', 'h2_iperf']\n",
    "\n",
    "dataframe_hosts = pd.concat([dataframeh1_0, dataframeh2_0], axis=1)\n",
    "\n",
    "array_string = s1_1[0].strip()\n",
    "data = json.loads(array_string)\n",
    "dataframes1_1 = pd.DataFrame(data).T\n",
    "dataframes1_1.columns = ['s11_MRI', 's11_iperf']\n",
    "\n",
    "array_string = s1_2[0].strip()\n",
    "data = json.loads(array_string)\n",
    "dataframes1_2 = pd.DataFrame(data).T\n",
    "dataframes1_2.columns = ['s12_MRI', 's12_iperf']\n",
    "\n",
    "dataframe_s1 = pd.concat([dataframes1_1, dataframes1_2], axis=1)\n",
    "\n",
    "array_string = s2_1[0].strip()\n",
    "data = json.loads(array_string)\n",
    "dataframes2_1 = pd.DataFrame(data).T\n",
    "dataframes2_1.columns = ['s21_MRI', 's21_iperf']\n",
    "\n",
    "array_string = s2_2[0].strip()\n",
    "data = json.loads(array_string)\n",
    "dataframes2_2 = pd.DataFrame(data).T\n",
    "dataframes2_2.columns = ['s22_MRI', 's22_iperf']\n",
    "\n",
    "dataframe_s2 = pd.concat([dataframes2_1, dataframes2_2], axis=1)"
   ]
  },
  {
   "cell_type": "markdown",
   "id": "cfa3c32a",
   "metadata": {},
   "source": [
    "The code snippet saves data from three different DataFrames to CSV files, organizing the results of an experiment based on the experimentNumber variable."
   ]
  },
  {
   "cell_type": "code",
   "execution_count": 193,
   "id": "d088ac9a",
   "metadata": {},
   "outputs": [],
   "source": [
    "dataframe_hosts.to_csv(f'./graphs/data/exp{experimentNumber}_nH.csv', index=False)\n",
    "dataframe_s1.to_csv(f'./graphs/data/exp{experimentNumber}_nS1.csv', index=False)\n",
    "dataframe_s2.to_csv(f'./graphs/data/exp{experimentNumber}_nS2.csv', index=False)"
   ]
  },
  {
   "cell_type": "markdown",
   "id": "e71f00e9",
   "metadata": {
    "jp-MarkdownHeadingCollapsed": true
   },
   "source": [
    "#### Experiment 15"
   ]
  },
  {
   "cell_type": "markdown",
   "id": "6dc8b9e3",
   "metadata": {},
   "source": [
    "To execute this experiment, we need to set the \"set_queue_depth\" value for the switches to 50 and the \"set_queue_rate\" to 25. A single thread of traffic will be sent using iperf for a duration of 10 seconds. Below, you can see an image depicting the traffic that will be sent. "
   ]
  },
  {
   "attachments": {
    "c4aa759d-919e-4d09-bcba-02eb87829ac1.jpg": {
     "image/jpeg": "[encoded data removed]"
    }
   },
   "cell_type": "markdown",
   "id": "8779d3dd",
   "metadata": {},
   "source": [
    "![exp5X.jpg](attachment:c4aa759d-919e-4d09-bcba-02eb87829ac1.jpg)"
   ]
  },
  {
   "cell_type": "markdown",
   "id": "a0c31256",
   "metadata": {},
   "source": [
    "In the code snippet, three variables are set up for a configuration or script that appears to be preparing for a network performance testing scenario:\n",
    "\n",
    "- experimentNumber: This variable likely indicates a identifier for the experiment.\n",
    "\n",
    "- tiperf: This variable specifies the duration in seconds for the iperf3 command. \n",
    "\n",
    "- nthreads: This variable defines the number of parallel client threads to be used in the test. \n",
    "\n",
    "These variables are essential for controlling the parameters of a network testing session, allowing for precise adjustments to the testing environment based on the needs of the experiment or the specifics of the network being tested."
   ]
  },
  {
   "cell_type": "code",
   "execution_count": 194,
   "id": "2ad89949",
   "metadata": {},
   "outputs": [],
   "source": [
    "experimentNumber = 15\n",
    "tiperf = 10\n",
    "nthreads = 1"
   ]
  },
  {
   "cell_type": "markdown",
   "id": "56a494ac",
   "metadata": {},
   "source": [
    "The first line executes a command to terminate all iperf3 processes silently in h2, while the second line does the same for all Python 3 instances, capturing any output or errors into stdout and stderr respectively. "
   ]
  },
  {
   "cell_type": "code",
   "execution_count": 195,
   "id": "1b2fbe58",
   "metadata": {},
   "outputs": [],
   "source": [
    "#h2.execute(\"sudo killall iperf3\", quiet=True)\n",
    "stdout, stderr = h2.execute(\"sudo killall python3\", quiet=True)"
   ]
  },
  {
   "cell_type": "markdown",
   "id": "586f6002",
   "metadata": {},
   "source": [
    "The Python code snippet launches an iperf3 server instance on \"h2\" in a separate thread. This is accomplished using a method called execute_thread, which likely allows the iperf3 -s command (indicating server mode) to run asynchronously, ensuring that the main program can continue executing other tasks without waiting for the iperf3 server process to finish."
   ]
  },
  {
   "cell_type": "code",
   "execution_count": 196,
   "id": "a60cdca3",
   "metadata": {},
   "outputs": [],
   "source": [
    "#iperf2 = h2.execute_thread(f\"iperf3 -s\")"
   ]
  },
  {
   "cell_type": "markdown",
   "id": "3ca99e40",
   "metadata": {},
   "source": [
    "The Python code snippet launches a script named receive.py on \"h2\" using elevated privileges (sudo). The script is run asynchronously in a separate thread by the method execute_thread, allowing the main program to continue its execution without waiting for receive.py to complete."
   ]
  },
  {
   "cell_type": "code",
   "execution_count": 197,
   "id": "e37f9594",
   "metadata": {},
   "outputs": [],
   "source": [
    "mriPacket_receive = h2.execute_thread(f\"sudo python3 receive.py\")"
   ]
  },
  {
   "cell_type": "markdown",
   "id": "57c0c8a4",
   "metadata": {},
   "source": [
    "The following cell orchestrates parallel network traffic captures across multiple devices—two hosts and two switches—using `tcpdump`, a command-line packet analyzer. Commands are executed asynchronously in separate threads to prevent blocking, enabling simultaneous captures on specified network interfaces for each device. For hosts `h1` and `h2`, and switches `s1` and `s2`, traffic is recorded on their respective interfaces, with each session outputting to a dedicated pcap file."
   ]
  },
  {
   "cell_type": "code",
   "execution_count": 198,
   "id": "e0818da7",
   "metadata": {},
   "outputs": [
    {
     "name": "stdout",
     "output_type": "stream",
     "text": [
      "hosts\n",
      "s1\n",
      "s2\n"
     ]
    }
   ],
   "source": [
    "h1.execute_thread(f\"sudo tcpdump -i {h1_iface0_name} -w h1_0.pcap\")\n",
    "h2.execute_thread(f\"sudo tcpdump -i {h2_iface0_name} -w h2_0.pcap\")\n",
    "print(\"hosts\")\n",
    "s1.execute_thread(f\"sudo tcpdump -i {s1_iface1_name} -w s1_1.pcap\")\n",
    "s1.execute_thread(f\"sudo tcpdump -i {s1_iface2_name} -w s1_2.pcap\")\n",
    "print(\"s1\")\n",
    "s2.execute_thread(f\"sudo tcpdump -i {s2_iface1_name} -w s2_1.pcap\")\n",
    "s2.execute_thread(f\"sudo tcpdump -i {s2_iface2_name} -w s2_2.pcap\")\n",
    "print(\"s2\")"
   ]
  },
  {
   "cell_type": "markdown",
   "id": "33665fa6",
   "metadata": {},
   "source": [
    "The code snippet initiates an asynchronous task on the host \"h1\" to execute a Python script named \"sendPacket.py\" using elevated privileges (`sudo`). This script send packets by passing three arguments: `1`, `2`, and `30`. The first one is represents the host that is sending the packet. The second argument, in this case \"2\", is the host destination. And the last argument represents the number of packes that are going to send."
   ]
  },
  {
   "cell_type": "code",
   "execution_count": 199,
   "id": "b42b5cac",
   "metadata": {},
   "outputs": [],
   "source": [
    "mriPacket_send = h1.execute_thread(f\"sudo python3 sendPacket.py 1 2 30\")"
   ]
  },
  {
   "cell_type": "markdown",
   "id": "d1dd4af3",
   "metadata": {},
   "source": [
    "The sleep(10) function call in your code causes the program to pause or delay its execution for 10 seconds. "
   ]
  },
  {
   "cell_type": "code",
   "execution_count": 200,
   "id": "12811555",
   "metadata": {},
   "outputs": [],
   "source": [
    "sleep(10)"
   ]
  },
  {
   "cell_type": "markdown",
   "id": "9b41c197",
   "metadata": {},
   "source": [
    "The Python code snippet runs a script named \"BgT_iperf.py\" on the host \"h1\", passing three arguments: h2_ip, tiperf, and nthreads. \"h2_ip\" represents the ip of the destination host. \"tiperf\" id the duration of the test in seconds, specified by the tiperf variable. Finally \"nthreads\" is the number of parallel client threads to use during the iperf test, specified by the nthreads variable."
   ]
  },
  {
   "cell_type": "code",
   "execution_count": 201,
   "id": "bd39a037",
   "metadata": {},
   "outputs": [],
   "source": [
    "iperf_h1 = h1.execute(f\"python3 BgT_iperf.py {h2_ip} {tiperf} {nthreads}\",quiet=True)"
   ]
  },
  {
   "cell_type": "markdown",
   "id": "272ee21a",
   "metadata": {},
   "source": [
    "The sleep(15) function call in your code causes the program to pause or delay its execution for 15 seconds. "
   ]
  },
  {
   "cell_type": "code",
   "execution_count": 202,
   "id": "8de5f1f1",
   "metadata": {},
   "outputs": [],
   "source": [
    "sleep(15)"
   ]
  },
  {
   "cell_type": "markdown",
   "id": "c92cb750",
   "metadata": {},
   "source": [
    "The code snippet processes the JSON output from an iperf network test, formats it for readability, and saves it to a file. It begins by parsing the JSON output stored in iperf_h1[0] into a Python dictionary. Then, it converts this dictionary back into a JSON-formatted string with indentation for clarity. Finally, it writes this formatted JSON data to a file named according to the experiment number, ensuring the results are neatly saved and organized."
   ]
  },
  {
   "cell_type": "code",
   "execution_count": 203,
   "id": "de47e078",
   "metadata": {},
   "outputs": [],
   "source": [
    "data_dict = json.loads(iperf_h1[0])\n",
    "json_data = json.dumps(data_dict, indent=4)\n",
    "with open(f'./graphs/data/exp{experimentNumber}.json', 'w') as file:\n",
    "    file.write(json_data)"
   ]
  },
  {
   "cell_type": "markdown",
   "id": "81a12823",
   "metadata": {},
   "source": [
    "The code snippet processes the output of the receive.py program, formats it for readability, and saves it to a file. "
   ]
  },
  {
   "cell_type": "code",
   "execution_count": 204,
   "id": "ff790568",
   "metadata": {},
   "outputs": [],
   "source": [
    "stdout, stderr = h2.execute(\"sudo killall python3\", quiet=True)\n",
    "hex_list = mriPacket_receive.result()[0].split('\\n')[1:-1]\n",
    "df = pd.DataFrame(hex_list, columns=['Values'])\n",
    "df.to_csv(f'./graphs/data/exp{experimentNumber}.csv', index=False)"
   ]
  },
  {
   "cell_type": "markdown",
   "id": "2bc8ca8f",
   "metadata": {},
   "source": [
    "The following lines executes a command to terminate all tcpdump processes silently in all the nodes of the experiment. "
   ]
  },
  {
   "cell_type": "code",
   "execution_count": 205,
   "id": "4255f90c",
   "metadata": {},
   "outputs": [],
   "source": [
    "stdout, stderr = h1.execute(\"sudo killall tcpdump\", quiet=True)\n",
    "stdout, stderr = h2.execute(\"sudo killall tcpdump\", quiet=True)\n",
    "stdout, stderr = s1.execute(\"sudo killall tcpdump\", quiet=True)\n",
    "stdout, stderr = s2.execute(\"sudo killall tcpdump\", quiet=True)"
   ]
  },
  {
   "cell_type": "markdown",
   "id": "0084cb7e",
   "metadata": {},
   "source": [
    "The following code process the pcap output of each of the tcpdump commands and extract the values of the number of packets of each type and the size of bytes."
   ]
  },
  {
   "cell_type": "code",
   "execution_count": 206,
   "id": "09c1a33b",
   "metadata": {},
   "outputs": [
    {
     "name": "stdout",
     "output_type": "stream",
     "text": [
      "[[30, 65, 65.0, 65], [908, 46, 1486.8303964757708, 1490]]\n",
      "[[23, 81, 81.0, 81], [297, 46, 1480.3097643097642, 1490]]\n",
      "hosts\n",
      "[[30, 65, 65.0, 65], [908, 56, 1486.84140969163, 1490]]\n",
      "[[23, 73, 73.0, 73], [297, 56, 1480.3434343434344, 1490]]\n",
      "s1\n",
      "[[22, 73, 73.0, 73], [297, 56, 1480.3434343434344, 1490]]\n",
      "[[22, 81, 81.0, 81], [297, 56, 1480.3434343434344, 1490]]\n",
      "s2\n"
     ]
    }
   ],
   "source": [
    "h1_0 = h1.execute(\"sudo python3 nPackets.py h1_0.pcap\")\n",
    "h2_0 = h2.execute(\"sudo python3 nPackets.py h2_0.pcap\")\n",
    "print(\"hosts\")\n",
    "s1_1 = s1.execute(\"sudo python3 nPackets.py s1_1.pcap\")\n",
    "s1_2 = s1.execute(\"sudo python3 nPackets.py s1_2.pcap\")\n",
    "print(\"s1\")\n",
    "s2_1 = s2.execute(\"sudo python3 nPackets.py s2_1.pcap\")\n",
    "s2_2 = s2.execute(\"sudo python3 nPackets.py s2_2.pcap\")\n",
    "print(\"s2\")"
   ]
  },
  {
   "cell_type": "markdown",
   "id": "cb778ead",
   "metadata": {},
   "source": [
    "In the following code we are going to take the outputs of the cell above and store them in a pandas dataframe. "
   ]
  },
  {
   "cell_type": "code",
   "execution_count": 207,
   "id": "55a1558c",
   "metadata": {},
   "outputs": [],
   "source": [
    "array_string = h1_0[0].strip()\n",
    "data = json.loads(array_string)\n",
    "dataframeh1_0 = pd.DataFrame(data).T\n",
    "dataframeh1_0.columns = ['h1_MRI', 'h1_iperf']\n",
    "\n",
    "array_string = h2_0[0].strip()\n",
    "data = json.loads(array_string)\n",
    "dataframeh2_0 = pd.DataFrame(data).T\n",
    "dataframeh2_0.columns = ['h2_MRI', 'h2_iperf']\n",
    "\n",
    "dataframe_hosts = pd.concat([dataframeh1_0, dataframeh2_0], axis=1)\n",
    "\n",
    "array_string = s1_1[0].strip()\n",
    "data = json.loads(array_string)\n",
    "dataframes1_1 = pd.DataFrame(data).T\n",
    "dataframes1_1.columns = ['s11_MRI', 's11_iperf']\n",
    "\n",
    "array_string = s1_2[0].strip()\n",
    "data = json.loads(array_string)\n",
    "dataframes1_2 = pd.DataFrame(data).T\n",
    "dataframes1_2.columns = ['s12_MRI', 's12_iperf']\n",
    "\n",
    "dataframe_s1 = pd.concat([dataframes1_1, dataframes1_2], axis=1)\n",
    "\n",
    "array_string = s2_1[0].strip()\n",
    "data = json.loads(array_string)\n",
    "dataframes2_1 = pd.DataFrame(data).T\n",
    "dataframes2_1.columns = ['s21_MRI', 's21_iperf']\n",
    "\n",
    "array_string = s2_2[0].strip()\n",
    "data = json.loads(array_string)\n",
    "dataframes2_2 = pd.DataFrame(data).T\n",
    "dataframes2_2.columns = ['s22_MRI', 's22_iperf']\n",
    "\n",
    "dataframe_s2 = pd.concat([dataframes2_1, dataframes2_2], axis=1)"
   ]
  },
  {
   "cell_type": "markdown",
   "id": "6fffe096",
   "metadata": {},
   "source": [
    "The code snippet saves data from three different DataFrames to CSV files, organizing the results of an experiment based on the experimentNumber variable."
   ]
  },
  {
   "cell_type": "code",
   "execution_count": 208,
   "id": "f6196df7",
   "metadata": {},
   "outputs": [],
   "source": [
    "dataframe_hosts.to_csv(f'./graphs/data/exp{experimentNumber}_nH.csv', index=False)\n",
    "dataframe_s1.to_csv(f'./graphs/data/exp{experimentNumber}_nS1.csv', index=False)\n",
    "dataframe_s2.to_csv(f'./graphs/data/exp{experimentNumber}_nS2.csv', index=False)"
   ]
  },
  {
   "cell_type": "markdown",
   "id": "3932d7c0",
   "metadata": {
    "jp-MarkdownHeadingCollapsed": true
   },
   "source": [
    "#### Experiment 16"
   ]
  },
  {
   "cell_type": "markdown",
   "id": "b9df58e0",
   "metadata": {},
   "source": [
    "To execute this experiment, we need to set the \"set_queue_depth\" value for the switches to 50 and the \"set_queue_rate\" to 25. Two threads of traffic will be sent using iperf for a duration of 10 seconds. Below, you can see an image depicting the traffic that will be sent. "
   ]
  },
  {
   "attachments": {
    "272d794e-cded-4a04-ba85-ddc8aa42dd83.jpg": {
     "image/jpeg": "[encoded data removed]"
    }
   },
   "cell_type": "markdown",
   "id": "c6e93048",
   "metadata": {},
   "source": [
    "![exp6X.jpg](attachment:272d794e-cded-4a04-ba85-ddc8aa42dd83.jpg)"
   ]
  },
  {
   "cell_type": "markdown",
   "id": "efad08af",
   "metadata": {},
   "source": [
    "In the code snippet, three variables are set up for a configuration or script that appears to be preparing for a network performance testing scenario:\n",
    "\n",
    "- experimentNumber: This variable likely indicates a identifier for the experiment.\n",
    "\n",
    "- tiperf: This variable specifies the duration in seconds for the iperf3 command. \n",
    "\n",
    "- nthreads: This variable defines the number of parallel client threads to be used in the test. \n",
    "\n",
    "These variables are essential for controlling the parameters of a network testing session, allowing for precise adjustments to the testing environment based on the needs of the experiment or the specifics of the network being tested."
   ]
  },
  {
   "cell_type": "code",
   "execution_count": 209,
   "id": "e86243f7",
   "metadata": {},
   "outputs": [],
   "source": [
    "experimentNumber = 16\n",
    "tiperf = 10\n",
    "nthreads = 2"
   ]
  },
  {
   "cell_type": "markdown",
   "id": "3e3c377d",
   "metadata": {},
   "source": [
    "The first line executes a command to terminate all iperf3 processes silently in h2, while the second line does the same for all Python 3 instances, capturing any output or errors into stdout and stderr respectively. "
   ]
  },
  {
   "cell_type": "code",
   "execution_count": 210,
   "id": "510a4468",
   "metadata": {},
   "outputs": [],
   "source": [
    "#h2.execute(\"sudo killall iperf3\", quiet=True)\n",
    "stdout, stderr = h2.execute(\"sudo killall python3\", quiet=True)"
   ]
  },
  {
   "cell_type": "markdown",
   "id": "0755a09a",
   "metadata": {},
   "source": [
    "The Python code snippet launches an iperf3 server instance on \"h2\" in a separate thread. This is accomplished using a method called execute_thread, which likely allows the iperf3 -s command (indicating server mode) to run asynchronously, ensuring that the main program can continue executing other tasks without waiting for the iperf3 server process to finish."
   ]
  },
  {
   "cell_type": "code",
   "execution_count": 211,
   "id": "0f588008",
   "metadata": {},
   "outputs": [],
   "source": [
    "#iperf2 = h2.execute_thread(f\"iperf3 -s\")"
   ]
  },
  {
   "cell_type": "markdown",
   "id": "01f972cb",
   "metadata": {},
   "source": [
    "The Python code snippet launches a script named receive.py on \"h2\" using elevated privileges (sudo). The script is run asynchronously in a separate thread by the method execute_thread, allowing the main program to continue its execution without waiting for receive.py to complete."
   ]
  },
  {
   "cell_type": "code",
   "execution_count": 212,
   "id": "6ddfb1d0",
   "metadata": {},
   "outputs": [],
   "source": [
    "mriPacket_receive = h2.execute_thread(f\"sudo python3 receive.py\")"
   ]
  },
  {
   "cell_type": "markdown",
   "id": "cca3f3b0",
   "metadata": {},
   "source": [
    "The following cell orchestrates parallel network traffic captures across multiple devices—two hosts and two switches—using `tcpdump`, a command-line packet analyzer. Commands are executed asynchronously in separate threads to prevent blocking, enabling simultaneous captures on specified network interfaces for each device. For hosts `h1` and `h2`, and switches `s1` and `s2`, traffic is recorded on their respective interfaces, with each session outputting to a dedicated pcap file."
   ]
  },
  {
   "cell_type": "code",
   "execution_count": 213,
   "id": "69923313",
   "metadata": {},
   "outputs": [
    {
     "name": "stdout",
     "output_type": "stream",
     "text": [
      "hosts\n",
      "s1\n",
      "s2\n"
     ]
    }
   ],
   "source": [
    "h1.execute_thread(f\"sudo tcpdump -i {h1_iface0_name} -w h1_0.pcap\")\n",
    "h2.execute_thread(f\"sudo tcpdump -i {h2_iface0_name} -w h2_0.pcap\")\n",
    "print(\"hosts\")\n",
    "s1.execute_thread(f\"sudo tcpdump -i {s1_iface1_name} -w s1_1.pcap\")\n",
    "s1.execute_thread(f\"sudo tcpdump -i {s1_iface2_name} -w s1_2.pcap\")\n",
    "print(\"s1\")\n",
    "s2.execute_thread(f\"sudo tcpdump -i {s2_iface1_name} -w s2_1.pcap\")\n",
    "s2.execute_thread(f\"sudo tcpdump -i {s2_iface2_name} -w s2_2.pcap\")\n",
    "print(\"s2\")"
   ]
  },
  {
   "cell_type": "markdown",
   "id": "0902d69a",
   "metadata": {},
   "source": [
    "The code snippet initiates an asynchronous task on the host \"h1\" to execute a Python script named \"sendPacket.py\" using elevated privileges (`sudo`). This script send packets by passing three arguments: `1`, `2`, and `30`. The first one is represents the host that is sending the packet. The second argument, in this case \"2\", is the host destination. And the last argument represents the number of packes that are going to send."
   ]
  },
  {
   "cell_type": "code",
   "execution_count": 214,
   "id": "9bb695eb",
   "metadata": {},
   "outputs": [],
   "source": [
    "mriPacket_send = h1.execute_thread(f\"sudo python3 sendPacket.py 1 2 30\")"
   ]
  },
  {
   "cell_type": "markdown",
   "id": "d34a52ed",
   "metadata": {},
   "source": [
    "The sleep(10) function call in your code causes the program to pause or delay its execution for 10 seconds. "
   ]
  },
  {
   "cell_type": "code",
   "execution_count": 215,
   "id": "988e191a",
   "metadata": {},
   "outputs": [],
   "source": [
    "sleep(10)"
   ]
  },
  {
   "cell_type": "markdown",
   "id": "f029e6f3",
   "metadata": {},
   "source": [
    "The Python code snippet runs a script named \"BgT_iperf.py\" on the host \"h1\", passing three arguments: h2_ip, tiperf, and nthreads. \"h2_ip\" represents the ip of the destination host. \"tiperf\" id the duration of the test in seconds, specified by the tiperf variable. Finally \"nthreads\" is the number of parallel client threads to use during the iperf test, specified by the nthreads variable."
   ]
  },
  {
   "cell_type": "code",
   "execution_count": 216,
   "id": "07d30ea6",
   "metadata": {},
   "outputs": [],
   "source": [
    "iperf_h1 = h1.execute(f\"python3 BgT_iperf.py {h2_ip} {tiperf} {nthreads}\",quiet=True)"
   ]
  },
  {
   "cell_type": "markdown",
   "id": "d2533a86",
   "metadata": {},
   "source": [
    "The sleep(15) function call in your code causes the program to pause or delay its execution for 15 seconds. "
   ]
  },
  {
   "cell_type": "code",
   "execution_count": 217,
   "id": "17c73c55",
   "metadata": {},
   "outputs": [],
   "source": [
    "sleep(15)"
   ]
  },
  {
   "cell_type": "markdown",
   "id": "074ce8ab",
   "metadata": {},
   "source": [
    "The code snippet processes the JSON output from an iperf network test, formats it for readability, and saves it to a file. It begins by parsing the JSON output stored in iperf_h1[0] into a Python dictionary. Then, it converts this dictionary back into a JSON-formatted string with indentation for clarity. Finally, it writes this formatted JSON data to a file named according to the experiment number, ensuring the results are neatly saved and organized."
   ]
  },
  {
   "cell_type": "code",
   "execution_count": 218,
   "id": "7b626c43",
   "metadata": {},
   "outputs": [],
   "source": [
    "data_dict = json.loads(iperf_h1[0])\n",
    "json_data = json.dumps(data_dict, indent=4)\n",
    "with open(f'./graphs/data/exp{experimentNumber}.json', 'w') as file:\n",
    "    file.write(json_data)"
   ]
  },
  {
   "cell_type": "markdown",
   "id": "6e06c529",
   "metadata": {},
   "source": [
    "The code snippet processes the output of the receive.py program, formats it for readability, and saves it to a file. "
   ]
  },
  {
   "cell_type": "code",
   "execution_count": 219,
   "id": "d4d368c0",
   "metadata": {},
   "outputs": [],
   "source": [
    "stdout, stderr = h2.execute(\"sudo killall python3\", quiet=True)\n",
    "hex_list = mriPacket_receive.result()[0].split('\\n')[1:-1]\n",
    "df = pd.DataFrame(hex_list, columns=['Values'])\n",
    "df.to_csv(f'./graphs/data/exp{experimentNumber}.csv', index=False)"
   ]
  },
  {
   "cell_type": "markdown",
   "id": "95803bc0",
   "metadata": {},
   "source": [
    "The following lines executes a command to terminate all tcpdump processes silently in all the nodes of the experiment. "
   ]
  },
  {
   "cell_type": "code",
   "execution_count": 220,
   "id": "b00d3b93",
   "metadata": {},
   "outputs": [],
   "source": [
    "stdout, stderr = h1.execute(\"sudo killall tcpdump\", quiet=True)\n",
    "stdout, stderr = h2.execute(\"sudo killall tcpdump\", quiet=True)\n",
    "stdout, stderr = s1.execute(\"sudo killall tcpdump\", quiet=True)\n",
    "stdout, stderr = s2.execute(\"sudo killall tcpdump\", quiet=True)"
   ]
  },
  {
   "cell_type": "markdown",
   "id": "2c9ede6a",
   "metadata": {},
   "source": [
    "The following code process the pcap output of each of the tcpdump commands and extract the values of the number of packets of each type and the size of bytes."
   ]
  },
  {
   "cell_type": "code",
   "execution_count": 221,
   "id": "a154f814",
   "metadata": {},
   "outputs": [
    {
     "name": "stdout",
     "output_type": "stream",
     "text": [
      "[[29, 65, 65.0, 65], [1816, 46, 1486.8303964757708, 1490]]\n",
      "[[24, 81, 81.0, 81], [298, 46, 1470.6845637583892, 1490]]\n",
      "hosts\n",
      "[[30, 65, 65.0, 65], [1816, 56, 1486.84140969163, 1490]]\n",
      "[[24, 73, 73.0, 73], [298, 56, 1470.751677852349, 1490]]\n",
      "s1\n",
      "[[24, 73, 73.0, 73], [298, 56, 1470.751677852349, 1490]]\n",
      "[[23, 81, 81.0, 81], [298, 56, 1470.751677852349, 1490]]\n",
      "s2\n"
     ]
    }
   ],
   "source": [
    "h1_0 = h1.execute(\"sudo python3 nPackets.py h1_0.pcap\")\n",
    "h2_0 = h2.execute(\"sudo python3 nPackets.py h2_0.pcap\")\n",
    "print(\"hosts\")\n",
    "s1_1 = s1.execute(\"sudo python3 nPackets.py s1_1.pcap\")\n",
    "s1_2 = s1.execute(\"sudo python3 nPackets.py s1_2.pcap\")\n",
    "print(\"s1\")\n",
    "s2_1 = s2.execute(\"sudo python3 nPackets.py s2_1.pcap\")\n",
    "s2_2 = s2.execute(\"sudo python3 nPackets.py s2_2.pcap\")\n",
    "print(\"s2\")"
   ]
  },
  {
   "cell_type": "markdown",
   "id": "88ba5229",
   "metadata": {},
   "source": [
    "In the following code we are going to take the outputs of the cell above and store them in a pandas dataframe. "
   ]
  },
  {
   "cell_type": "code",
   "execution_count": 222,
   "id": "7293b7a8",
   "metadata": {},
   "outputs": [],
   "source": [
    "array_string = h1_0[0].strip()\n",
    "data = json.loads(array_string)\n",
    "dataframeh1_0 = pd.DataFrame(data).T\n",
    "dataframeh1_0.columns = ['h1_MRI', 'h1_iperf']\n",
    "\n",
    "array_string = h2_0[0].strip()\n",
    "data = json.loads(array_string)\n",
    "dataframeh2_0 = pd.DataFrame(data).T\n",
    "dataframeh2_0.columns = ['h2_MRI', 'h2_iperf']\n",
    "\n",
    "dataframe_hosts = pd.concat([dataframeh1_0, dataframeh2_0], axis=1)\n",
    "\n",
    "array_string = s1_1[0].strip()\n",
    "data = json.loads(array_string)\n",
    "dataframes1_1 = pd.DataFrame(data).T\n",
    "dataframes1_1.columns = ['s11_MRI', 's11_iperf']\n",
    "\n",
    "array_string = s1_2[0].strip()\n",
    "data = json.loads(array_string)\n",
    "dataframes1_2 = pd.DataFrame(data).T\n",
    "dataframes1_2.columns = ['s12_MRI', 's12_iperf']\n",
    "\n",
    "dataframe_s1 = pd.concat([dataframes1_1, dataframes1_2], axis=1)\n",
    "\n",
    "array_string = s2_1[0].strip()\n",
    "data = json.loads(array_string)\n",
    "dataframes2_1 = pd.DataFrame(data).T\n",
    "dataframes2_1.columns = ['s21_MRI', 's21_iperf']\n",
    "\n",
    "array_string = s2_2[0].strip()\n",
    "data = json.loads(array_string)\n",
    "dataframes2_2 = pd.DataFrame(data).T\n",
    "dataframes2_2.columns = ['s22_MRI', 's22_iperf']\n",
    "\n",
    "dataframe_s2 = pd.concat([dataframes2_1, dataframes2_2], axis=1)"
   ]
  },
  {
   "cell_type": "markdown",
   "id": "93a46ab6",
   "metadata": {},
   "source": [
    "The code snippet saves data from three different DataFrames to CSV files, organizing the results of an experiment based on the experimentNumber variable."
   ]
  },
  {
   "cell_type": "code",
   "execution_count": 223,
   "id": "8e4d2351",
   "metadata": {},
   "outputs": [],
   "source": [
    "dataframe_hosts.to_csv(f'./graphs/data/exp{experimentNumber}_nH.csv', index=False)\n",
    "dataframe_s1.to_csv(f'./graphs/data/exp{experimentNumber}_nS1.csv', index=False)\n",
    "dataframe_s2.to_csv(f'./graphs/data/exp{experimentNumber}_nS2.csv', index=False)"
   ]
  },
  {
   "cell_type": "markdown",
   "id": "deda155d",
   "metadata": {
    "jp-MarkdownHeadingCollapsed": true
   },
   "source": [
    "#### Experiment 17"
   ]
  },
  {
   "cell_type": "markdown",
   "id": "c39d3595",
   "metadata": {},
   "source": [
    "To execute this experiment, we need to set the \"set_queue_depth\" value for the switches to 50 and the \"set_queue_rate\" to 25. Three threads of traffic will be sent using iperf for a duration of 10 seconds. Below, you can see an image depicting the traffic that will be sent. "
   ]
  },
  {
   "attachments": {
    "af332cff-0427-4b58-97c4-28b9430e2dc4.jpg": {
     "image/jpeg": "[encoded data removed]"
    }
   },
   "cell_type": "markdown",
   "id": "c5c8c20d",
   "metadata": {},
   "source": [
    "![exp7X.jpg](attachment:af332cff-0427-4b58-97c4-28b9430e2dc4.jpg)"
   ]
  },
  {
   "cell_type": "markdown",
   "id": "faa65bc5",
   "metadata": {},
   "source": [
    "In the code snippet, three variables are set up for a configuration or script that appears to be preparing for a network performance testing scenario:\n",
    "\n",
    "- experimentNumber: This variable likely indicates a identifier for the experiment.\n",
    "\n",
    "- tiperf: This variable specifies the duration in seconds for the iperf3 command. \n",
    "\n",
    "- nthreads: This variable defines the number of parallel client threads to be used in the test. \n",
    "\n",
    "These variables are essential for controlling the parameters of a network testing session, allowing for precise adjustments to the testing environment based on the needs of the experiment or the specifics of the network being tested."
   ]
  },
  {
   "cell_type": "code",
   "execution_count": 224,
   "id": "fd53b2c5",
   "metadata": {},
   "outputs": [],
   "source": [
    "experimentNumber = 17\n",
    "tiperf = 10\n",
    "nthreads = 3"
   ]
  },
  {
   "cell_type": "markdown",
   "id": "27315d0a",
   "metadata": {},
   "source": [
    "The first line executes a command to terminate all iperf3 processes silently in h2, while the second line does the same for all Python 3 instances, capturing any output or errors into stdout and stderr respectively. "
   ]
  },
  {
   "cell_type": "code",
   "execution_count": 225,
   "id": "061affdb",
   "metadata": {},
   "outputs": [],
   "source": [
    "#h2.execute(\"sudo killall iperf3\", quiet=True)\n",
    "stdout, stderr = h2.execute(\"sudo killall python3\", quiet=True)"
   ]
  },
  {
   "cell_type": "markdown",
   "id": "84d90525",
   "metadata": {},
   "source": [
    "The Python code snippet launches an iperf3 server instance on \"h2\" in a separate thread. This is accomplished using a method called execute_thread, which likely allows the iperf3 -s command (indicating server mode) to run asynchronously, ensuring that the main program can continue executing other tasks without waiting for the iperf3 server process to finish."
   ]
  },
  {
   "cell_type": "code",
   "execution_count": 226,
   "id": "f778b579",
   "metadata": {},
   "outputs": [],
   "source": [
    "#iperf2 = h2.execute_thread(f\"iperf3 -s\")"
   ]
  },
  {
   "cell_type": "markdown",
   "id": "e3e231a8",
   "metadata": {},
   "source": [
    "The Python code snippet launches a script named receive.py on \"h2\" using elevated privileges (sudo). The script is run asynchronously in a separate thread by the method execute_thread, allowing the main program to continue its execution without waiting for receive.py to complete."
   ]
  },
  {
   "cell_type": "code",
   "execution_count": 227,
   "id": "d42ff88f",
   "metadata": {},
   "outputs": [],
   "source": [
    "mriPacket_receive = h2.execute_thread(f\"sudo python3 receive.py\")"
   ]
  },
  {
   "cell_type": "markdown",
   "id": "ba019fa1",
   "metadata": {},
   "source": [
    "The following cell orchestrates parallel network traffic captures across multiple devices—two hosts and two switches—using `tcpdump`, a command-line packet analyzer. Commands are executed asynchronously in separate threads to prevent blocking, enabling simultaneous captures on specified network interfaces for each device. For hosts `h1` and `h2`, and switches `s1` and `s2`, traffic is recorded on their respective interfaces, with each session outputting to a dedicated pcap file."
   ]
  },
  {
   "cell_type": "code",
   "execution_count": 228,
   "id": "ddd5c8d8",
   "metadata": {},
   "outputs": [
    {
     "name": "stdout",
     "output_type": "stream",
     "text": [
      "hosts\n",
      "s1\n",
      "s2\n"
     ]
    }
   ],
   "source": [
    "h1.execute_thread(f\"sudo tcpdump -i {h1_iface0_name} -w h1_0.pcap\")\n",
    "h2.execute_thread(f\"sudo tcpdump -i {h2_iface0_name} -w h2_0.pcap\")\n",
    "print(\"hosts\")\n",
    "s1.execute_thread(f\"sudo tcpdump -i {s1_iface1_name} -w s1_1.pcap\")\n",
    "s1.execute_thread(f\"sudo tcpdump -i {s1_iface2_name} -w s1_2.pcap\")\n",
    "print(\"s1\")\n",
    "s2.execute_thread(f\"sudo tcpdump -i {s2_iface1_name} -w s2_1.pcap\")\n",
    "s2.execute_thread(f\"sudo tcpdump -i {s2_iface2_name} -w s2_2.pcap\")\n",
    "print(\"s2\")"
   ]
  },
  {
   "cell_type": "markdown",
   "id": "068d3175",
   "metadata": {},
   "source": [
    "The code snippet initiates an asynchronous task on the host \"h1\" to execute a Python script named \"sendPacket.py\" using elevated privileges (`sudo`). This script send packets by passing three arguments: `1`, `2`, and `30`. The first one is represents the host that is sending the packet. The second argument, in this case \"2\", is the host destination. And the last argument represents the number of packes that are going to send."
   ]
  },
  {
   "cell_type": "code",
   "execution_count": 229,
   "id": "ae39912d",
   "metadata": {},
   "outputs": [],
   "source": [
    "mriPacket_send = h1.execute_thread(f\"sudo python3 sendPacket.py 1 2 30\")"
   ]
  },
  {
   "cell_type": "markdown",
   "id": "57972a79",
   "metadata": {},
   "source": [
    "The sleep(10) function call in your code causes the program to pause or delay its execution for 10 seconds. "
   ]
  },
  {
   "cell_type": "code",
   "execution_count": 230,
   "id": "df226c52",
   "metadata": {},
   "outputs": [],
   "source": [
    "sleep(10)"
   ]
  },
  {
   "cell_type": "markdown",
   "id": "35d13521",
   "metadata": {},
   "source": [
    "The Python code snippet runs a script named \"BgT_iperf.py\" on the host \"h1\", passing three arguments: h2_ip, tiperf, and nthreads. \"h2_ip\" represents the ip of the destination host. \"tiperf\" id the duration of the test in seconds, specified by the tiperf variable. Finally \"nthreads\" is the number of parallel client threads to use during the iperf test, specified by the nthreads variable."
   ]
  },
  {
   "cell_type": "code",
   "execution_count": 231,
   "id": "5b9e1fc7",
   "metadata": {},
   "outputs": [],
   "source": [
    "iperf_h1 = h1.execute(f\"python3 BgT_iperf.py {h2_ip} {tiperf} {nthreads}\",quiet=True)"
   ]
  },
  {
   "cell_type": "markdown",
   "id": "da44c09a",
   "metadata": {},
   "source": [
    "The sleep(15) function call in your code causes the program to pause or delay its execution for 15 seconds. "
   ]
  },
  {
   "cell_type": "code",
   "execution_count": 232,
   "id": "e732ffaf",
   "metadata": {},
   "outputs": [],
   "source": [
    "sleep(15)"
   ]
  },
  {
   "cell_type": "markdown",
   "id": "58c1afad",
   "metadata": {},
   "source": [
    "The code snippet processes the JSON output from an iperf network test, formats it for readability, and saves it to a file. It begins by parsing the JSON output stored in iperf_h1[0] into a Python dictionary. Then, it converts this dictionary back into a JSON-formatted string with indentation for clarity. Finally, it writes this formatted JSON data to a file named according to the experiment number, ensuring the results are neatly saved and organized."
   ]
  },
  {
   "cell_type": "code",
   "execution_count": 233,
   "id": "ade54b98",
   "metadata": {},
   "outputs": [],
   "source": [
    "data_dict = json.loads(iperf_h1[0])\n",
    "json_data = json.dumps(data_dict, indent=4)\n",
    "with open(f'./graphs/data/exp{experimentNumber}.json', 'w') as file:\n",
    "    file.write(json_data)"
   ]
  },
  {
   "cell_type": "markdown",
   "id": "57f8f3df",
   "metadata": {},
   "source": [
    "The code snippet processes the output of the receive.py program, formats it for readability, and saves it to a file. "
   ]
  },
  {
   "cell_type": "code",
   "execution_count": 234,
   "id": "94bdf92b",
   "metadata": {},
   "outputs": [],
   "source": [
    "stdout, stderr = h2.execute(\"sudo killall python3\", quiet=True)\n",
    "hex_list = mriPacket_receive.result()[0].split('\\n')[1:-1]\n",
    "df = pd.DataFrame(hex_list, columns=['Values'])\n",
    "df.to_csv(f'./graphs/data/exp{experimentNumber}.csv', index=False)"
   ]
  },
  {
   "cell_type": "markdown",
   "id": "45e4eed4",
   "metadata": {},
   "source": [
    "The following lines executes a command to terminate all tcpdump processes silently in all the nodes of the experiment. "
   ]
  },
  {
   "cell_type": "code",
   "execution_count": 235,
   "id": "1e386aeb",
   "metadata": {},
   "outputs": [],
   "source": [
    "stdout, stderr = h1.execute(\"sudo killall tcpdump\", quiet=True)\n",
    "stdout, stderr = h2.execute(\"sudo killall tcpdump\", quiet=True)\n",
    "stdout, stderr = s1.execute(\"sudo killall tcpdump\", quiet=True)\n",
    "stdout, stderr = s2.execute(\"sudo killall tcpdump\", quiet=True)"
   ]
  },
  {
   "cell_type": "markdown",
   "id": "35ae5019",
   "metadata": {},
   "source": [
    "The following code process the pcap output of each of the tcpdump commands and extract the values of the number of packets of each type and the size of bytes."
   ]
  },
  {
   "cell_type": "code",
   "execution_count": 236,
   "id": "8d9e6149",
   "metadata": {},
   "outputs": [
    {
     "name": "stdout",
     "output_type": "stream",
     "text": [
      "[[30, 65, 65.0, 65], [2724, 46, 1486.8303964757708, 1490]]\n",
      "[[21, 81, 81.0, 81], [302, 46, 1461.41059602649, 1490]]\n",
      "hosts\n",
      "[[30, 65, 65.0, 65], [2724, 56, 1486.84140969163, 1490]]\n",
      "[[22, 73, 73.0, 73], [302, 56, 1461.5099337748345, 1490]]\n",
      "s1\n",
      "[[22, 73, 73.0, 73], [302, 56, 1461.5099337748345, 1490]]\n",
      "[[22, 81, 81.0, 81], [302, 56, 1461.5099337748345, 1490]]\n",
      "s2\n"
     ]
    }
   ],
   "source": [
    "h1_0 = h1.execute(\"sudo python3 nPackets.py h1_0.pcap\")\n",
    "h2_0 = h2.execute(\"sudo python3 nPackets.py h2_0.pcap\")\n",
    "print(\"hosts\")\n",
    "s1_1 = s1.execute(\"sudo python3 nPackets.py s1_1.pcap\")\n",
    "s1_2 = s1.execute(\"sudo python3 nPackets.py s1_2.pcap\")\n",
    "print(\"s1\")\n",
    "s2_1 = s2.execute(\"sudo python3 nPackets.py s2_1.pcap\")\n",
    "s2_2 = s2.execute(\"sudo python3 nPackets.py s2_2.pcap\")\n",
    "print(\"s2\")"
   ]
  },
  {
   "cell_type": "markdown",
   "id": "c2fe60da",
   "metadata": {},
   "source": [
    "In the following code we are going to take the outputs of the cell above and store them in a pandas dataframe. "
   ]
  },
  {
   "cell_type": "code",
   "execution_count": 237,
   "id": "8b8da2c3",
   "metadata": {},
   "outputs": [],
   "source": [
    "array_string = h1_0[0].strip()\n",
    "data = json.loads(array_string)\n",
    "dataframeh1_0 = pd.DataFrame(data).T\n",
    "dataframeh1_0.columns = ['h1_MRI', 'h1_iperf']\n",
    "\n",
    "array_string = h2_0[0].strip()\n",
    "data = json.loads(array_string)\n",
    "dataframeh2_0 = pd.DataFrame(data).T\n",
    "dataframeh2_0.columns = ['h2_MRI', 'h2_iperf']\n",
    "\n",
    "dataframe_hosts = pd.concat([dataframeh1_0, dataframeh2_0], axis=1)\n",
    "\n",
    "array_string = s1_1[0].strip()\n",
    "data = json.loads(array_string)\n",
    "dataframes1_1 = pd.DataFrame(data).T\n",
    "dataframes1_1.columns = ['s11_MRI', 's11_iperf']\n",
    "\n",
    "array_string = s1_2[0].strip()\n",
    "data = json.loads(array_string)\n",
    "dataframes1_2 = pd.DataFrame(data).T\n",
    "dataframes1_2.columns = ['s12_MRI', 's12_iperf']\n",
    "\n",
    "dataframe_s1 = pd.concat([dataframes1_1, dataframes1_2], axis=1)\n",
    "\n",
    "array_string = s2_1[0].strip()\n",
    "data = json.loads(array_string)\n",
    "dataframes2_1 = pd.DataFrame(data).T\n",
    "dataframes2_1.columns = ['s21_MRI', 's21_iperf']\n",
    "\n",
    "array_string = s2_2[0].strip()\n",
    "data = json.loads(array_string)\n",
    "dataframes2_2 = pd.DataFrame(data).T\n",
    "dataframes2_2.columns = ['s22_MRI', 's22_iperf']\n",
    "\n",
    "dataframe_s2 = pd.concat([dataframes2_1, dataframes2_2], axis=1)"
   ]
  },
  {
   "cell_type": "markdown",
   "id": "2e90c102",
   "metadata": {},
   "source": [
    "The code snippet saves data from three different DataFrames to CSV files, organizing the results of an experiment based on the experimentNumber variable."
   ]
  },
  {
   "cell_type": "code",
   "execution_count": 238,
   "id": "c4ca3016",
   "metadata": {},
   "outputs": [],
   "source": [
    "dataframe_hosts.to_csv(f'./graphs/data/exp{experimentNumber}_nH.csv', index=False)\n",
    "dataframe_s1.to_csv(f'./graphs/data/exp{experimentNumber}_nS1.csv', index=False)\n",
    "dataframe_s2.to_csv(f'./graphs/data/exp{experimentNumber}_nS2.csv', index=False)"
   ]
  },
  {
   "cell_type": "markdown",
   "id": "cbf0f9aa",
   "metadata": {
    "jp-MarkdownHeadingCollapsed": true
   },
   "source": [
    "#### Experiment 18"
   ]
  },
  {
   "cell_type": "markdown",
   "id": "f427d1b7",
   "metadata": {},
   "source": [
    "To execute this experiment, we need to set the \"set_queue_depth\" value for the switches to 50 and the \"set_queue_rate\" to 25. Four threads of traffic will be sent using iperf for a duration of 10 seconds. Below, you can see an image depicting the traffic that will be sent. "
   ]
  },
  {
   "attachments": {
    "69a67a16-46e2-42aa-bd25-43fad48ca0bb.jpg": {
     "image/jpeg": "[encoded data removed]"
    }
   },
   "cell_type": "markdown",
   "id": "3a90404f",
   "metadata": {},
   "source": [
    "![exp8X.jpg](attachment:69a67a16-46e2-42aa-bd25-43fad48ca0bb.jpg)"
   ]
  },
  {
   "cell_type": "markdown",
   "id": "ef4e35f1",
   "metadata": {},
   "source": [
    "In the code snippet, three variables are set up for a configuration or script that appears to be preparing for a network performance testing scenario:\n",
    "\n",
    "- experimentNumber: This variable likely indicates a identifier for the experiment.\n",
    "\n",
    "- tiperf: This variable specifies the duration in seconds for the iperf3 command. \n",
    "\n",
    "- nthreads: This variable defines the number of parallel client threads to be used in the test. \n",
    "\n",
    "These variables are essential for controlling the parameters of a network testing session, allowing for precise adjustments to the testing environment based on the needs of the experiment or the specifics of the network being tested."
   ]
  },
  {
   "cell_type": "code",
   "execution_count": 239,
   "id": "53625d34",
   "metadata": {},
   "outputs": [],
   "source": [
    "experimentNumber = 18\n",
    "tiperf = 10\n",
    "nthreads = 4"
   ]
  },
  {
   "cell_type": "markdown",
   "id": "b7b493e6",
   "metadata": {},
   "source": [
    "The first line executes a command to terminate all iperf3 processes silently in h2, while the second line does the same for all Python 3 instances, capturing any output or errors into stdout and stderr respectively. "
   ]
  },
  {
   "cell_type": "code",
   "execution_count": 240,
   "id": "7b709fdf",
   "metadata": {},
   "outputs": [],
   "source": [
    "#h2.execute(\"sudo killall iperf3\", quiet=True)\n",
    "stdout, stderr = h2.execute(\"sudo killall python3\", quiet=True)"
   ]
  },
  {
   "cell_type": "markdown",
   "id": "ea59f2ed",
   "metadata": {},
   "source": [
    "The Python code snippet launches an iperf3 server instance on \"h2\" in a separate thread. This is accomplished using a method called execute_thread, which likely allows the iperf3 -s command (indicating server mode) to run asynchronously, ensuring that the main program can continue executing other tasks without waiting for the iperf3 server process to finish."
   ]
  },
  {
   "cell_type": "code",
   "execution_count": 241,
   "id": "0390e61d",
   "metadata": {},
   "outputs": [],
   "source": [
    "#iperf2 = h2.execute_thread(f\"iperf3 -s\")"
   ]
  },
  {
   "cell_type": "markdown",
   "id": "740d2305",
   "metadata": {},
   "source": [
    "The Python code snippet launches a script named receive.py on \"h2\" using elevated privileges (sudo). The script is run asynchronously in a separate thread by the method execute_thread, allowing the main program to continue its execution without waiting for receive.py to complete."
   ]
  },
  {
   "cell_type": "code",
   "execution_count": 242,
   "id": "a92d8a55",
   "metadata": {},
   "outputs": [],
   "source": [
    "mriPacket_receive = h2.execute_thread(f\"sudo python3 receive.py\")"
   ]
  },
  {
   "cell_type": "markdown",
   "id": "81c3c9ab",
   "metadata": {},
   "source": [
    "The following cell orchestrates parallel network traffic captures across multiple devices—two hosts and two switches—using `tcpdump`, a command-line packet analyzer. Commands are executed asynchronously in separate threads to prevent blocking, enabling simultaneous captures on specified network interfaces for each device. For hosts `h1` and `h2`, and switches `s1` and `s2`, traffic is recorded on their respective interfaces, with each session outputting to a dedicated pcap file."
   ]
  },
  {
   "cell_type": "code",
   "execution_count": 243,
   "id": "5f41f35e",
   "metadata": {},
   "outputs": [
    {
     "name": "stdout",
     "output_type": "stream",
     "text": [
      "hosts\n",
      "s1\n",
      "s2\n"
     ]
    }
   ],
   "source": [
    "h1.execute_thread(f\"sudo tcpdump -i {h1_iface0_name} -w h1_0.pcap\")\n",
    "h2.execute_thread(f\"sudo tcpdump -i {h2_iface0_name} -w h2_0.pcap\")\n",
    "print(\"hosts\")\n",
    "s1.execute_thread(f\"sudo tcpdump -i {s1_iface1_name} -w s1_1.pcap\")\n",
    "s1.execute_thread(f\"sudo tcpdump -i {s1_iface2_name} -w s1_2.pcap\")\n",
    "print(\"s1\")\n",
    "s2.execute_thread(f\"sudo tcpdump -i {s2_iface1_name} -w s2_1.pcap\")\n",
    "s2.execute_thread(f\"sudo tcpdump -i {s2_iface2_name} -w s2_2.pcap\")\n",
    "print(\"s2\")"
   ]
  },
  {
   "cell_type": "markdown",
   "id": "15f21529",
   "metadata": {},
   "source": [
    "The code snippet initiates an asynchronous task on the host \"h1\" to execute a Python script named \"sendPacket.py\" using elevated privileges (`sudo`). This script send packets by passing three arguments: `1`, `2`, and `30`. The first one is represents the host that is sending the packet. The second argument, in this case \"2\", is the host destination. And the last argument represents the number of packes that are going to send."
   ]
  },
  {
   "cell_type": "code",
   "execution_count": 244,
   "id": "ecdf07ae",
   "metadata": {},
   "outputs": [],
   "source": [
    "mriPacket_send = h1.execute_thread(f\"sudo python3 sendPacket.py 1 2 30\")"
   ]
  },
  {
   "cell_type": "markdown",
   "id": "522ce869",
   "metadata": {},
   "source": [
    "The sleep(10) function call in your code causes the program to pause or delay its execution for 10 seconds. "
   ]
  },
  {
   "cell_type": "code",
   "execution_count": 245,
   "id": "bcf68ee7",
   "metadata": {},
   "outputs": [],
   "source": [
    "sleep(10)"
   ]
  },
  {
   "cell_type": "markdown",
   "id": "62cb01e4",
   "metadata": {},
   "source": [
    "The Python code snippet runs a script named \"BgT_iperf.py\" on the host \"h1\", passing three arguments: h2_ip, tiperf, and nthreads. \"h2_ip\" represents the ip of the destination host. \"tiperf\" id the duration of the test in seconds, specified by the tiperf variable. Finally \"nthreads\" is the number of parallel client threads to use during the iperf test, specified by the nthreads variable."
   ]
  },
  {
   "cell_type": "code",
   "execution_count": 246,
   "id": "30bd6924",
   "metadata": {},
   "outputs": [],
   "source": [
    "iperf_h1 = h1.execute(f\"python3 BgT_iperf.py {h2_ip} {tiperf} {nthreads}\",quiet=True)"
   ]
  },
  {
   "cell_type": "markdown",
   "id": "b99949c6",
   "metadata": {},
   "source": [
    "The sleep(15) function call in your code causes the program to pause or delay its execution for 15 seconds. "
   ]
  },
  {
   "cell_type": "code",
   "execution_count": 247,
   "id": "ab00e260",
   "metadata": {},
   "outputs": [],
   "source": [
    "sleep(15)"
   ]
  },
  {
   "cell_type": "markdown",
   "id": "30126021",
   "metadata": {},
   "source": [
    "The code snippet processes the JSON output from an iperf network test, formats it for readability, and saves it to a file. It begins by parsing the JSON output stored in iperf_h1[0] into a Python dictionary. Then, it converts this dictionary back into a JSON-formatted string with indentation for clarity. Finally, it writes this formatted JSON data to a file named according to the experiment number, ensuring the results are neatly saved and organized."
   ]
  },
  {
   "cell_type": "code",
   "execution_count": 248,
   "id": "9919429f",
   "metadata": {},
   "outputs": [],
   "source": [
    "data_dict = json.loads(iperf_h1[0])\n",
    "json_data = json.dumps(data_dict, indent=4)\n",
    "with open(f'./graphs/data/exp{experimentNumber}.json', 'w') as file:\n",
    "    file.write(json_data)"
   ]
  },
  {
   "cell_type": "markdown",
   "id": "04a867e5",
   "metadata": {},
   "source": [
    "The code snippet processes the output of the receive.py program, formats it for readability, and saves it to a file. "
   ]
  },
  {
   "cell_type": "code",
   "execution_count": 249,
   "id": "daa5c032",
   "metadata": {},
   "outputs": [],
   "source": [
    "stdout, stderr = h2.execute(\"sudo killall python3\", quiet=True)\n",
    "hex_list = mriPacket_receive.result()[0].split('\\n')[1:-1]\n",
    "df = pd.DataFrame(hex_list, columns=['Values'])\n",
    "df.to_csv(f'./graphs/data/exp{experimentNumber}.csv', index=False)"
   ]
  },
  {
   "cell_type": "markdown",
   "id": "b1b1a11e",
   "metadata": {},
   "source": [
    "The following lines executes a command to terminate all tcpdump processes silently in all the nodes of the experiment. "
   ]
  },
  {
   "cell_type": "code",
   "execution_count": 250,
   "id": "e74107b7",
   "metadata": {},
   "outputs": [],
   "source": [
    "stdout, stderr = h1.execute(\"sudo killall tcpdump\", quiet=True)\n",
    "stdout, stderr = h2.execute(\"sudo killall tcpdump\", quiet=True)\n",
    "stdout, stderr = s1.execute(\"sudo killall tcpdump\", quiet=True)\n",
    "stdout, stderr = s2.execute(\"sudo killall tcpdump\", quiet=True)"
   ]
  },
  {
   "cell_type": "markdown",
   "id": "366e9e31",
   "metadata": {},
   "source": [
    "The following code process the pcap output of each of the tcpdump commands and extract the values of the number of packets of each type and the size of bytes."
   ]
  },
  {
   "cell_type": "code",
   "execution_count": 251,
   "id": "c8cb2498",
   "metadata": {},
   "outputs": [
    {
     "name": "stdout",
     "output_type": "stream",
     "text": [
      "[[30, 65, 65.0, 65], [3632, 46, 1486.8303964757708, 1490]]\n",
      "[[23, 81, 81.0, 81], [304, 46, 1452.1315789473683, 1490]]\n",
      "hosts\n",
      "[[30, 65, 65.0, 65], [3632, 56, 1486.84140969163, 1490]]\n",
      "[[23, 73, 73.0, 73], [304, 56, 1452.2631578947369, 1490]]\n",
      "s1\n",
      "[[23, 73, 73.0, 73], [304, 56, 1452.2631578947369, 1490]]\n",
      "[[23, 81, 81.0, 81], [304, 56, 1452.2631578947369, 1490]]\n",
      "s2\n"
     ]
    }
   ],
   "source": [
    "h1_0 = h1.execute(\"sudo python3 nPackets.py h1_0.pcap\")\n",
    "h2_0 = h2.execute(\"sudo python3 nPackets.py h2_0.pcap\")\n",
    "print(\"hosts\")\n",
    "s1_1 = s1.execute(\"sudo python3 nPackets.py s1_1.pcap\")\n",
    "s1_2 = s1.execute(\"sudo python3 nPackets.py s1_2.pcap\")\n",
    "print(\"s1\")\n",
    "s2_1 = s2.execute(\"sudo python3 nPackets.py s2_1.pcap\")\n",
    "s2_2 = s2.execute(\"sudo python3 nPackets.py s2_2.pcap\")\n",
    "print(\"s2\")"
   ]
  },
  {
   "cell_type": "markdown",
   "id": "aa20980e",
   "metadata": {},
   "source": [
    "In the following code we are going to take the outputs of the cell above and store them in a pandas dataframe. "
   ]
  },
  {
   "cell_type": "code",
   "execution_count": 252,
   "id": "1cf376ff",
   "metadata": {},
   "outputs": [],
   "source": [
    "array_string = h1_0[0].strip()\n",
    "data = json.loads(array_string)\n",
    "dataframeh1_0 = pd.DataFrame(data).T\n",
    "dataframeh1_0.columns = ['h1_MRI', 'h1_iperf']\n",
    "\n",
    "array_string = h2_0[0].strip()\n",
    "data = json.loads(array_string)\n",
    "dataframeh2_0 = pd.DataFrame(data).T\n",
    "dataframeh2_0.columns = ['h2_MRI', 'h2_iperf']\n",
    "\n",
    "dataframe_hosts = pd.concat([dataframeh1_0, dataframeh2_0], axis=1)\n",
    "\n",
    "array_string = s1_1[0].strip()\n",
    "data = json.loads(array_string)\n",
    "dataframes1_1 = pd.DataFrame(data).T\n",
    "dataframes1_1.columns = ['s11_MRI', 's11_iperf']\n",
    "\n",
    "array_string = s1_2[0].strip()\n",
    "data = json.loads(array_string)\n",
    "dataframes1_2 = pd.DataFrame(data).T\n",
    "dataframes1_2.columns = ['s12_MRI', 's12_iperf']\n",
    "\n",
    "dataframe_s1 = pd.concat([dataframes1_1, dataframes1_2], axis=1)\n",
    "\n",
    "array_string = s2_1[0].strip()\n",
    "data = json.loads(array_string)\n",
    "dataframes2_1 = pd.DataFrame(data).T\n",
    "dataframes2_1.columns = ['s21_MRI', 's21_iperf']\n",
    "\n",
    "array_string = s2_2[0].strip()\n",
    "data = json.loads(array_string)\n",
    "dataframes2_2 = pd.DataFrame(data).T\n",
    "dataframes2_2.columns = ['s22_MRI', 's22_iperf']\n",
    "\n",
    "dataframe_s2 = pd.concat([dataframes2_1, dataframes2_2], axis=1)"
   ]
  },
  {
   "cell_type": "markdown",
   "id": "27195efa",
   "metadata": {},
   "source": [
    "The code snippet saves data from three different DataFrames to CSV files, organizing the results of an experiment based on the experimentNumber variable."
   ]
  },
  {
   "cell_type": "code",
   "execution_count": 253,
   "id": "b22d3169",
   "metadata": {},
   "outputs": [],
   "source": [
    "dataframe_hosts.to_csv(f'./graphs/data/exp{experimentNumber}_nH.csv', index=False)\n",
    "dataframe_s1.to_csv(f'./graphs/data/exp{experimentNumber}_nS1.csv', index=False)\n",
    "dataframe_s2.to_csv(f'./graphs/data/exp{experimentNumber}_nS2.csv', index=False)"
   ]
  },
  {
   "cell_type": "markdown",
   "id": "f6d40ffd",
   "metadata": {
    "jp-MarkdownHeadingCollapsed": true
   },
   "source": [
    "### Experiments 21-28 "
   ]
  },
  {
   "cell_type": "code",
   "execution_count": 254,
   "id": "5020838b",
   "metadata": {},
   "outputs": [
    {
     "name": "stdout",
     "output_type": "stream",
     "text": [
      "Obtaining JSON from switch...\n",
      "Done\n",
      "Control utility for runtime P4 table manipulation\n",
      "RuntimeCmd: RuntimeCmd: RuntimeCmd: \n",
      "Obtaining JSON from switch...\n",
      "Done\n",
      "Control utility for runtime P4 table manipulation\n",
      "RuntimeCmd: RuntimeCmd: RuntimeCmd: \n"
     ]
    },
    {
     "data": {
      "text/plain": [
       "('Obtaining JSON from switch...\\nDone\\nControl utility for runtime P4 table manipulation\\nRuntimeCmd: RuntimeCmd: RuntimeCmd: \\n',\n",
       " '')"
      ]
     },
     "execution_count": 254,
     "metadata": {},
     "output_type": "execute_result"
    }
   ],
   "source": [
    "s1.execute(\"simple_switch_CLI <<< $'set_queue_rate 100\\nset_queue_depth 200'\")\n",
    "s2.execute(\"simple_switch_CLI <<< $'set_queue_rate 50\\nset_queue_depth 100'\")"
   ]
  },
  {
   "cell_type": "markdown",
   "id": "8956c96c",
   "metadata": {
    "jp-MarkdownHeadingCollapsed": true
   },
   "source": [
    "#### Experiment 21 "
   ]
  },
  {
   "cell_type": "markdown",
   "id": "cb7680cb",
   "metadata": {},
   "source": [
    "To execute this experiment, we need to set the \"set_queue_depth\" value for S1 to 100 and the \"set_queue_rate\" to 200. The \"set_queue_depth\" value for S2 to 100 and the \"set_queue_rate\" to 200. A single thread of traffic will be sent using iperf for a duration of 15 seconds. Below, you can see an image depicting the traffic that will be sent. "
   ]
  },
  {
   "attachments": {
    "be9a8c93-0104-4747-ae4a-75a50cb0f992.jpg": {
     "image/jpeg": "[encoded data removed]"
    }
   },
   "cell_type": "markdown",
   "id": "cef83b68",
   "metadata": {},
   "source": [
    "![exp1X.jpg](attachment:be9a8c93-0104-4747-ae4a-75a50cb0f992.jpg)"
   ]
  },
  {
   "cell_type": "markdown",
   "id": "0908971a",
   "metadata": {},
   "source": [
    "In the code snippet, three variables are set up for a configuration or script that appears to be preparing for a network performance testing scenario:\n",
    "\n",
    "- experimentNumber: This variable likely indicates a identifier for the experiment.\n",
    "\n",
    "- tiperf: This variable specifies the duration in seconds for the iperf3 command. \n",
    "\n",
    "- nthreads: This variable defines the number of parallel client threads to be used in the test. \n",
    "\n",
    "These variables are essential for controlling the parameters of a network testing session, allowing for precise adjustments to the testing environment based on the needs of the experiment or the specifics of the network being tested."
   ]
  },
  {
   "cell_type": "code",
   "execution_count": 255,
   "id": "d2859a11",
   "metadata": {},
   "outputs": [],
   "source": [
    "experimentNumber = 21\n",
    "tiperf = 15\n",
    "nthreads = 1"
   ]
  },
  {
   "cell_type": "markdown",
   "id": "d77940b5",
   "metadata": {},
   "source": [
    "The first line executes a command to terminate all iperf3 processes silently in h2, while the second line does the same for all Python 3 instances, capturing any output or errors into stdout and stderr respectively. "
   ]
  },
  {
   "cell_type": "code",
   "execution_count": 256,
   "id": "b2f1feaa",
   "metadata": {},
   "outputs": [],
   "source": [
    "#h2.execute(\"sudo killall iperf3\", quiet=True)\n",
    "stdout, stderr = h2.execute(\"sudo killall python3\", quiet=True)"
   ]
  },
  {
   "cell_type": "markdown",
   "id": "68226a18",
   "metadata": {},
   "source": [
    "The Python code snippet launches an iperf3 server instance on \"h2\" in a separate thread. This is accomplished using a method called execute_thread, which likely allows the iperf3 -s command (indicating server mode) to run asynchronously, ensuring that the main program can continue executing other tasks without waiting for the iperf3 server process to finish."
   ]
  },
  {
   "cell_type": "code",
   "execution_count": 257,
   "id": "89117369",
   "metadata": {},
   "outputs": [],
   "source": [
    "#iperf2 = h2.execute_thread(f\"iperf3 -s\")"
   ]
  },
  {
   "cell_type": "markdown",
   "id": "44feed90",
   "metadata": {},
   "source": [
    "The Python code snippet launches a script named receive.py on \"h2\" using elevated privileges (sudo). The script is run asynchronously in a separate thread by the method execute_thread, allowing the main program to continue its execution without waiting for receive.py to complete."
   ]
  },
  {
   "cell_type": "code",
   "execution_count": 258,
   "id": "dbaf23a2",
   "metadata": {},
   "outputs": [],
   "source": [
    "mriPacket_receive = h2.execute_thread(f\"sudo python3 receive.py\")"
   ]
  },
  {
   "cell_type": "markdown",
   "id": "5eb41bfe",
   "metadata": {},
   "source": [
    "The following cell orchestrates parallel network traffic captures across multiple devices—two hosts and two switches—using `tcpdump`, a command-line packet analyzer. Commands are executed asynchronously in separate threads to prevent blocking, enabling simultaneous captures on specified network interfaces for each device. For hosts `h1` and `h2`, and switches `s1` and `s2`, traffic is recorded on their respective interfaces, with each session outputting to a dedicated pcap file."
   ]
  },
  {
   "cell_type": "code",
   "execution_count": 259,
   "id": "5dd93044",
   "metadata": {},
   "outputs": [
    {
     "name": "stdout",
     "output_type": "stream",
     "text": [
      "hosts\n",
      "s1\n",
      "s2\n"
     ]
    }
   ],
   "source": [
    "h1.execute_thread(f\"sudo tcpdump -i {h1_iface0_name} -w h1_0.pcap\")\n",
    "h2.execute_thread(f\"sudo tcpdump -i {h2_iface0_name} -w h2_0.pcap\")\n",
    "print(\"hosts\")\n",
    "s1.execute_thread(f\"sudo tcpdump -i {s1_iface1_name} -w s1_1.pcap\")\n",
    "s1.execute_thread(f\"sudo tcpdump -i {s1_iface2_name} -w s1_2.pcap\")\n",
    "print(\"s1\")\n",
    "s2.execute_thread(f\"sudo tcpdump -i {s2_iface1_name} -w s2_1.pcap\")\n",
    "s2.execute_thread(f\"sudo tcpdump -i {s2_iface2_name} -w s2_2.pcap\")\n",
    "print(\"s2\")"
   ]
  },
  {
   "cell_type": "markdown",
   "id": "c24c0524",
   "metadata": {},
   "source": [
    "The code snippet initiates an asynchronous task on the host \"h1\" to execute a Python script named \"sendPacket.py\" using elevated privileges (`sudo`). This script send packets by passing three arguments: `1`, `2`, and `30`. The first one is represents the host that is sending the packet. The second argument, in this case \"2\", is the host destination. And the last argument represents the number of packes that are going to send."
   ]
  },
  {
   "cell_type": "code",
   "execution_count": 260,
   "id": "49404597",
   "metadata": {},
   "outputs": [],
   "source": [
    "mriPacket_send = h1.execute_thread(f\"sudo python3 sendPacket.py 1 2 30\")"
   ]
  },
  {
   "cell_type": "markdown",
   "id": "889aa2d9",
   "metadata": {},
   "source": [
    "The sleep(10) function call in your code causes the program to pause or delay its execution for 10 seconds. "
   ]
  },
  {
   "cell_type": "code",
   "execution_count": 261,
   "id": "ce3235a5",
   "metadata": {},
   "outputs": [],
   "source": [
    "sleep(10)"
   ]
  },
  {
   "cell_type": "markdown",
   "id": "82100041",
   "metadata": {},
   "source": [
    "The Python code snippet runs a script named \"BgT_iperf.py\" on the host \"h1\", passing three arguments: h2_ip, tiperf, and nthreads. \"h2_ip\" represents the ip of the destination host. \"tiperf\" id the duration of the test in seconds, specified by the tiperf variable. Finally \"nthreads\" is the number of parallel client threads to use during the iperf test, specified by the nthreads variable."
   ]
  },
  {
   "cell_type": "code",
   "execution_count": 262,
   "id": "c0c71286",
   "metadata": {},
   "outputs": [],
   "source": [
    "iperf_h1 = h1.execute(f\"python3 BgT_iperf.py {h2_ip} {tiperf} {nthreads}\",quiet=True)"
   ]
  },
  {
   "cell_type": "markdown",
   "id": "6eadc113",
   "metadata": {},
   "source": [
    "The sleep(10) function call in your code causes the program to pause or delay its execution for 10 seconds. "
   ]
  },
  {
   "cell_type": "code",
   "execution_count": 263,
   "id": "ba0404e4",
   "metadata": {},
   "outputs": [],
   "source": [
    "sleep(10)"
   ]
  },
  {
   "cell_type": "markdown",
   "id": "e99e114f",
   "metadata": {},
   "source": [
    "The code snippet processes the JSON output from an iperf network test, formats it for readability, and saves it to a file. It begins by parsing the JSON output stored in iperf_h1[0] into a Python dictionary. Then, it converts this dictionary back into a JSON-formatted string with indentation for clarity. Finally, it writes this formatted JSON data to a file named according to the experiment number, ensuring the results are neatly saved and organized."
   ]
  },
  {
   "cell_type": "code",
   "execution_count": 264,
   "id": "a073b3e2",
   "metadata": {},
   "outputs": [],
   "source": [
    "data_dict = json.loads(iperf_h1[0])\n",
    "json_data = json.dumps(data_dict, indent=4)\n",
    "with open(f'./graphs/data/exp{experimentNumber}.json', 'w') as file:\n",
    "    file.write(json_data)"
   ]
  },
  {
   "cell_type": "markdown",
   "id": "ea3f4e2d",
   "metadata": {},
   "source": [
    "The code snippet processes the output of the receive.py program, formats it for readability, and saves it to a file. "
   ]
  },
  {
   "cell_type": "code",
   "execution_count": 265,
   "id": "bc1baac5",
   "metadata": {},
   "outputs": [],
   "source": [
    "stdout, stderr = h2.execute(\"sudo killall python3\", quiet=True)\n",
    "hex_list = mriPacket_receive.result()[0].split('\\n')[1:-1]\n",
    "df = pd.DataFrame(hex_list, columns=['Values'])\n",
    "df.to_csv(f'./graphs/data/exp{experimentNumber}.csv', index=False)"
   ]
  },
  {
   "cell_type": "markdown",
   "id": "af3ed696",
   "metadata": {},
   "source": [
    "The following lines executes a command to terminate all tcpdump processes silently in all the nodes of the experiment. "
   ]
  },
  {
   "cell_type": "code",
   "execution_count": 266,
   "id": "4d5df450",
   "metadata": {},
   "outputs": [],
   "source": [
    "stdout, stderr = h1.execute(\"sudo killall tcpdump\", quiet=True)\n",
    "stdout, stderr = h2.execute(\"sudo killall tcpdump\", quiet=True)\n",
    "stdout, stderr = s1.execute(\"sudo killall tcpdump\", quiet=True)\n",
    "stdout, stderr = s2.execute(\"sudo killall tcpdump\", quiet=True)"
   ]
  },
  {
   "cell_type": "markdown",
   "id": "9e888602",
   "metadata": {},
   "source": [
    "The following code process the pcap output of each of the tcpdump commands and extract the values of the number of packets of each type and the size of bytes."
   ]
  },
  {
   "cell_type": "code",
   "execution_count": 267,
   "id": "0a1d5250",
   "metadata": {},
   "outputs": [
    {
     "name": "stdout",
     "output_type": "stream",
     "text": [
      "[[30, 65, 65.0, 65], [1360, 46, 1487.8838235294118, 1490]]\n",
      "[[25, 81, 81.0, 81], [840, 46, 1486.5738095238096, 1490]]\n",
      "hosts\n",
      "[[30, 65, 65.0, 65], [1360, 56, 1487.8911764705883, 1490]]\n",
      "[[30, 73, 73.0, 73], [1360, 56, 1487.8911764705883, 1490]]\n",
      "s1\n",
      "[[30, 73, 73.0, 73], [1360, 56, 1487.8911764705883, 1490]]\n",
      "[[25, 81, 81.0, 81], [840, 56, 1486.5857142857142, 1490]]\n",
      "s2\n"
     ]
    }
   ],
   "source": [
    "h1_0 = h1.execute(\"sudo python3 nPackets.py h1_0.pcap\")\n",
    "h2_0 = h2.execute(\"sudo python3 nPackets.py h2_0.pcap\")\n",
    "print(\"hosts\")\n",
    "s1_1 = s1.execute(\"sudo python3 nPackets.py s1_1.pcap\")\n",
    "s1_2 = s1.execute(\"sudo python3 nPackets.py s1_2.pcap\")\n",
    "print(\"s1\")\n",
    "s2_1 = s2.execute(\"sudo python3 nPackets.py s2_1.pcap\")\n",
    "s2_2 = s2.execute(\"sudo python3 nPackets.py s2_2.pcap\")\n",
    "print(\"s2\")"
   ]
  },
  {
   "cell_type": "markdown",
   "id": "62df75f5",
   "metadata": {},
   "source": [
    "In the following code we are going to take the outputs of the cell above and store them in a pandas dataframe. "
   ]
  },
  {
   "cell_type": "code",
   "execution_count": 268,
   "id": "2a435a4b",
   "metadata": {},
   "outputs": [],
   "source": [
    "array_string = h1_0[0].strip()\n",
    "data = json.loads(array_string)\n",
    "dataframeh1_0 = pd.DataFrame(data).T\n",
    "dataframeh1_0.columns = ['h1_MRI', 'h1_iperf']\n",
    "\n",
    "array_string = h2_0[0].strip()\n",
    "data = json.loads(array_string)\n",
    "dataframeh2_0 = pd.DataFrame(data).T\n",
    "dataframeh2_0.columns = ['h2_MRI', 'h2_iperf']\n",
    "\n",
    "dataframe_hosts = pd.concat([dataframeh1_0, dataframeh2_0], axis=1)\n",
    "\n",
    "array_string = s1_1[0].strip()\n",
    "data = json.loads(array_string)\n",
    "dataframes1_1 = pd.DataFrame(data).T\n",
    "dataframes1_1.columns = ['s11_MRI', 's11_iperf']\n",
    "\n",
    "array_string = s1_2[0].strip()\n",
    "data = json.loads(array_string)\n",
    "dataframes1_2 = pd.DataFrame(data).T\n",
    "dataframes1_2.columns = ['s12_MRI', 's12_iperf']\n",
    "\n",
    "dataframe_s1 = pd.concat([dataframes1_1, dataframes1_2], axis=1)\n",
    "\n",
    "array_string = s2_1[0].strip()\n",
    "data = json.loads(array_string)\n",
    "dataframes2_1 = pd.DataFrame(data).T\n",
    "dataframes2_1.columns = ['s21_MRI', 's21_iperf']\n",
    "\n",
    "array_string = s2_2[0].strip()\n",
    "data = json.loads(array_string)\n",
    "dataframes2_2 = pd.DataFrame(data).T\n",
    "dataframes2_2.columns = ['s22_MRI', 's22_iperf']\n",
    "\n",
    "dataframe_s2 = pd.concat([dataframes2_1, dataframes2_2], axis=1)"
   ]
  },
  {
   "cell_type": "markdown",
   "id": "384ab512",
   "metadata": {},
   "source": [
    "The code snippet saves data from three different DataFrames to CSV files, organizing the results of an experiment based on the experimentNumber variable."
   ]
  },
  {
   "cell_type": "code",
   "execution_count": 269,
   "id": "14af18fb",
   "metadata": {},
   "outputs": [],
   "source": [
    "dataframe_hosts.to_csv(f'./graphs/data/exp{experimentNumber}_nH.csv', index=False)\n",
    "dataframe_s1.to_csv(f'./graphs/data/exp{experimentNumber}_nS1.csv', index=False)\n",
    "dataframe_s2.to_csv(f'./graphs/data/exp{experimentNumber}_nS2.csv', index=False)"
   ]
  },
  {
   "cell_type": "markdown",
   "id": "78a3e256",
   "metadata": {
    "jp-MarkdownHeadingCollapsed": true
   },
   "source": [
    "#### Experiment 22"
   ]
  },
  {
   "cell_type": "markdown",
   "id": "8f8efa68",
   "metadata": {},
   "source": [
    "To execute this experiment, we need to set the \"set_queue_depth\" value for S1 to 100 and the \"set_queue_rate\" to 200. The \"set_queue_depth\" value for S2 to 100 and the \"set_queue_rate\" to 200. Two threads of traffic will be sent using iperf for a duration of 15 seconds. Below, you can see an image depicting the traffic that will be sent. "
   ]
  },
  {
   "attachments": {
    "18d46efb-0f0a-4b1f-86f3-dd395241e5b2.jpg": {
     "image/jpeg": "[encoded data removed]"
    }
   },
   "cell_type": "markdown",
   "id": "1da3df82",
   "metadata": {},
   "source": [
    "![exp2X.jpg](attachment:18d46efb-0f0a-4b1f-86f3-dd395241e5b2.jpg)"
   ]
  },
  {
   "cell_type": "markdown",
   "id": "8334af00",
   "metadata": {},
   "source": [
    "In the code snippet, three variables are set up for a configuration or script that appears to be preparing for a network performance testing scenario:\n",
    "\n",
    "- experimentNumber: This variable likely indicates a identifier for the experiment.\n",
    "\n",
    "- tiperf: This variable specifies the duration in seconds for the iperf3 command. \n",
    "\n",
    "- nthreads: This variable defines the number of parallel client threads to be used in the test. \n",
    "\n",
    "These variables are essential for controlling the parameters of a network testing session, allowing for precise adjustments to the testing environment based on the needs of the experiment or the specifics of the network being tested."
   ]
  },
  {
   "cell_type": "code",
   "execution_count": 270,
   "id": "e870351d",
   "metadata": {},
   "outputs": [],
   "source": [
    "experimentNumber = 22\n",
    "tiperf = 15\n",
    "nthreads = 2"
   ]
  },
  {
   "cell_type": "markdown",
   "id": "a6ec08ec",
   "metadata": {},
   "source": [
    "The first line executes a command to terminate all iperf3 processes silently in h2, while the second line does the same for all Python 3 instances, capturing any output or errors into stdout and stderr respectively. "
   ]
  },
  {
   "cell_type": "code",
   "execution_count": 271,
   "id": "61970ddd",
   "metadata": {},
   "outputs": [],
   "source": [
    "#h2.execute(\"sudo killall iperf3\", quiet=True)\n",
    "stdout, stderr = h2.execute(\"sudo killall python3\", quiet=True)"
   ]
  },
  {
   "cell_type": "markdown",
   "id": "8df29d0a",
   "metadata": {},
   "source": [
    "The Python code snippet launches an iperf3 server instance on \"h2\" in a separate thread. This is accomplished using a method called execute_thread, which likely allows the iperf3 -s command (indicating server mode) to run asynchronously, ensuring that the main program can continue executing other tasks without waiting for the iperf3 server process to finish."
   ]
  },
  {
   "cell_type": "code",
   "execution_count": 272,
   "id": "36002861",
   "metadata": {},
   "outputs": [],
   "source": [
    "#iperf2 = h2.execute_thread(f\"iperf3 -s\")"
   ]
  },
  {
   "cell_type": "markdown",
   "id": "4e813573",
   "metadata": {},
   "source": [
    "The Python code snippet launches a script named receive.py on \"h2\" using elevated privileges (sudo). The script is run asynchronously in a separate thread by the method execute_thread, allowing the main program to continue its execution without waiting for receive.py to complete."
   ]
  },
  {
   "cell_type": "code",
   "execution_count": 273,
   "id": "946ee6e9",
   "metadata": {},
   "outputs": [],
   "source": [
    "mriPacket_receive = h2.execute_thread(f\"sudo python3 receive.py\")"
   ]
  },
  {
   "cell_type": "markdown",
   "id": "629a4540",
   "metadata": {},
   "source": [
    "The following cell orchestrates parallel network traffic captures across multiple devices—two hosts and two switches—using `tcpdump`, a command-line packet analyzer. Commands are executed asynchronously in separate threads to prevent blocking, enabling simultaneous captures on specified network interfaces for each device. For hosts `h1` and `h2`, and switches `s1` and `s2`, traffic is recorded on their respective interfaces, with each session outputting to a dedicated pcap file."
   ]
  },
  {
   "cell_type": "code",
   "execution_count": 274,
   "id": "b5b2c339",
   "metadata": {},
   "outputs": [
    {
     "name": "stdout",
     "output_type": "stream",
     "text": [
      "hosts\n",
      "s1\n",
      "s2\n"
     ]
    }
   ],
   "source": [
    "h1.execute_thread(f\"sudo tcpdump -i {h1_iface0_name} -w h1_0.pcap\")\n",
    "h2.execute_thread(f\"sudo tcpdump -i {h2_iface0_name} -w h2_0.pcap\")\n",
    "print(\"hosts\")\n",
    "s1.execute_thread(f\"sudo tcpdump -i {s1_iface1_name} -w s1_1.pcap\")\n",
    "s1.execute_thread(f\"sudo tcpdump -i {s1_iface2_name} -w s1_2.pcap\")\n",
    "print(\"s1\")\n",
    "s2.execute_thread(f\"sudo tcpdump -i {s2_iface1_name} -w s2_1.pcap\")\n",
    "s2.execute_thread(f\"sudo tcpdump -i {s2_iface2_name} -w s2_2.pcap\")\n",
    "print(\"s2\")"
   ]
  },
  {
   "cell_type": "markdown",
   "id": "0d5e4364",
   "metadata": {},
   "source": [
    "The code snippet initiates an asynchronous task on the host \"h1\" to execute a Python script named \"sendPacket.py\" using elevated privileges (`sudo`). This script send packets by passing three arguments: `1`, `2`, and `30`. The first one is represents the host that is sending the packet. The second argument, in this case \"2\", is the host destination. And the last argument represents the number of packes that are going to send."
   ]
  },
  {
   "cell_type": "code",
   "execution_count": 275,
   "id": "0cc19f91",
   "metadata": {},
   "outputs": [],
   "source": [
    "mriPacket_send = h1.execute_thread(f\"sudo python3 sendPacket.py 1 2 30\")"
   ]
  },
  {
   "cell_type": "markdown",
   "id": "bdb1405b",
   "metadata": {},
   "source": [
    "The sleep(10) function call in your code causes the program to pause or delay its execution for 10 seconds. "
   ]
  },
  {
   "cell_type": "code",
   "execution_count": 276,
   "id": "19aebde1",
   "metadata": {},
   "outputs": [],
   "source": [
    "sleep(10)"
   ]
  },
  {
   "cell_type": "markdown",
   "id": "cee2128b",
   "metadata": {},
   "source": [
    "The Python code snippet runs a script named \"BgT_iperf.py\" on the host \"h1\", passing three arguments: h2_ip, tiperf, and nthreads. \"h2_ip\" represents the ip of the destination host. \"tiperf\" id the duration of the test in seconds, specified by the tiperf variable. Finally \"nthreads\" is the number of parallel client threads to use during the iperf test, specified by the nthreads variable."
   ]
  },
  {
   "cell_type": "code",
   "execution_count": 277,
   "id": "8742abb7",
   "metadata": {},
   "outputs": [],
   "source": [
    "iperf_h1 = h1.execute(f\"python3 BgT_iperf.py {h2_ip} {tiperf} {nthreads}\",quiet=True)"
   ]
  },
  {
   "cell_type": "markdown",
   "id": "f5c71d70",
   "metadata": {},
   "source": [
    "The sleep(10) function call in your code causes the program to pause or delay its execution for 10 seconds. "
   ]
  },
  {
   "cell_type": "code",
   "execution_count": 278,
   "id": "9efa0dce",
   "metadata": {},
   "outputs": [],
   "source": [
    "sleep(10)"
   ]
  },
  {
   "cell_type": "markdown",
   "id": "ed8739b1",
   "metadata": {},
   "source": [
    "The code snippet processes the JSON output from an iperf network test, formats it for readability, and saves it to a file. It begins by parsing the JSON output stored in iperf_h1[0] into a Python dictionary. Then, it converts this dictionary back into a JSON-formatted string with indentation for clarity. Finally, it writes this formatted JSON data to a file named according to the experiment number, ensuring the results are neatly saved and organized."
   ]
  },
  {
   "cell_type": "code",
   "execution_count": 279,
   "id": "6fc8e5ca",
   "metadata": {},
   "outputs": [],
   "source": [
    "data_dict = json.loads(iperf_h1[0])\n",
    "json_data = json.dumps(data_dict, indent=4)\n",
    "with open(f'./graphs/data/exp{experimentNumber}.json', 'w') as file:\n",
    "    file.write(json_data)"
   ]
  },
  {
   "cell_type": "markdown",
   "id": "315f852b",
   "metadata": {},
   "source": [
    "The code snippet processes the output of the receive.py program, formats it for readability, and saves it to a file. "
   ]
  },
  {
   "cell_type": "code",
   "execution_count": 280,
   "id": "f467fbb2",
   "metadata": {},
   "outputs": [],
   "source": [
    "stdout, stderr = h2.execute(\"sudo killall python3\", quiet=True)\n",
    "hex_list = mriPacket_receive.result()[0].split('\\n')[1:-1]\n",
    "df = pd.DataFrame(hex_list, columns=['Values'])\n",
    "df.to_csv(f'./graphs/data/exp{experimentNumber}.csv', index=False)"
   ]
  },
  {
   "cell_type": "markdown",
   "id": "e7c3cc0a",
   "metadata": {},
   "source": [
    "The following lines executes a command to terminate all tcpdump processes silently in all the nodes of the experiment. "
   ]
  },
  {
   "cell_type": "code",
   "execution_count": 281,
   "id": "5a1bf412",
   "metadata": {},
   "outputs": [],
   "source": [
    "stdout, stderr = h1.execute(\"sudo killall tcpdump\", quiet=True)\n",
    "stdout, stderr = h2.execute(\"sudo killall tcpdump\", quiet=True)\n",
    "stdout, stderr = s1.execute(\"sudo killall tcpdump\", quiet=True)\n",
    "stdout, stderr = s2.execute(\"sudo killall tcpdump\", quiet=True)"
   ]
  },
  {
   "cell_type": "markdown",
   "id": "15423b75",
   "metadata": {},
   "source": [
    "The following code process the pcap output of each of the tcpdump commands and extract the values of the number of packets of each type and the size of bytes."
   ]
  },
  {
   "cell_type": "code",
   "execution_count": 282,
   "id": "a3a01d34",
   "metadata": {},
   "outputs": [
    {
     "name": "stdout",
     "output_type": "stream",
     "text": [
      "[[30, 65, 65.0, 65], [2720, 46, 1487.8838235294118, 1490]]\n",
      "[[18, 81, 81.0, 81], [947, 46, 1483.921858500528, 1490]]\n",
      "hosts\n",
      "[[29, 65, 65.0, 65], [2720, 56, 1487.8911764705883, 1490]]\n",
      "[[21, 73, 73.0, 73], [1694, 56, 1486.6139315230225, 1490]]\n",
      "s1\n",
      "[[20, 73, 73.0, 73], [1694, 56, 1486.6139315230225, 1490]]\n",
      "[[18, 81, 81.0, 81], [947, 56, 1483.9429778247097, 1490]]\n",
      "s2\n"
     ]
    }
   ],
   "source": [
    "h1_0 = h1.execute(\"sudo python3 nPackets.py h1_0.pcap\")\n",
    "h2_0 = h2.execute(\"sudo python3 nPackets.py h2_0.pcap\")\n",
    "print(\"hosts\")\n",
    "s1_1 = s1.execute(\"sudo python3 nPackets.py s1_1.pcap\")\n",
    "s1_2 = s1.execute(\"sudo python3 nPackets.py s1_2.pcap\")\n",
    "print(\"s1\")\n",
    "s2_1 = s2.execute(\"sudo python3 nPackets.py s2_1.pcap\")\n",
    "s2_2 = s2.execute(\"sudo python3 nPackets.py s2_2.pcap\")\n",
    "print(\"s2\")"
   ]
  },
  {
   "cell_type": "markdown",
   "id": "9bccffb8",
   "metadata": {},
   "source": [
    "In the following code we are going to take the outputs of the cell above and store them in a pandas dataframe. "
   ]
  },
  {
   "cell_type": "code",
   "execution_count": 283,
   "id": "09a5d976",
   "metadata": {},
   "outputs": [],
   "source": [
    "array_string = h1_0[0].strip()\n",
    "data = json.loads(array_string)\n",
    "dataframeh1_0 = pd.DataFrame(data).T\n",
    "dataframeh1_0.columns = ['h1_MRI', 'h1_iperf']\n",
    "\n",
    "array_string = h2_0[0].strip()\n",
    "data = json.loads(array_string)\n",
    "dataframeh2_0 = pd.DataFrame(data).T\n",
    "dataframeh2_0.columns = ['h2_MRI', 'h2_iperf']\n",
    "\n",
    "dataframe_hosts = pd.concat([dataframeh1_0, dataframeh2_0], axis=1)\n",
    "\n",
    "array_string = s1_1[0].strip()\n",
    "data = json.loads(array_string)\n",
    "dataframes1_1 = pd.DataFrame(data).T\n",
    "dataframes1_1.columns = ['s11_MRI', 's11_iperf']\n",
    "\n",
    "array_string = s1_2[0].strip()\n",
    "data = json.loads(array_string)\n",
    "dataframes1_2 = pd.DataFrame(data).T\n",
    "dataframes1_2.columns = ['s12_MRI', 's12_iperf']\n",
    "\n",
    "dataframe_s1 = pd.concat([dataframes1_1, dataframes1_2], axis=1)\n",
    "\n",
    "array_string = s2_1[0].strip()\n",
    "data = json.loads(array_string)\n",
    "dataframes2_1 = pd.DataFrame(data).T\n",
    "dataframes2_1.columns = ['s21_MRI', 's21_iperf']\n",
    "\n",
    "array_string = s2_2[0].strip()\n",
    "data = json.loads(array_string)\n",
    "dataframes2_2 = pd.DataFrame(data).T\n",
    "dataframes2_2.columns = ['s22_MRI', 's22_iperf']\n",
    "\n",
    "dataframe_s2 = pd.concat([dataframes2_1, dataframes2_2], axis=1)"
   ]
  },
  {
   "cell_type": "markdown",
   "id": "7a1d0cfa",
   "metadata": {},
   "source": [
    "The code snippet saves data from three different DataFrames to CSV files, organizing the results of an experiment based on the experimentNumber variable."
   ]
  },
  {
   "cell_type": "code",
   "execution_count": 284,
   "id": "84fea2bf",
   "metadata": {},
   "outputs": [],
   "source": [
    "dataframe_hosts.to_csv(f'./graphs/data/exp{experimentNumber}_nH.csv', index=False)\n",
    "dataframe_s1.to_csv(f'./graphs/data/exp{experimentNumber}_nS1.csv', index=False)\n",
    "dataframe_s2.to_csv(f'./graphs/data/exp{experimentNumber}_nS2.csv', index=False)"
   ]
  },
  {
   "cell_type": "markdown",
   "id": "8ac441e6",
   "metadata": {
    "jp-MarkdownHeadingCollapsed": true
   },
   "source": [
    "#### Experiment 23"
   ]
  },
  {
   "cell_type": "markdown",
   "id": "2c1aa2e1",
   "metadata": {},
   "source": [
    "To execute this experiment, we need to set the \"set_queue_depth\" value for S1 to 100 and the \"set_queue_rate\" to 200. The \"set_queue_depth\" value for S2 to 100 and the \"set_queue_rate\" to 200. Three threads of traffic will be sent using iperf for a duration of 15 seconds. Below, you can see an image depicting the traffic that will be sent. "
   ]
  },
  {
   "attachments": {
    "939d2528-64a5-41c6-a323-8c0871e8c557.jpg": {
     "image/jpeg": "[encoded data removed]"
    }
   },
   "cell_type": "markdown",
   "id": "6e281cc7",
   "metadata": {},
   "source": [
    "![exp3X.jpg](attachment:939d2528-64a5-41c6-a323-8c0871e8c557.jpg)"
   ]
  },
  {
   "cell_type": "markdown",
   "id": "5635a49b",
   "metadata": {},
   "source": [
    "In the code snippet, three variables are set up for a configuration or script that appears to be preparing for a network performance testing scenario:\n",
    "\n",
    "- experimentNumber: This variable likely indicates a identifier for the experiment.\n",
    "\n",
    "- tiperf: This variable specifies the duration in seconds for the iperf3 command. \n",
    "\n",
    "- nthreads: This variable defines the number of parallel client threads to be used in the test. \n",
    "\n",
    "These variables are essential for controlling the parameters of a network testing session, allowing for precise adjustments to the testing environment based on the needs of the experiment or the specifics of the network being tested."
   ]
  },
  {
   "cell_type": "code",
   "execution_count": 285,
   "id": "858b3708",
   "metadata": {},
   "outputs": [],
   "source": [
    "experimentNumber = 23\n",
    "tiperf = 15\n",
    "nthreads = 3"
   ]
  },
  {
   "cell_type": "markdown",
   "id": "afb5d540",
   "metadata": {},
   "source": [
    "The first line executes a command to terminate all iperf3 processes silently in h2, while the second line does the same for all Python 3 instances, capturing any output or errors into stdout and stderr respectively. "
   ]
  },
  {
   "cell_type": "code",
   "execution_count": 286,
   "id": "7d113387",
   "metadata": {},
   "outputs": [],
   "source": [
    "#h2.execute(\"sudo killall iperf3\", quiet=True)\n",
    "stdout, stderr = h2.execute(\"sudo killall python3\", quiet=True)"
   ]
  },
  {
   "cell_type": "markdown",
   "id": "f247b37b",
   "metadata": {},
   "source": [
    "The Python code snippet launches an iperf3 server instance on \"h2\" in a separate thread. This is accomplished using a method called execute_thread, which likely allows the iperf3 -s command (indicating server mode) to run asynchronously, ensuring that the main program can continue executing other tasks without waiting for the iperf3 server process to finish."
   ]
  },
  {
   "cell_type": "code",
   "execution_count": 287,
   "id": "d6779b34",
   "metadata": {},
   "outputs": [],
   "source": [
    "#iperf2 = h2.execute_thread(f\"iperf3 -s\")"
   ]
  },
  {
   "cell_type": "markdown",
   "id": "9a5dff31",
   "metadata": {},
   "source": [
    "The Python code snippet launches a script named receive.py on \"h2\" using elevated privileges (sudo). The script is run asynchronously in a separate thread by the method execute_thread, allowing the main program to continue its execution without waiting for receive.py to complete."
   ]
  },
  {
   "cell_type": "code",
   "execution_count": 288,
   "id": "9b94cfd2",
   "metadata": {},
   "outputs": [],
   "source": [
    "mriPacket_receive = h2.execute_thread(f\"sudo python3 receive.py\")"
   ]
  },
  {
   "cell_type": "markdown",
   "id": "517f6fdf",
   "metadata": {},
   "source": [
    "The following cell orchestrates parallel network traffic captures across multiple devices—two hosts and two switches—using `tcpdump`, a command-line packet analyzer. Commands are executed asynchronously in separate threads to prevent blocking, enabling simultaneous captures on specified network interfaces for each device. For hosts `h1` and `h2`, and switches `s1` and `s2`, traffic is recorded on their respective interfaces, with each session outputting to a dedicated pcap file."
   ]
  },
  {
   "cell_type": "code",
   "execution_count": 289,
   "id": "32f04a9b",
   "metadata": {},
   "outputs": [
    {
     "name": "stdout",
     "output_type": "stream",
     "text": [
      "hosts\n",
      "s1\n",
      "s2\n"
     ]
    }
   ],
   "source": [
    "h1.execute_thread(f\"sudo tcpdump -i {h1_iface0_name} -w h1_0.pcap\")\n",
    "h2.execute_thread(f\"sudo tcpdump -i {h2_iface0_name} -w h2_0.pcap\")\n",
    "print(\"hosts\")\n",
    "s1.execute_thread(f\"sudo tcpdump -i {s1_iface1_name} -w s1_1.pcap\")\n",
    "s1.execute_thread(f\"sudo tcpdump -i {s1_iface2_name} -w s1_2.pcap\")\n",
    "print(\"s1\")\n",
    "s2.execute_thread(f\"sudo tcpdump -i {s2_iface1_name} -w s2_1.pcap\")\n",
    "s2.execute_thread(f\"sudo tcpdump -i {s2_iface2_name} -w s2_2.pcap\")\n",
    "print(\"s2\")"
   ]
  },
  {
   "cell_type": "markdown",
   "id": "6dfb4eb5",
   "metadata": {},
   "source": [
    "The code snippet initiates an asynchronous task on the host \"h1\" to execute a Python script named \"sendPacket.py\" using elevated privileges (`sudo`). This script send packets by passing three arguments: `1`, `2`, and `30`. The first one is represents the host that is sending the packet. The second argument, in this case \"2\", is the host destination. And the last argument represents the number of packes that are going to send."
   ]
  },
  {
   "cell_type": "code",
   "execution_count": 290,
   "id": "580ac49c",
   "metadata": {},
   "outputs": [],
   "source": [
    "mriPacket_send = h1.execute_thread(f\"sudo python3 sendPacket.py 1 2 30\")"
   ]
  },
  {
   "cell_type": "markdown",
   "id": "0bd617d0",
   "metadata": {},
   "source": [
    "The sleep(10) function call in your code causes the program to pause or delay its execution for 10 seconds. "
   ]
  },
  {
   "cell_type": "code",
   "execution_count": 291,
   "id": "80847546",
   "metadata": {},
   "outputs": [],
   "source": [
    "sleep(10)"
   ]
  },
  {
   "cell_type": "markdown",
   "id": "962f927d",
   "metadata": {},
   "source": [
    "The Python code snippet runs a script named \"BgT_iperf.py\" on the host \"h1\", passing three arguments: h2_ip, tiperf, and nthreads. \"h2_ip\" represents the ip of the destination host. \"tiperf\" id the duration of the test in seconds, specified by the tiperf variable. Finally \"nthreads\" is the number of parallel client threads to use during the iperf test, specified by the nthreads variable."
   ]
  },
  {
   "cell_type": "code",
   "execution_count": 292,
   "id": "725ba576",
   "metadata": {},
   "outputs": [],
   "source": [
    "iperf_h1 = h1.execute(f\"python3 BgT_iperf.py {h2_ip} {tiperf} {nthreads}\",quiet=True)"
   ]
  },
  {
   "cell_type": "markdown",
   "id": "21d8fdce",
   "metadata": {},
   "source": [
    "The sleep(10) function call in your code causes the program to pause or delay its execution for 10 seconds. "
   ]
  },
  {
   "cell_type": "code",
   "execution_count": 293,
   "id": "7515354a",
   "metadata": {},
   "outputs": [],
   "source": [
    "sleep(10)"
   ]
  },
  {
   "cell_type": "markdown",
   "id": "b87b25c7",
   "metadata": {},
   "source": [
    "The code snippet processes the JSON output from an iperf network test, formats it for readability, and saves it to a file. It begins by parsing the JSON output stored in iperf_h1[0] into a Python dictionary. Then, it converts this dictionary back into a JSON-formatted string with indentation for clarity. Finally, it writes this formatted JSON data to a file named according to the experiment number, ensuring the results are neatly saved and organized."
   ]
  },
  {
   "cell_type": "code",
   "execution_count": 294,
   "id": "b28e1da3",
   "metadata": {},
   "outputs": [],
   "source": [
    "data_dict = json.loads(iperf_h1[0])\n",
    "json_data = json.dumps(data_dict, indent=4)\n",
    "with open(f'./graphs/data/exp{experimentNumber}.json', 'w') as file:\n",
    "    file.write(json_data)"
   ]
  },
  {
   "cell_type": "markdown",
   "id": "2b9612b7",
   "metadata": {},
   "source": [
    "The code snippet processes the output of the receive.py program, formats it for readability, and saves it to a file. "
   ]
  },
  {
   "cell_type": "code",
   "execution_count": 295,
   "id": "05d7a130",
   "metadata": {},
   "outputs": [],
   "source": [
    "stdout, stderr = h2.execute(\"sudo killall python3\", quiet=True)\n",
    "hex_list = mriPacket_receive.result()[0].split('\\n')[1:-1]\n",
    "df = pd.DataFrame(hex_list, columns=['Values'])\n",
    "df.to_csv(f'./graphs/data/exp{experimentNumber}.csv', index=False)"
   ]
  },
  {
   "cell_type": "markdown",
   "id": "3d7a10df",
   "metadata": {},
   "source": [
    "The following lines executes a command to terminate all tcpdump processes silently in all the nodes of the experiment. "
   ]
  },
  {
   "cell_type": "code",
   "execution_count": 296,
   "id": "da86443f",
   "metadata": {},
   "outputs": [],
   "source": [
    "stdout, stderr = h1.execute(\"sudo killall tcpdump\", quiet=True)\n",
    "stdout, stderr = h2.execute(\"sudo killall tcpdump\", quiet=True)\n",
    "stdout, stderr = s1.execute(\"sudo killall tcpdump\", quiet=True)\n",
    "stdout, stderr = s2.execute(\"sudo killall tcpdump\", quiet=True)"
   ]
  },
  {
   "cell_type": "markdown",
   "id": "bb20be3c",
   "metadata": {},
   "source": [
    "The following code process the pcap output of each of the tcpdump commands and extract the values of the number of packets of each type and the size of bytes."
   ]
  },
  {
   "cell_type": "code",
   "execution_count": 297,
   "id": "5693d952",
   "metadata": {},
   "outputs": [
    {
     "name": "stdout",
     "output_type": "stream",
     "text": [
      "[[30, 65, 65.0, 65], [4080, 46, 1487.8838235294118, 1490]]\n",
      "[[20, 81, 81.0, 81], [949, 46, 1480.9020021074816, 1490]]\n",
      "hosts\n",
      "[[30, 65, 65.0, 65], [4080, 56, 1487.8911764705883, 1490]]\n",
      "[[23, 73, 73.0, 73], [1695, 56, 1484.9238938053097, 1490]]\n",
      "s1\n",
      "[[23, 73, 73.0, 73], [1695, 56, 1484.9238938053097, 1490]]\n",
      "[[20, 81, 81.0, 81], [949, 56, 1480.9336143308747, 1490]]\n",
      "s2\n"
     ]
    }
   ],
   "source": [
    "h1_0 = h1.execute(\"sudo python3 nPackets.py h1_0.pcap\")\n",
    "h2_0 = h2.execute(\"sudo python3 nPackets.py h2_0.pcap\")\n",
    "print(\"hosts\")\n",
    "s1_1 = s1.execute(\"sudo python3 nPackets.py s1_1.pcap\")\n",
    "s1_2 = s1.execute(\"sudo python3 nPackets.py s1_2.pcap\")\n",
    "print(\"s1\")\n",
    "s2_1 = s2.execute(\"sudo python3 nPackets.py s2_1.pcap\")\n",
    "s2_2 = s2.execute(\"sudo python3 nPackets.py s2_2.pcap\")\n",
    "print(\"s2\")"
   ]
  },
  {
   "cell_type": "markdown",
   "id": "956e7a8c",
   "metadata": {},
   "source": [
    "In the following code we are going to take the outputs of the cell above and store them in a pandas dataframe. "
   ]
  },
  {
   "cell_type": "code",
   "execution_count": 298,
   "id": "d70c1143",
   "metadata": {},
   "outputs": [],
   "source": [
    "array_string = h1_0[0].strip()\n",
    "data = json.loads(array_string)\n",
    "dataframeh1_0 = pd.DataFrame(data).T\n",
    "dataframeh1_0.columns = ['h1_MRI', 'h1_iperf']\n",
    "\n",
    "array_string = h2_0[0].strip()\n",
    "data = json.loads(array_string)\n",
    "dataframeh2_0 = pd.DataFrame(data).T\n",
    "dataframeh2_0.columns = ['h2_MRI', 'h2_iperf']\n",
    "\n",
    "dataframe_hosts = pd.concat([dataframeh1_0, dataframeh2_0], axis=1)\n",
    "\n",
    "array_string = s1_1[0].strip()\n",
    "data = json.loads(array_string)\n",
    "dataframes1_1 = pd.DataFrame(data).T\n",
    "dataframes1_1.columns = ['s11_MRI', 's11_iperf']\n",
    "\n",
    "array_string = s1_2[0].strip()\n",
    "data = json.loads(array_string)\n",
    "dataframes1_2 = pd.DataFrame(data).T\n",
    "dataframes1_2.columns = ['s12_MRI', 's12_iperf']\n",
    "\n",
    "dataframe_s1 = pd.concat([dataframes1_1, dataframes1_2], axis=1)\n",
    "\n",
    "array_string = s2_1[0].strip()\n",
    "data = json.loads(array_string)\n",
    "dataframes2_1 = pd.DataFrame(data).T\n",
    "dataframes2_1.columns = ['s21_MRI', 's21_iperf']\n",
    "\n",
    "array_string = s2_2[0].strip()\n",
    "data = json.loads(array_string)\n",
    "dataframes2_2 = pd.DataFrame(data).T\n",
    "dataframes2_2.columns = ['s22_MRI', 's22_iperf']\n",
    "\n",
    "dataframe_s2 = pd.concat([dataframes2_1, dataframes2_2], axis=1)"
   ]
  },
  {
   "cell_type": "markdown",
   "id": "40779cf4",
   "metadata": {},
   "source": [
    "The code snippet saves data from three different DataFrames to CSV files, organizing the results of an experiment based on the experimentNumber variable."
   ]
  },
  {
   "cell_type": "code",
   "execution_count": 299,
   "id": "a529e54c",
   "metadata": {},
   "outputs": [],
   "source": [
    "dataframe_hosts.to_csv(f'./graphs/data/exp{experimentNumber}_nH.csv', index=False)\n",
    "dataframe_s1.to_csv(f'./graphs/data/exp{experimentNumber}_nS1.csv', index=False)\n",
    "dataframe_s2.to_csv(f'./graphs/data/exp{experimentNumber}_nS2.csv', index=False)"
   ]
  },
  {
   "cell_type": "markdown",
   "id": "fa199d56",
   "metadata": {
    "jp-MarkdownHeadingCollapsed": true
   },
   "source": [
    "#### Experiment 24"
   ]
  },
  {
   "cell_type": "markdown",
   "id": "b01cdb68",
   "metadata": {},
   "source": [
    "To execute this experiment, we need to set the \"set_queue_depth\" value for S1 to 100 and the \"set_queue_rate\" to 200. The \"set_queue_depth\" value for S2 to 100 and the \"set_queue_rate\" to 200. Four threads of traffic will be sent using iperf for a duration of 15 seconds. Below, you can see an image depicting the traffic that will be sent. "
   ]
  },
  {
   "attachments": {
    "98d1669f-a257-42a7-b26b-dd3afb455235.jpg": {
     "image/jpeg": "[encoded data removed]"
    }
   },
   "cell_type": "markdown",
   "id": "dc04fdb7",
   "metadata": {},
   "source": [
    "![exp4X.jpg](attachment:98d1669f-a257-42a7-b26b-dd3afb455235.jpg)"
   ]
  },
  {
   "cell_type": "markdown",
   "id": "451b9dc5",
   "metadata": {},
   "source": [
    "In the code snippet, three variables are set up for a configuration or script that appears to be preparing for a network performance testing scenario:\n",
    "\n",
    "- experimentNumber: This variable likely indicates a identifier for the experiment.\n",
    "\n",
    "- tiperf: This variable specifies the duration in seconds for the iperf3 command. \n",
    "\n",
    "- nthreads: This variable defines the number of parallel client threads to be used in the test. \n",
    "\n",
    "These variables are essential for controlling the parameters of a network testing session, allowing for precise adjustments to the testing environment based on the needs of the experiment or the specifics of the network being tested."
   ]
  },
  {
   "cell_type": "code",
   "execution_count": 300,
   "id": "8d421a0f",
   "metadata": {},
   "outputs": [],
   "source": [
    "experimentNumber = 24\n",
    "tiperf = 15\n",
    "nthreads = 4"
   ]
  },
  {
   "cell_type": "markdown",
   "id": "e053ac25",
   "metadata": {},
   "source": [
    "The first line executes a command to terminate all iperf3 processes silently in h2, while the second line does the same for all Python 3 instances, capturing any output or errors into stdout and stderr respectively. "
   ]
  },
  {
   "cell_type": "code",
   "execution_count": 301,
   "id": "ccb814c7",
   "metadata": {},
   "outputs": [],
   "source": [
    "#h2.execute(\"sudo killall iperf3\", quiet=True)\n",
    "stdout, stderr = h2.execute(\"sudo killall python3\", quiet=True)"
   ]
  },
  {
   "cell_type": "markdown",
   "id": "9e98cc04",
   "metadata": {},
   "source": [
    "The Python code snippet launches an iperf3 server instance on \"h2\" in a separate thread. This is accomplished using a method called execute_thread, which likely allows the iperf3 -s command (indicating server mode) to run asynchronously, ensuring that the main program can continue executing other tasks without waiting for the iperf3 server process to finish."
   ]
  },
  {
   "cell_type": "code",
   "execution_count": 302,
   "id": "1583761c",
   "metadata": {},
   "outputs": [],
   "source": [
    "#iperf2 = h2.execute_thread(f\"iperf3 -s\")"
   ]
  },
  {
   "cell_type": "markdown",
   "id": "f511d145",
   "metadata": {},
   "source": [
    "The Python code snippet launches a script named receive.py on \"h2\" using elevated privileges (sudo). The script is run asynchronously in a separate thread by the method execute_thread, allowing the main program to continue its execution without waiting for receive.py to complete."
   ]
  },
  {
   "cell_type": "code",
   "execution_count": 303,
   "id": "bdafe6e3",
   "metadata": {},
   "outputs": [],
   "source": [
    "mriPacket_receive = h2.execute_thread(f\"sudo python3 receive.py\")"
   ]
  },
  {
   "cell_type": "markdown",
   "id": "c4f049cd",
   "metadata": {},
   "source": [
    "The following cell orchestrates parallel network traffic captures across multiple devices—two hosts and two switches—using `tcpdump`, a command-line packet analyzer. Commands are executed asynchronously in separate threads to prevent blocking, enabling simultaneous captures on specified network interfaces for each device. For hosts `h1` and `h2`, and switches `s1` and `s2`, traffic is recorded on their respective interfaces, with each session outputting to a dedicated pcap file."
   ]
  },
  {
   "cell_type": "code",
   "execution_count": 304,
   "id": "5491004d",
   "metadata": {},
   "outputs": [
    {
     "name": "stdout",
     "output_type": "stream",
     "text": [
      "hosts\n",
      "s1\n",
      "s2\n"
     ]
    }
   ],
   "source": [
    "h1.execute_thread(f\"sudo tcpdump -i {h1_iface0_name} -w h1_0.pcap\")\n",
    "h2.execute_thread(f\"sudo tcpdump -i {h2_iface0_name} -w h2_0.pcap\")\n",
    "print(\"hosts\")\n",
    "s1.execute_thread(f\"sudo tcpdump -i {s1_iface1_name} -w s1_1.pcap\")\n",
    "s1.execute_thread(f\"sudo tcpdump -i {s1_iface2_name} -w s1_2.pcap\")\n",
    "print(\"s1\")\n",
    "s2.execute_thread(f\"sudo tcpdump -i {s2_iface1_name} -w s2_1.pcap\")\n",
    "s2.execute_thread(f\"sudo tcpdump -i {s2_iface2_name} -w s2_2.pcap\")\n",
    "print(\"s2\")"
   ]
  },
  {
   "cell_type": "markdown",
   "id": "ac5ff327",
   "metadata": {},
   "source": [
    "The code snippet initiates an asynchronous task on the host \"h1\" to execute a Python script named \"sendPacket.py\" using elevated privileges (`sudo`). This script send packets by passing three arguments: `1`, `2`, and `30`. The first one is represents the host that is sending the packet. The second argument, in this case \"2\", is the host destination. And the last argument represents the number of packes that are going to send."
   ]
  },
  {
   "cell_type": "code",
   "execution_count": 305,
   "id": "70bb3ad4",
   "metadata": {},
   "outputs": [],
   "source": [
    "mriPacket_send = h1.execute_thread(f\"sudo python3 sendPacket.py 1 2 30\")"
   ]
  },
  {
   "cell_type": "markdown",
   "id": "dfbf956b",
   "metadata": {},
   "source": [
    "The sleep(10) function call in your code causes the program to pause or delay its execution for 10 seconds. "
   ]
  },
  {
   "cell_type": "code",
   "execution_count": 306,
   "id": "7f62d4ba",
   "metadata": {},
   "outputs": [],
   "source": [
    "sleep(10)"
   ]
  },
  {
   "cell_type": "markdown",
   "id": "32eb6655",
   "metadata": {},
   "source": [
    "The Python code snippet runs a script named \"BgT_iperf.py\" on the host \"h1\", passing three arguments: h2_ip, tiperf, and nthreads. \"h2_ip\" represents the ip of the destination host. \"tiperf\" id the duration of the test in seconds, specified by the tiperf variable. Finally \"nthreads\" is the number of parallel client threads to use during the iperf test, specified by the nthreads variable."
   ]
  },
  {
   "cell_type": "code",
   "execution_count": 307,
   "id": "54082b81",
   "metadata": {},
   "outputs": [],
   "source": [
    "iperf_h1 = h1.execute(f\"python3 BgT_iperf.py {h2_ip} {tiperf} {nthreads}\",quiet=True)"
   ]
  },
  {
   "cell_type": "markdown",
   "id": "c1b551c2",
   "metadata": {},
   "source": [
    "The sleep(10) function call in your code causes the program to pause or delay its execution for 10 seconds. "
   ]
  },
  {
   "cell_type": "code",
   "execution_count": 308,
   "id": "f58d8e87",
   "metadata": {},
   "outputs": [],
   "source": [
    "sleep(10)"
   ]
  },
  {
   "cell_type": "markdown",
   "id": "0712853e",
   "metadata": {},
   "source": [
    "The code snippet processes the JSON output from an iperf network test, formats it for readability, and saves it to a file. It begins by parsing the JSON output stored in iperf_h1[0] into a Python dictionary. Then, it converts this dictionary back into a JSON-formatted string with indentation for clarity. Finally, it writes this formatted JSON data to a file named according to the experiment number, ensuring the results are neatly saved and organized."
   ]
  },
  {
   "cell_type": "code",
   "execution_count": 309,
   "id": "b11d4d22",
   "metadata": {},
   "outputs": [],
   "source": [
    "data_dict = json.loads(iperf_h1[0])\n",
    "json_data = json.dumps(data_dict, indent=4)\n",
    "with open(f'./graphs/data/exp{experimentNumber}.json', 'w') as file:\n",
    "    file.write(json_data)"
   ]
  },
  {
   "cell_type": "markdown",
   "id": "068314cf",
   "metadata": {},
   "source": [
    "The code snippet processes the output of the receive.py program, formats it for readability, and saves it to a file. "
   ]
  },
  {
   "cell_type": "code",
   "execution_count": 310,
   "id": "c07a80f3",
   "metadata": {},
   "outputs": [],
   "source": [
    "stdout, stderr = h2.execute(\"sudo killall python3\", quiet=True)\n",
    "hex_list = mriPacket_receive.result()[0].split('\\n')[1:-1]\n",
    "df = pd.DataFrame(hex_list, columns=['Values'])\n",
    "df.to_csv(f'./graphs/data/exp{experimentNumber}.csv', index=False)"
   ]
  },
  {
   "cell_type": "markdown",
   "id": "2cffb38b",
   "metadata": {},
   "source": [
    "The following lines executes a command to terminate all tcpdump processes silently in all the nodes of the experiment. "
   ]
  },
  {
   "cell_type": "code",
   "execution_count": 311,
   "id": "a02baf29",
   "metadata": {},
   "outputs": [],
   "source": [
    "stdout, stderr = h1.execute(\"sudo killall tcpdump\", quiet=True)\n",
    "stdout, stderr = h2.execute(\"sudo killall tcpdump\", quiet=True)\n",
    "stdout, stderr = s1.execute(\"sudo killall tcpdump\", quiet=True)\n",
    "stdout, stderr = s2.execute(\"sudo killall tcpdump\", quiet=True)"
   ]
  },
  {
   "cell_type": "markdown",
   "id": "49a3504a",
   "metadata": {},
   "source": [
    "The following code process the pcap output of each of the tcpdump commands and extract the values of the number of packets of each type and the size of bytes."
   ]
  },
  {
   "cell_type": "code",
   "execution_count": 312,
   "id": "c7c540db",
   "metadata": {},
   "outputs": [
    {
     "name": "stdout",
     "output_type": "stream",
     "text": [
      "[[30, 65, 65.0, 65], [5440, 46, 1487.8838235294118, 1490]]\n",
      "[[19, 81, 81.0, 81], [953, 46, 1477.9202518363063, 1490]]\n",
      "hosts\n",
      "[[30, 65, 65.0, 65], [5440, 56, 1487.8911764705883, 1490]]\n",
      "[[22, 73, 73.0, 73], [1698, 56, 1483.243816254417, 1490]]\n",
      "s1\n",
      "[[21, 73, 73.0, 73], [1698, 56, 1483.243816254417, 1490]]\n",
      "[[18, 81, 81.0, 81], [953, 56, 1477.96222455404, 1490]]\n",
      "s2\n"
     ]
    }
   ],
   "source": [
    "h1_0 = h1.execute(\"sudo python3 nPackets.py h1_0.pcap\")\n",
    "h2_0 = h2.execute(\"sudo python3 nPackets.py h2_0.pcap\")\n",
    "print(\"hosts\")\n",
    "s1_1 = s1.execute(\"sudo python3 nPackets.py s1_1.pcap\")\n",
    "s1_2 = s1.execute(\"sudo python3 nPackets.py s1_2.pcap\")\n",
    "print(\"s1\")\n",
    "s2_1 = s2.execute(\"sudo python3 nPackets.py s2_1.pcap\")\n",
    "s2_2 = s2.execute(\"sudo python3 nPackets.py s2_2.pcap\")\n",
    "print(\"s2\")"
   ]
  },
  {
   "cell_type": "markdown",
   "id": "98a1aa01",
   "metadata": {},
   "source": [
    "In the following code we are going to take the outputs of the cell above and store them in a pandas dataframe. "
   ]
  },
  {
   "cell_type": "code",
   "execution_count": 313,
   "id": "f1a1f07e",
   "metadata": {},
   "outputs": [],
   "source": [
    "array_string = h1_0[0].strip()\n",
    "data = json.loads(array_string)\n",
    "dataframeh1_0 = pd.DataFrame(data).T\n",
    "dataframeh1_0.columns = ['h1_MRI', 'h1_iperf']\n",
    "\n",
    "array_string = h2_0[0].strip()\n",
    "data = json.loads(array_string)\n",
    "dataframeh2_0 = pd.DataFrame(data).T\n",
    "dataframeh2_0.columns = ['h2_MRI', 'h2_iperf']\n",
    "\n",
    "dataframe_hosts = pd.concat([dataframeh1_0, dataframeh2_0], axis=1)\n",
    "\n",
    "array_string = s1_1[0].strip()\n",
    "data = json.loads(array_string)\n",
    "dataframes1_1 = pd.DataFrame(data).T\n",
    "dataframes1_1.columns = ['s11_MRI', 's11_iperf']\n",
    "\n",
    "array_string = s1_2[0].strip()\n",
    "data = json.loads(array_string)\n",
    "dataframes1_2 = pd.DataFrame(data).T\n",
    "dataframes1_2.columns = ['s12_MRI', 's12_iperf']\n",
    "\n",
    "dataframe_s1 = pd.concat([dataframes1_1, dataframes1_2], axis=1)\n",
    "\n",
    "array_string = s2_1[0].strip()\n",
    "data = json.loads(array_string)\n",
    "dataframes2_1 = pd.DataFrame(data).T\n",
    "dataframes2_1.columns = ['s21_MRI', 's21_iperf']\n",
    "\n",
    "array_string = s2_2[0].strip()\n",
    "data = json.loads(array_string)\n",
    "dataframes2_2 = pd.DataFrame(data).T\n",
    "dataframes2_2.columns = ['s22_MRI', 's22_iperf']\n",
    "\n",
    "dataframe_s2 = pd.concat([dataframes2_1, dataframes2_2], axis=1)"
   ]
  },
  {
   "cell_type": "markdown",
   "id": "d297b453",
   "metadata": {},
   "source": [
    "The code snippet saves data from three different DataFrames to CSV files, organizing the results of an experiment based on the experimentNumber variable."
   ]
  },
  {
   "cell_type": "code",
   "execution_count": 314,
   "id": "c794ef68",
   "metadata": {},
   "outputs": [],
   "source": [
    "dataframe_hosts.to_csv(f'./graphs/data/exp{experimentNumber}_nH.csv', index=False)\n",
    "dataframe_s1.to_csv(f'./graphs/data/exp{experimentNumber}_nS1.csv', index=False)\n",
    "dataframe_s2.to_csv(f'./graphs/data/exp{experimentNumber}_nS2.csv', index=False)"
   ]
  },
  {
   "cell_type": "markdown",
   "id": "e47dab4c",
   "metadata": {
    "jp-MarkdownHeadingCollapsed": true
   },
   "source": [
    "#### Experiment 25"
   ]
  },
  {
   "cell_type": "markdown",
   "id": "30e451f9",
   "metadata": {},
   "source": [
    "To execute this experiment, we need to set the \"set_queue_depth\" value for S1 to 100 and the \"set_queue_rate\" to 200. The \"set_queue_depth\" value for S2 to 100 and the \"set_queue_rate\" to 200. A single thread of traffic will be sent using iperf for a duration of 10 seconds. Below, you can see an image depicting the traffic that will be sent. "
   ]
  },
  {
   "attachments": {
    "572efc5b-fb78-42dc-b35e-0117a0a6264c.jpg": {
     "image/jpeg": "[encoded data removed]"
    }
   },
   "cell_type": "markdown",
   "id": "481a8388",
   "metadata": {},
   "source": [
    "![exp5X.jpg](attachment:572efc5b-fb78-42dc-b35e-0117a0a6264c.jpg)"
   ]
  },
  {
   "cell_type": "markdown",
   "id": "af050056",
   "metadata": {},
   "source": [
    "In the code snippet, three variables are set up for a configuration or script that appears to be preparing for a network performance testing scenario:\n",
    "\n",
    "- experimentNumber: This variable likely indicates a identifier for the experiment.\n",
    "\n",
    "- tiperf: This variable specifies the duration in seconds for the iperf3 command. \n",
    "\n",
    "- nthreads: This variable defines the number of parallel client threads to be used in the test. \n",
    "\n",
    "These variables are essential for controlling the parameters of a network testing session, allowing for precise adjustments to the testing environment based on the needs of the experiment or the specifics of the network being tested."
   ]
  },
  {
   "cell_type": "code",
   "execution_count": 315,
   "id": "aab8c8df",
   "metadata": {},
   "outputs": [],
   "source": [
    "experimentNumber = 25\n",
    "tiperf = 10\n",
    "nthreads = 1"
   ]
  },
  {
   "cell_type": "markdown",
   "id": "fba31c35",
   "metadata": {},
   "source": [
    "The first line executes a command to terminate all iperf3 processes silently in h2, while the second line does the same for all Python 3 instances, capturing any output or errors into stdout and stderr respectively. "
   ]
  },
  {
   "cell_type": "code",
   "execution_count": 316,
   "id": "d52c8d3f",
   "metadata": {},
   "outputs": [],
   "source": [
    "#h2.execute(\"sudo killall iperf3\", quiet=True)\n",
    "stdout, stderr = h2.execute(\"sudo killall python3\", quiet=True)"
   ]
  },
  {
   "cell_type": "markdown",
   "id": "744d4593",
   "metadata": {},
   "source": [
    "The Python code snippet launches an iperf3 server instance on \"h2\" in a separate thread. This is accomplished using a method called execute_thread, which likely allows the iperf3 -s command (indicating server mode) to run asynchronously, ensuring that the main program can continue executing other tasks without waiting for the iperf3 server process to finish."
   ]
  },
  {
   "cell_type": "code",
   "execution_count": 317,
   "id": "a73bfcd6",
   "metadata": {},
   "outputs": [],
   "source": [
    "#iperf2 = h2.execute_thread(f\"iperf3 -s\")"
   ]
  },
  {
   "cell_type": "markdown",
   "id": "a9c60889",
   "metadata": {},
   "source": [
    "The Python code snippet launches a script named receive.py on \"h2\" using elevated privileges (sudo). The script is run asynchronously in a separate thread by the method execute_thread, allowing the main program to continue its execution without waiting for receive.py to complete."
   ]
  },
  {
   "cell_type": "code",
   "execution_count": 318,
   "id": "75b686cd",
   "metadata": {},
   "outputs": [],
   "source": [
    "mriPacket_receive = h2.execute_thread(f\"sudo python3 receive.py\")"
   ]
  },
  {
   "cell_type": "markdown",
   "id": "274c42a3",
   "metadata": {},
   "source": [
    "The following cell orchestrates parallel network traffic captures across multiple devices—two hosts and two switches—using `tcpdump`, a command-line packet analyzer. Commands are executed asynchronously in separate threads to prevent blocking, enabling simultaneous captures on specified network interfaces for each device. For hosts `h1` and `h2`, and switches `s1` and `s2`, traffic is recorded on their respective interfaces, with each session outputting to a dedicated pcap file."
   ]
  },
  {
   "cell_type": "code",
   "execution_count": 319,
   "id": "6644f193",
   "metadata": {},
   "outputs": [
    {
     "name": "stdout",
     "output_type": "stream",
     "text": [
      "hosts\n",
      "s1\n",
      "s2\n"
     ]
    }
   ],
   "source": [
    "h1.execute_thread(f\"sudo tcpdump -i {h1_iface0_name} -w h1_0.pcap\")\n",
    "h2.execute_thread(f\"sudo tcpdump -i {h2_iface0_name} -w h2_0.pcap\")\n",
    "print(\"hosts\")\n",
    "s1.execute_thread(f\"sudo tcpdump -i {s1_iface1_name} -w s1_1.pcap\")\n",
    "s1.execute_thread(f\"sudo tcpdump -i {s1_iface2_name} -w s1_2.pcap\")\n",
    "print(\"s1\")\n",
    "s2.execute_thread(f\"sudo tcpdump -i {s2_iface1_name} -w s2_1.pcap\")\n",
    "s2.execute_thread(f\"sudo tcpdump -i {s2_iface2_name} -w s2_2.pcap\")\n",
    "print(\"s2\")"
   ]
  },
  {
   "cell_type": "markdown",
   "id": "96e69099",
   "metadata": {},
   "source": [
    "The code snippet initiates an asynchronous task on the host \"h1\" to execute a Python script named \"sendPacket.py\" using elevated privileges (`sudo`). This script send packets by passing three arguments: `1`, `2`, and `30`. The first one is represents the host that is sending the packet. The second argument, in this case \"2\", is the host destination. And the last argument represents the number of packes that are going to send."
   ]
  },
  {
   "cell_type": "code",
   "execution_count": 320,
   "id": "aa88cef4",
   "metadata": {},
   "outputs": [],
   "source": [
    "mriPacket_send = h1.execute_thread(f\"sudo python3 sendPacket.py 1 2 30\")"
   ]
  },
  {
   "cell_type": "markdown",
   "id": "59cfe537",
   "metadata": {},
   "source": [
    "The sleep(10) function call in your code causes the program to pause or delay its execution for 10 seconds. "
   ]
  },
  {
   "cell_type": "code",
   "execution_count": 321,
   "id": "fce6ddf7",
   "metadata": {},
   "outputs": [],
   "source": [
    "sleep(10)"
   ]
  },
  {
   "cell_type": "markdown",
   "id": "6c735a12",
   "metadata": {},
   "source": [
    "The Python code snippet runs a script named \"BgT_iperf.py\" on the host \"h1\", passing three arguments: h2_ip, tiperf, and nthreads. \"h2_ip\" represents the ip of the destination host. \"tiperf\" id the duration of the test in seconds, specified by the tiperf variable. Finally \"nthreads\" is the number of parallel client threads to use during the iperf test, specified by the nthreads variable."
   ]
  },
  {
   "cell_type": "code",
   "execution_count": 322,
   "id": "750bad22",
   "metadata": {},
   "outputs": [],
   "source": [
    "iperf_h1 = h1.execute(f\"python3 BgT_iperf.py {h2_ip} {tiperf} {nthreads}\",quiet=True)"
   ]
  },
  {
   "cell_type": "markdown",
   "id": "5614a01a",
   "metadata": {},
   "source": [
    "The sleep(15) function call in your code causes the program to pause or delay its execution for 15 seconds. "
   ]
  },
  {
   "cell_type": "code",
   "execution_count": 323,
   "id": "b14e519c",
   "metadata": {},
   "outputs": [],
   "source": [
    "sleep(15)"
   ]
  },
  {
   "cell_type": "markdown",
   "id": "a9827a6b",
   "metadata": {},
   "source": [
    "The code snippet processes the JSON output from an iperf network test, formats it for readability, and saves it to a file. It begins by parsing the JSON output stored in iperf_h1[0] into a Python dictionary. Then, it converts this dictionary back into a JSON-formatted string with indentation for clarity. Finally, it writes this formatted JSON data to a file named according to the experiment number, ensuring the results are neatly saved and organized."
   ]
  },
  {
   "cell_type": "code",
   "execution_count": 324,
   "id": "cd1358da",
   "metadata": {},
   "outputs": [],
   "source": [
    "data_dict = json.loads(iperf_h1[0])\n",
    "json_data = json.dumps(data_dict, indent=4)\n",
    "with open(f'./graphs/data/exp{experimentNumber}.json', 'w') as file:\n",
    "    file.write(json_data)"
   ]
  },
  {
   "cell_type": "markdown",
   "id": "fc86e2f2",
   "metadata": {},
   "source": [
    "The code snippet processes the output of the receive.py program, formats it for readability, and saves it to a file. "
   ]
  },
  {
   "cell_type": "code",
   "execution_count": 325,
   "id": "f4d8fd14",
   "metadata": {},
   "outputs": [],
   "source": [
    "stdout, stderr = h2.execute(\"sudo killall python3\", quiet=True)\n",
    "hex_list = mriPacket_receive.result()[0].split('\\n')[1:-1]\n",
    "df = pd.DataFrame(hex_list, columns=['Values'])\n",
    "df.to_csv(f'./graphs/data/exp{experimentNumber}.csv', index=False)"
   ]
  },
  {
   "cell_type": "markdown",
   "id": "1fdbae4e",
   "metadata": {},
   "source": [
    "The following lines executes a command to terminate all tcpdump processes silently in all the nodes of the experiment. "
   ]
  },
  {
   "cell_type": "code",
   "execution_count": 326,
   "id": "f20f8944",
   "metadata": {},
   "outputs": [],
   "source": [
    "stdout, stderr = h1.execute(\"sudo killall tcpdump\", quiet=True)\n",
    "stdout, stderr = h2.execute(\"sudo killall tcpdump\", quiet=True)\n",
    "stdout, stderr = s1.execute(\"sudo killall tcpdump\", quiet=True)\n",
    "stdout, stderr = s2.execute(\"sudo killall tcpdump\", quiet=True)"
   ]
  },
  {
   "cell_type": "markdown",
   "id": "a88c6bee",
   "metadata": {},
   "source": [
    "The following code process the pcap output of each of the tcpdump commands and extract the values of the number of packets of each type and the size of bytes."
   ]
  },
  {
   "cell_type": "code",
   "execution_count": 327,
   "id": "cafee329",
   "metadata": {},
   "outputs": [
    {
     "name": "stdout",
     "output_type": "stream",
     "text": [
      "[[30, 65, 65.0, 65], [908, 46, 1486.8303964757708, 1490]]\n",
      "[[28, 81, 81.0, 81], [593, 46, 1485.1467116357505, 1490]]\n",
      "hosts\n",
      "[[30, 65, 65.0, 65], [908, 56, 1486.84140969163, 1490]]\n",
      "[[30, 73, 73.0, 73], [908, 56, 1486.84140969163, 1490]]\n",
      "s1\n",
      "[[30, 73, 73.0, 73], [908, 56, 1486.84140969163, 1490]]\n",
      "[[28, 81, 81.0, 81], [593, 56, 1485.1635750421585, 1490]]\n",
      "s2\n"
     ]
    }
   ],
   "source": [
    "h1_0 = h1.execute(\"sudo python3 nPackets.py h1_0.pcap\")\n",
    "h2_0 = h2.execute(\"sudo python3 nPackets.py h2_0.pcap\")\n",
    "print(\"hosts\")\n",
    "s1_1 = s1.execute(\"sudo python3 nPackets.py s1_1.pcap\")\n",
    "s1_2 = s1.execute(\"sudo python3 nPackets.py s1_2.pcap\")\n",
    "print(\"s1\")\n",
    "s2_1 = s2.execute(\"sudo python3 nPackets.py s2_1.pcap\")\n",
    "s2_2 = s2.execute(\"sudo python3 nPackets.py s2_2.pcap\")\n",
    "print(\"s2\")"
   ]
  },
  {
   "cell_type": "markdown",
   "id": "ecc9ed11",
   "metadata": {},
   "source": [
    "In the following code we are going to take the outputs of the cell above and store them in a pandas dataframe. "
   ]
  },
  {
   "cell_type": "code",
   "execution_count": 328,
   "id": "a0be99e2",
   "metadata": {},
   "outputs": [],
   "source": [
    "array_string = h1_0[0].strip()\n",
    "data = json.loads(array_string)\n",
    "dataframeh1_0 = pd.DataFrame(data).T\n",
    "dataframeh1_0.columns = ['h1_MRI', 'h1_iperf']\n",
    "\n",
    "array_string = h2_0[0].strip()\n",
    "data = json.loads(array_string)\n",
    "dataframeh2_0 = pd.DataFrame(data).T\n",
    "dataframeh2_0.columns = ['h2_MRI', 'h2_iperf']\n",
    "\n",
    "dataframe_hosts = pd.concat([dataframeh1_0, dataframeh2_0], axis=1)\n",
    "\n",
    "array_string = s1_1[0].strip()\n",
    "data = json.loads(array_string)\n",
    "dataframes1_1 = pd.DataFrame(data).T\n",
    "dataframes1_1.columns = ['s11_MRI', 's11_iperf']\n",
    "\n",
    "array_string = s1_2[0].strip()\n",
    "data = json.loads(array_string)\n",
    "dataframes1_2 = pd.DataFrame(data).T\n",
    "dataframes1_2.columns = ['s12_MRI', 's12_iperf']\n",
    "\n",
    "dataframe_s1 = pd.concat([dataframes1_1, dataframes1_2], axis=1)\n",
    "\n",
    "array_string = s2_1[0].strip()\n",
    "data = json.loads(array_string)\n",
    "dataframes2_1 = pd.DataFrame(data).T\n",
    "dataframes2_1.columns = ['s21_MRI', 's21_iperf']\n",
    "\n",
    "array_string = s2_2[0].strip()\n",
    "data = json.loads(array_string)\n",
    "dataframes2_2 = pd.DataFrame(data).T\n",
    "dataframes2_2.columns = ['s22_MRI', 's22_iperf']\n",
    "\n",
    "dataframe_s2 = pd.concat([dataframes2_1, dataframes2_2], axis=1)"
   ]
  },
  {
   "cell_type": "markdown",
   "id": "c0d38a0e",
   "metadata": {},
   "source": [
    "The code snippet saves data from three different DataFrames to CSV files, organizing the results of an experiment based on the experimentNumber variable."
   ]
  },
  {
   "cell_type": "code",
   "execution_count": 329,
   "id": "9bb54f87",
   "metadata": {},
   "outputs": [],
   "source": [
    "dataframe_hosts.to_csv(f'./graphs/data/exp{experimentNumber}_nH.csv', index=False)\n",
    "dataframe_s1.to_csv(f'./graphs/data/exp{experimentNumber}_nS1.csv', index=False)\n",
    "dataframe_s2.to_csv(f'./graphs/data/exp{experimentNumber}_nS2.csv', index=False)"
   ]
  },
  {
   "cell_type": "markdown",
   "id": "67dd2f9e",
   "metadata": {
    "jp-MarkdownHeadingCollapsed": true
   },
   "source": [
    "#### Experiment 26"
   ]
  },
  {
   "cell_type": "markdown",
   "id": "b71757bb",
   "metadata": {},
   "source": [
    "To execute this experiment, we need to set the \"set_queue_depth\" value for S1 to 100 and the \"set_queue_rate\" to 200. The \"set_queue_depth\" value for S2 to 100 and the \"set_queue_rate\" to 200. Two threads of traffic will be sent using iperf for a duration of 10 seconds. Below, you can see an image depicting the traffic that will be sent. "
   ]
  },
  {
   "attachments": {
    "c7eee0a3-7a58-4212-b8e4-e5d676a7cd86.jpg": {
     "image/jpeg": "[encoded data removed]"
    }
   },
   "cell_type": "markdown",
   "id": "40fb4e0f",
   "metadata": {},
   "source": [
    "![exp6X.jpg](attachment:c7eee0a3-7a58-4212-b8e4-e5d676a7cd86.jpg)"
   ]
  },
  {
   "cell_type": "markdown",
   "id": "4b50eb29",
   "metadata": {},
   "source": [
    "In the code snippet, three variables are set up for a configuration or script that appears to be preparing for a network performance testing scenario:\n",
    "\n",
    "- experimentNumber: This variable likely indicates a identifier for the experiment.\n",
    "\n",
    "- tiperf: This variable specifies the duration in seconds for the iperf3 command. \n",
    "\n",
    "- nthreads: This variable defines the number of parallel client threads to be used in the test. \n",
    "\n",
    "These variables are essential for controlling the parameters of a network testing session, allowing for precise adjustments to the testing environment based on the needs of the experiment or the specifics of the network being tested."
   ]
  },
  {
   "cell_type": "code",
   "execution_count": 330,
   "id": "84f699e9",
   "metadata": {},
   "outputs": [],
   "source": [
    "experimentNumber = 26\n",
    "tiperf = 10\n",
    "nthreads = 2"
   ]
  },
  {
   "cell_type": "markdown",
   "id": "19233d8b",
   "metadata": {},
   "source": [
    "The first line executes a command to terminate all iperf3 processes silently in h2, while the second line does the same for all Python 3 instances, capturing any output or errors into stdout and stderr respectively. "
   ]
  },
  {
   "cell_type": "code",
   "execution_count": 331,
   "id": "c84315f1",
   "metadata": {},
   "outputs": [],
   "source": [
    "#h2.execute(\"sudo killall iperf3\", quiet=True)\n",
    "stdout, stderr = h2.execute(\"sudo killall python3\", quiet=True)"
   ]
  },
  {
   "cell_type": "markdown",
   "id": "10713072",
   "metadata": {},
   "source": [
    "The Python code snippet launches an iperf3 server instance on \"h2\" in a separate thread. This is accomplished using a method called execute_thread, which likely allows the iperf3 -s command (indicating server mode) to run asynchronously, ensuring that the main program can continue executing other tasks without waiting for the iperf3 server process to finish."
   ]
  },
  {
   "cell_type": "code",
   "execution_count": 332,
   "id": "96f88e2f",
   "metadata": {},
   "outputs": [],
   "source": [
    "#iperf2 = h2.execute_thread(f\"iperf3 -s\")"
   ]
  },
  {
   "cell_type": "markdown",
   "id": "41306283",
   "metadata": {},
   "source": [
    "The Python code snippet launches a script named receive.py on \"h2\" using elevated privileges (sudo). The script is run asynchronously in a separate thread by the method execute_thread, allowing the main program to continue its execution without waiting for receive.py to complete."
   ]
  },
  {
   "cell_type": "code",
   "execution_count": 333,
   "id": "0164bc4c",
   "metadata": {},
   "outputs": [],
   "source": [
    "mriPacket_receive = h2.execute_thread(f\"sudo python3 receive.py\")"
   ]
  },
  {
   "cell_type": "markdown",
   "id": "08c5408e",
   "metadata": {},
   "source": [
    "The following cell orchestrates parallel network traffic captures across multiple devices—two hosts and two switches—using `tcpdump`, a command-line packet analyzer. Commands are executed asynchronously in separate threads to prevent blocking, enabling simultaneous captures on specified network interfaces for each device. For hosts `h1` and `h2`, and switches `s1` and `s2`, traffic is recorded on their respective interfaces, with each session outputting to a dedicated pcap file."
   ]
  },
  {
   "cell_type": "code",
   "execution_count": 334,
   "id": "ea28343c",
   "metadata": {},
   "outputs": [
    {
     "name": "stdout",
     "output_type": "stream",
     "text": [
      "hosts\n",
      "s1\n",
      "s2\n"
     ]
    }
   ],
   "source": [
    "h1.execute_thread(f\"sudo tcpdump -i {h1_iface0_name} -w h1_0.pcap\")\n",
    "h2.execute_thread(f\"sudo tcpdump -i {h2_iface0_name} -w h2_0.pcap\")\n",
    "print(\"hosts\")\n",
    "s1.execute_thread(f\"sudo tcpdump -i {s1_iface1_name} -w s1_1.pcap\")\n",
    "s1.execute_thread(f\"sudo tcpdump -i {s1_iface2_name} -w s1_2.pcap\")\n",
    "print(\"s1\")\n",
    "s2.execute_thread(f\"sudo tcpdump -i {s2_iface1_name} -w s2_1.pcap\")\n",
    "s2.execute_thread(f\"sudo tcpdump -i {s2_iface2_name} -w s2_2.pcap\")\n",
    "print(\"s2\")"
   ]
  },
  {
   "cell_type": "markdown",
   "id": "27fd0d19",
   "metadata": {},
   "source": [
    "The code snippet initiates an asynchronous task on the host \"h1\" to execute a Python script named \"sendPacket.py\" using elevated privileges (`sudo`). This script send packets by passing three arguments: `1`, `2`, and `30`. The first one is represents the host that is sending the packet. The second argument, in this case \"2\", is the host destination. And the last argument represents the number of packes that are going to send."
   ]
  },
  {
   "cell_type": "code",
   "execution_count": 335,
   "id": "4ee2dadc",
   "metadata": {},
   "outputs": [],
   "source": [
    "mriPacket_send = h1.execute_thread(f\"sudo python3 sendPacket.py 1 2 30\")"
   ]
  },
  {
   "cell_type": "markdown",
   "id": "bdd17c61",
   "metadata": {},
   "source": [
    "The sleep(10) function call in your code causes the program to pause or delay its execution for 10 seconds. "
   ]
  },
  {
   "cell_type": "code",
   "execution_count": 336,
   "id": "74891d4c",
   "metadata": {},
   "outputs": [],
   "source": [
    "sleep(10)"
   ]
  },
  {
   "cell_type": "markdown",
   "id": "17322c22",
   "metadata": {},
   "source": [
    "The Python code snippet runs a script named \"BgT_iperf.py\" on the host \"h1\", passing three arguments: h2_ip, tiperf, and nthreads. \"h2_ip\" represents the ip of the destination host. \"tiperf\" id the duration of the test in seconds, specified by the tiperf variable. Finally \"nthreads\" is the number of parallel client threads to use during the iperf test, specified by the nthreads variable."
   ]
  },
  {
   "cell_type": "code",
   "execution_count": 337,
   "id": "524577a8",
   "metadata": {},
   "outputs": [],
   "source": [
    "iperf_h1 = h1.execute(f\"python3 BgT_iperf.py {h2_ip} {tiperf} {nthreads}\",quiet=True)"
   ]
  },
  {
   "cell_type": "markdown",
   "id": "69ce28e6",
   "metadata": {},
   "source": [
    "The sleep(15) function call in your code causes the program to pause or delay its execution for 15 seconds. "
   ]
  },
  {
   "cell_type": "code",
   "execution_count": 338,
   "id": "3ddcb0ba",
   "metadata": {},
   "outputs": [],
   "source": [
    "sleep(15)"
   ]
  },
  {
   "cell_type": "markdown",
   "id": "22f42986",
   "metadata": {},
   "source": [
    "The code snippet processes the JSON output from an iperf network test, formats it for readability, and saves it to a file. It begins by parsing the JSON output stored in iperf_h1[0] into a Python dictionary. Then, it converts this dictionary back into a JSON-formatted string with indentation for clarity. Finally, it writes this formatted JSON data to a file named according to the experiment number, ensuring the results are neatly saved and organized."
   ]
  },
  {
   "cell_type": "code",
   "execution_count": 339,
   "id": "0063ee61",
   "metadata": {},
   "outputs": [],
   "source": [
    "data_dict = json.loads(iperf_h1[0])\n",
    "json_data = json.dumps(data_dict, indent=4)\n",
    "with open(f'./graphs/data/exp{experimentNumber}.json', 'w') as file:\n",
    "    file.write(json_data)"
   ]
  },
  {
   "cell_type": "markdown",
   "id": "338a61a6",
   "metadata": {},
   "source": [
    "The code snippet processes the output of the receive.py program, formats it for readability, and saves it to a file. "
   ]
  },
  {
   "cell_type": "code",
   "execution_count": 340,
   "id": "2083f05d",
   "metadata": {},
   "outputs": [],
   "source": [
    "stdout, stderr = h2.execute(\"sudo killall python3\", quiet=True)\n",
    "hex_list = mriPacket_receive.result()[0].split('\\n')[1:-1]\n",
    "df = pd.DataFrame(hex_list, columns=['Values'])\n",
    "df.to_csv(f'./graphs/data/exp{experimentNumber}.csv', index=False)"
   ]
  },
  {
   "cell_type": "markdown",
   "id": "540e979d",
   "metadata": {},
   "source": [
    "The following lines executes a command to terminate all tcpdump processes silently in all the nodes of the experiment. "
   ]
  },
  {
   "cell_type": "code",
   "execution_count": 341,
   "id": "bc711c83",
   "metadata": {},
   "outputs": [],
   "source": [
    "stdout, stderr = h1.execute(\"sudo killall tcpdump\", quiet=True)\n",
    "stdout, stderr = h2.execute(\"sudo killall tcpdump\", quiet=True)\n",
    "stdout, stderr = s1.execute(\"sudo killall tcpdump\", quiet=True)\n",
    "stdout, stderr = s2.execute(\"sudo killall tcpdump\", quiet=True)"
   ]
  },
  {
   "cell_type": "markdown",
   "id": "f5dd0795",
   "metadata": {},
   "source": [
    "The following code process the pcap output of each of the tcpdump commands and extract the values of the number of packets of each type and the size of bytes."
   ]
  },
  {
   "cell_type": "code",
   "execution_count": 342,
   "id": "d85cfc87",
   "metadata": {},
   "outputs": [
    {
     "name": "stdout",
     "output_type": "stream",
     "text": [
      "[[30, 65, 65.0, 65], [1816, 46, 1486.8303964757708, 1490]]\n",
      "[[23, 81, 81.0, 81], [698, 46, 1481.753581661891, 1490]]\n",
      "hosts\n",
      "[[29, 65, 65.0, 65], [1816, 56, 1486.84140969163, 1490]]\n",
      "[[26, 73, 73.0, 73], [1194, 56, 1485.1959798994974, 1490]]\n",
      "s1\n",
      "[[27, 73, 73.0, 73], [1194, 56, 1485.1959798994974, 1490]]\n",
      "[[22, 81, 81.0, 81], [698, 56, 1481.7822349570201, 1490]]\n",
      "s2\n"
     ]
    }
   ],
   "source": [
    "h1_0 = h1.execute(\"sudo python3 nPackets.py h1_0.pcap\")\n",
    "h2_0 = h2.execute(\"sudo python3 nPackets.py h2_0.pcap\")\n",
    "print(\"hosts\")\n",
    "s1_1 = s1.execute(\"sudo python3 nPackets.py s1_1.pcap\")\n",
    "s1_2 = s1.execute(\"sudo python3 nPackets.py s1_2.pcap\")\n",
    "print(\"s1\")\n",
    "s2_1 = s2.execute(\"sudo python3 nPackets.py s2_1.pcap\")\n",
    "s2_2 = s2.execute(\"sudo python3 nPackets.py s2_2.pcap\")\n",
    "print(\"s2\")"
   ]
  },
  {
   "cell_type": "markdown",
   "id": "1d616656",
   "metadata": {},
   "source": [
    "In the following code we are going to take the outputs of the cell above and store them in a pandas dataframe. "
   ]
  },
  {
   "cell_type": "code",
   "execution_count": 343,
   "id": "160d8063",
   "metadata": {},
   "outputs": [],
   "source": [
    "array_string = h1_0[0].strip()\n",
    "data = json.loads(array_string)\n",
    "dataframeh1_0 = pd.DataFrame(data).T\n",
    "dataframeh1_0.columns = ['h1_MRI', 'h1_iperf']\n",
    "\n",
    "array_string = h2_0[0].strip()\n",
    "data = json.loads(array_string)\n",
    "dataframeh2_0 = pd.DataFrame(data).T\n",
    "dataframeh2_0.columns = ['h2_MRI', 'h2_iperf']\n",
    "\n",
    "dataframe_hosts = pd.concat([dataframeh1_0, dataframeh2_0], axis=1)\n",
    "\n",
    "array_string = s1_1[0].strip()\n",
    "data = json.loads(array_string)\n",
    "dataframes1_1 = pd.DataFrame(data).T\n",
    "dataframes1_1.columns = ['s11_MRI', 's11_iperf']\n",
    "\n",
    "array_string = s1_2[0].strip()\n",
    "data = json.loads(array_string)\n",
    "dataframes1_2 = pd.DataFrame(data).T\n",
    "dataframes1_2.columns = ['s12_MRI', 's12_iperf']\n",
    "\n",
    "dataframe_s1 = pd.concat([dataframes1_1, dataframes1_2], axis=1)\n",
    "\n",
    "array_string = s2_1[0].strip()\n",
    "data = json.loads(array_string)\n",
    "dataframes2_1 = pd.DataFrame(data).T\n",
    "dataframes2_1.columns = ['s21_MRI', 's21_iperf']\n",
    "\n",
    "array_string = s2_2[0].strip()\n",
    "data = json.loads(array_string)\n",
    "dataframes2_2 = pd.DataFrame(data).T\n",
    "dataframes2_2.columns = ['s22_MRI', 's22_iperf']\n",
    "\n",
    "dataframe_s2 = pd.concat([dataframes2_1, dataframes2_2], axis=1)"
   ]
  },
  {
   "cell_type": "markdown",
   "id": "2d010d49",
   "metadata": {},
   "source": [
    "The code snippet saves data from three different DataFrames to CSV files, organizing the results of an experiment based on the experimentNumber variable."
   ]
  },
  {
   "cell_type": "code",
   "execution_count": 344,
   "id": "9bd58a07",
   "metadata": {},
   "outputs": [],
   "source": [
    "dataframe_hosts.to_csv(f'./graphs/data/exp{experimentNumber}_nH.csv', index=False)\n",
    "dataframe_s1.to_csv(f'./graphs/data/exp{experimentNumber}_nS1.csv', index=False)\n",
    "dataframe_s2.to_csv(f'./graphs/data/exp{experimentNumber}_nS2.csv', index=False)"
   ]
  },
  {
   "cell_type": "markdown",
   "id": "381a44af",
   "metadata": {},
   "source": [
    "#### Experiment 27"
   ]
  },
  {
   "cell_type": "markdown",
   "id": "dba8b296",
   "metadata": {},
   "source": [
    "To execute this experiment, we need to set the \"set_queue_depth\" value for S1 to 100 and the \"set_queue_rate\" to 200. The \"set_queue_depth\" value for S2 to 100 and the \"set_queue_rate\" to 200. Three threads of traffic will be sent using iperf for a duration of 10 seconds. Below, you can see an image depicting the traffic that will be sent. "
   ]
  },
  {
   "attachments": {
    "2e9b1fa7-2e31-4c12-b0d3-ee0848bc843f.jpg": {
     "image/jpeg": "[encoded data removed]"
    }
   },
   "cell_type": "markdown",
   "id": "5351b454",
   "metadata": {},
   "source": [
    "![exp7X.jpg](attachment:2e9b1fa7-2e31-4c12-b0d3-ee0848bc843f.jpg)"
   ]
  },
  {
   "cell_type": "markdown",
   "id": "e22a53d3",
   "metadata": {},
   "source": [
    "In the code snippet, three variables are set up for a configuration or script that appears to be preparing for a network performance testing scenario:\n",
    "\n",
    "- experimentNumber: This variable likely indicates a identifier for the experiment.\n",
    "\n",
    "- tiperf: This variable specifies the duration in seconds for the iperf3 command. \n",
    "\n",
    "- nthreads: This variable defines the number of parallel client threads to be used in the test. \n",
    "\n",
    "These variables are essential for controlling the parameters of a network testing session, allowing for precise adjustments to the testing environment based on the needs of the experiment or the specifics of the network being tested."
   ]
  },
  {
   "cell_type": "code",
   "execution_count": 345,
   "id": "5d5acf0d",
   "metadata": {},
   "outputs": [],
   "source": [
    "experimentNumber = 27\n",
    "tiperf = 10\n",
    "nthreads = 3"
   ]
  },
  {
   "cell_type": "markdown",
   "id": "2b6579f4",
   "metadata": {},
   "source": [
    "The first line executes a command to terminate all iperf3 processes silently in h2, while the second line does the same for all Python 3 instances, capturing any output or errors into stdout and stderr respectively. "
   ]
  },
  {
   "cell_type": "code",
   "execution_count": 346,
   "id": "fd9a8ac8",
   "metadata": {},
   "outputs": [],
   "source": [
    "#h2.execute(\"sudo killall iperf3\", quiet=True)\n",
    "stdout, stderr = h2.execute(\"sudo killall python3\", quiet=True)"
   ]
  },
  {
   "cell_type": "markdown",
   "id": "a81ad05a",
   "metadata": {},
   "source": [
    "The Python code snippet launches an iperf3 server instance on \"h2\" in a separate thread. This is accomplished using a method called execute_thread, which likely allows the iperf3 -s command (indicating server mode) to run asynchronously, ensuring that the main program can continue executing other tasks without waiting for the iperf3 server process to finish."
   ]
  },
  {
   "cell_type": "code",
   "execution_count": 347,
   "id": "a9173da0",
   "metadata": {},
   "outputs": [],
   "source": [
    "#iperf2 = h2.execute_thread(f\"iperf3 -s\")"
   ]
  },
  {
   "cell_type": "markdown",
   "id": "6281f75e",
   "metadata": {},
   "source": [
    "The Python code snippet launches a script named receive.py on \"h2\" using elevated privileges (sudo). The script is run asynchronously in a separate thread by the method execute_thread, allowing the main program to continue its execution without waiting for receive.py to complete."
   ]
  },
  {
   "cell_type": "code",
   "execution_count": 348,
   "id": "5f99fa9d",
   "metadata": {},
   "outputs": [],
   "source": [
    "mriPacket_receive = h2.execute_thread(f\"sudo python3 receive.py\")"
   ]
  },
  {
   "cell_type": "markdown",
   "id": "e2edb7b0",
   "metadata": {},
   "source": [
    "The following cell orchestrates parallel network traffic captures across multiple devices—two hosts and two switches—using `tcpdump`, a command-line packet analyzer. Commands are executed asynchronously in separate threads to prevent blocking, enabling simultaneous captures on specified network interfaces for each device. For hosts `h1` and `h2`, and switches `s1` and `s2`, traffic is recorded on their respective interfaces, with each session outputting to a dedicated pcap file."
   ]
  },
  {
   "cell_type": "code",
   "execution_count": 349,
   "id": "e4bf2a1a",
   "metadata": {},
   "outputs": [
    {
     "name": "stdout",
     "output_type": "stream",
     "text": [
      "hosts\n",
      "s1\n",
      "s2\n"
     ]
    }
   ],
   "source": [
    "h1.execute_thread(f\"sudo tcpdump -i {h1_iface0_name} -w h1_0.pcap\")\n",
    "h2.execute_thread(f\"sudo tcpdump -i {h2_iface0_name} -w h2_0.pcap\")\n",
    "print(\"hosts\")\n",
    "s1.execute_thread(f\"sudo tcpdump -i {s1_iface1_name} -w s1_1.pcap\")\n",
    "s1.execute_thread(f\"sudo tcpdump -i {s1_iface2_name} -w s1_2.pcap\")\n",
    "print(\"s1\")\n",
    "s2.execute_thread(f\"sudo tcpdump -i {s2_iface1_name} -w s2_1.pcap\")\n",
    "s2.execute_thread(f\"sudo tcpdump -i {s2_iface2_name} -w s2_2.pcap\")\n",
    "print(\"s2\")"
   ]
  },
  {
   "cell_type": "markdown",
   "id": "709b36bc",
   "metadata": {},
   "source": [
    "The code snippet initiates an asynchronous task on the host \"h1\" to execute a Python script named \"sendPacket.py\" using elevated privileges (`sudo`). This script send packets by passing three arguments: `1`, `2`, and `30`. The first one is represents the host that is sending the packet. The second argument, in this case \"2\", is the host destination. And the last argument represents the number of packes that are going to send."
   ]
  },
  {
   "cell_type": "code",
   "execution_count": 350,
   "id": "478d3b5a",
   "metadata": {},
   "outputs": [],
   "source": [
    "mriPacket_send = h1.execute_thread(f\"sudo python3 sendPacket.py 1 2 30\")"
   ]
  },
  {
   "cell_type": "markdown",
   "id": "93bfb1fe",
   "metadata": {},
   "source": [
    "The sleep(10) function call in your code causes the program to pause or delay its execution for 10 seconds. "
   ]
  },
  {
   "cell_type": "code",
   "execution_count": 351,
   "id": "18c06eed",
   "metadata": {},
   "outputs": [],
   "source": [
    "sleep(10)"
   ]
  },
  {
   "cell_type": "markdown",
   "id": "b5306675",
   "metadata": {},
   "source": [
    "The Python code snippet runs a script named \"BgT_iperf.py\" on the host \"h1\", passing three arguments: h2_ip, tiperf, and nthreads. \"h2_ip\" represents the ip of the destination host. \"tiperf\" id the duration of the test in seconds, specified by the tiperf variable. Finally \"nthreads\" is the number of parallel client threads to use during the iperf test, specified by the nthreads variable."
   ]
  },
  {
   "cell_type": "code",
   "execution_count": 352,
   "id": "fb43aef9",
   "metadata": {},
   "outputs": [],
   "source": [
    "iperf_h1 = h1.execute(f\"python3 BgT_iperf.py {h2_ip} {tiperf} {nthreads}\",quiet=True)"
   ]
  },
  {
   "cell_type": "markdown",
   "id": "2899728d",
   "metadata": {},
   "source": [
    "The sleep(15) function call in your code causes the program to pause or delay its execution for 15 seconds. "
   ]
  },
  {
   "cell_type": "code",
   "execution_count": 353,
   "id": "9fbfa60f",
   "metadata": {},
   "outputs": [],
   "source": [
    "sleep(15)"
   ]
  },
  {
   "cell_type": "markdown",
   "id": "33911715",
   "metadata": {},
   "source": [
    "The code snippet processes the JSON output from an iperf network test, formats it for readability, and saves it to a file. It begins by parsing the JSON output stored in iperf_h1[0] into a Python dictionary. Then, it converts this dictionary back into a JSON-formatted string with indentation for clarity. Finally, it writes this formatted JSON data to a file named according to the experiment number, ensuring the results are neatly saved and organized."
   ]
  },
  {
   "cell_type": "code",
   "execution_count": 354,
   "id": "bc83c998",
   "metadata": {},
   "outputs": [],
   "source": [
    "data_dict = json.loads(iperf_h1[0])\n",
    "json_data = json.dumps(data_dict, indent=4)\n",
    "with open(f'./graphs/data/exp{experimentNumber}.json', 'w') as file:\n",
    "    file.write(json_data)"
   ]
  },
  {
   "cell_type": "markdown",
   "id": "91cff788",
   "metadata": {},
   "source": [
    "The code snippet processes the output of the receive.py program, formats it for readability, and saves it to a file. "
   ]
  },
  {
   "cell_type": "code",
   "execution_count": 355,
   "id": "b1066088",
   "metadata": {},
   "outputs": [],
   "source": [
    "stdout, stderr = h2.execute(\"sudo killall python3\", quiet=True)\n",
    "hex_list = mriPacket_receive.result()[0].split('\\n')[1:-1]\n",
    "df = pd.DataFrame(hex_list, columns=['Values'])\n",
    "df.to_csv(f'./graphs/data/exp{experimentNumber}.csv', index=False)"
   ]
  },
  {
   "cell_type": "markdown",
   "id": "73ec2a9e",
   "metadata": {},
   "source": [
    "The following lines executes a command to terminate all tcpdump processes silently in all the nodes of the experiment. "
   ]
  },
  {
   "cell_type": "code",
   "execution_count": 356,
   "id": "b92e5f6a",
   "metadata": {},
   "outputs": [],
   "source": [
    "stdout, stderr = h1.execute(\"sudo killall tcpdump\", quiet=True)\n",
    "stdout, stderr = h2.execute(\"sudo killall tcpdump\", quiet=True)\n",
    "stdout, stderr = s1.execute(\"sudo killall tcpdump\", quiet=True)\n",
    "stdout, stderr = s2.execute(\"sudo killall tcpdump\", quiet=True)"
   ]
  },
  {
   "cell_type": "markdown",
   "id": "87ed4f75",
   "metadata": {},
   "source": [
    "The following code process the pcap output of each of the tcpdump commands and extract the values of the number of packets of each type and the size of bytes."
   ]
  },
  {
   "cell_type": "code",
   "execution_count": 357,
   "id": "b2f1b761",
   "metadata": {},
   "outputs": [
    {
     "name": "stdout",
     "output_type": "stream",
     "text": [
      "[[30, 65, 65.0, 65], [2724, 46, 1486.8303964757708, 1490]]\n",
      "[[24, 81, 81.0, 81], [698, 46, 1477.6303724928366, 1490]]\n",
      "hosts\n",
      "[[30, 65, 65.0, 65], [2724, 56, 1486.84140969163, 1490]]\n",
      "[[25, 73, 73.0, 73], [1197, 56, 1482.812030075188, 1490]]\n",
      "s1\n",
      "[[26, 73, 73.0, 73], [1197, 56, 1482.812030075188, 1490]]\n",
      "[[25, 81, 81.0, 81], [698, 56, 1477.67335243553, 1490]]\n",
      "s2\n"
     ]
    }
   ],
   "source": [
    "h1_0 = h1.execute(\"sudo python3 nPackets.py h1_0.pcap\")\n",
    "h2_0 = h2.execute(\"sudo python3 nPackets.py h2_0.pcap\")\n",
    "print(\"hosts\")\n",
    "s1_1 = s1.execute(\"sudo python3 nPackets.py s1_1.pcap\")\n",
    "s1_2 = s1.execute(\"sudo python3 nPackets.py s1_2.pcap\")\n",
    "print(\"s1\")\n",
    "s2_1 = s2.execute(\"sudo python3 nPackets.py s2_1.pcap\")\n",
    "s2_2 = s2.execute(\"sudo python3 nPackets.py s2_2.pcap\")\n",
    "print(\"s2\")"
   ]
  },
  {
   "cell_type": "markdown",
   "id": "c7b6e001",
   "metadata": {},
   "source": [
    "In the following code we are going to take the outputs of the cell above and store them in a pandas dataframe. "
   ]
  },
  {
   "cell_type": "code",
   "execution_count": 358,
   "id": "b4796cb6",
   "metadata": {},
   "outputs": [],
   "source": [
    "array_string = h1_0[0].strip()\n",
    "data = json.loads(array_string)\n",
    "dataframeh1_0 = pd.DataFrame(data).T\n",
    "dataframeh1_0.columns = ['h1_MRI', 'h1_iperf']\n",
    "\n",
    "array_string = h2_0[0].strip()\n",
    "data = json.loads(array_string)\n",
    "dataframeh2_0 = pd.DataFrame(data).T\n",
    "dataframeh2_0.columns = ['h2_MRI', 'h2_iperf']\n",
    "\n",
    "dataframe_hosts = pd.concat([dataframeh1_0, dataframeh2_0], axis=1)\n",
    "\n",
    "array_string = s1_1[0].strip()\n",
    "data = json.loads(array_string)\n",
    "dataframes1_1 = pd.DataFrame(data).T\n",
    "dataframes1_1.columns = ['s11_MRI', 's11_iperf']\n",
    "\n",
    "array_string = s1_2[0].strip()\n",
    "data = json.loads(array_string)\n",
    "dataframes1_2 = pd.DataFrame(data).T\n",
    "dataframes1_2.columns = ['s12_MRI', 's12_iperf']\n",
    "\n",
    "dataframe_s1 = pd.concat([dataframes1_1, dataframes1_2], axis=1)\n",
    "\n",
    "array_string = s2_1[0].strip()\n",
    "data = json.loads(array_string)\n",
    "dataframes2_1 = pd.DataFrame(data).T\n",
    "dataframes2_1.columns = ['s21_MRI', 's21_iperf']\n",
    "\n",
    "array_string = s2_2[0].strip()\n",
    "data = json.loads(array_string)\n",
    "dataframes2_2 = pd.DataFrame(data).T\n",
    "dataframes2_2.columns = ['s22_MRI', 's22_iperf']\n",
    "\n",
    "dataframe_s2 = pd.concat([dataframes2_1, dataframes2_2], axis=1)"
   ]
  },
  {
   "cell_type": "markdown",
   "id": "3af46de4",
   "metadata": {},
   "source": [
    "The code snippet saves data from three different DataFrames to CSV files, organizing the results of an experiment based on the experimentNumber variable."
   ]
  },
  {
   "cell_type": "code",
   "execution_count": 359,
   "id": "14ebccd4",
   "metadata": {},
   "outputs": [],
   "source": [
    "dataframe_hosts.to_csv(f'./graphs/data/exp{experimentNumber}_nH.csv', index=False)\n",
    "dataframe_s1.to_csv(f'./graphs/data/exp{experimentNumber}_nS1.csv', index=False)\n",
    "dataframe_s2.to_csv(f'./graphs/data/exp{experimentNumber}_nS2.csv', index=False)"
   ]
  },
  {
   "cell_type": "markdown",
   "id": "8b993d14",
   "metadata": {
    "jp-MarkdownHeadingCollapsed": true
   },
   "source": [
    "#### Experiment 28"
   ]
  },
  {
   "cell_type": "markdown",
   "id": "18c675ea",
   "metadata": {},
   "source": [
    "To execute this experiment, we need to set the \"set_queue_depth\" value for S1 to 100 and the \"set_queue_rate\" to 200. The \"set_queue_depth\" value for S2 to 100 and the \"set_queue_rate\" to 200. Four threads of traffic will be sent using iperf for a duration of 10 seconds. Below, you can see an image depicting the traffic that will be sent. "
   ]
  },
  {
   "attachments": {
    "21bbb35f-1da7-4b85-9f2a-d9e9c06b8c90.jpg": {
     "image/jpeg": "[encoded data removed]"
    }
   },
   "cell_type": "markdown",
   "id": "a77f1d5e",
   "metadata": {},
   "source": [
    "![exp8X.jpg](attachment:21bbb35f-1da7-4b85-9f2a-d9e9c06b8c90.jpg)"
   ]
  },
  {
   "cell_type": "markdown",
   "id": "b8712c30",
   "metadata": {},
   "source": [
    "In the code snippet, three variables are set up for a configuration or script that appears to be preparing for a network performance testing scenario:\n",
    "\n",
    "- experimentNumber: This variable likely indicates a identifier for the experiment.\n",
    "\n",
    "- tiperf: This variable specifies the duration in seconds for the iperf3 command. \n",
    "\n",
    "- nthreads: This variable defines the number of parallel client threads to be used in the test. \n",
    "\n",
    "These variables are essential for controlling the parameters of a network testing session, allowing for precise adjustments to the testing environment based on the needs of the experiment or the specifics of the network being tested."
   ]
  },
  {
   "cell_type": "code",
   "execution_count": 360,
   "id": "bd2726d7",
   "metadata": {},
   "outputs": [],
   "source": [
    "experimentNumber = 28\n",
    "tiperf = 10\n",
    "nthreads = 4"
   ]
  },
  {
   "cell_type": "markdown",
   "id": "f2ea4cfe",
   "metadata": {},
   "source": [
    "The first line executes a command to terminate all iperf3 processes silently in h2, while the second line does the same for all Python 3 instances, capturing any output or errors into stdout and stderr respectively. "
   ]
  },
  {
   "cell_type": "code",
   "execution_count": 361,
   "id": "9165ed37",
   "metadata": {},
   "outputs": [],
   "source": [
    "#h2.execute(\"sudo killall iperf3\", quiet=True)\n",
    "stdout, stderr = h2.execute(\"sudo killall python3\", quiet=True)"
   ]
  },
  {
   "cell_type": "markdown",
   "id": "8b71fbb8",
   "metadata": {},
   "source": [
    "The Python code snippet launches an iperf3 server instance on \"h2\" in a separate thread. This is accomplished using a method called execute_thread, which likely allows the iperf3 -s command (indicating server mode) to run asynchronously, ensuring that the main program can continue executing other tasks without waiting for the iperf3 server process to finish."
   ]
  },
  {
   "cell_type": "code",
   "execution_count": 362,
   "id": "ff00f82c",
   "metadata": {},
   "outputs": [],
   "source": [
    "#iperf2 = h2.execute_thread(f\"iperf3 -s\")"
   ]
  },
  {
   "cell_type": "markdown",
   "id": "fbfeda89",
   "metadata": {},
   "source": [
    "The Python code snippet launches a script named receive.py on \"h2\" using elevated privileges (sudo). The script is run asynchronously in a separate thread by the method execute_thread, allowing the main program to continue its execution without waiting for receive.py to complete."
   ]
  },
  {
   "cell_type": "code",
   "execution_count": 363,
   "id": "f3c36f01",
   "metadata": {},
   "outputs": [],
   "source": [
    "mriPacket_receive = h2.execute_thread(f\"sudo python3 receive.py\")"
   ]
  },
  {
   "cell_type": "markdown",
   "id": "9b5dd63c",
   "metadata": {},
   "source": [
    "The following cell orchestrates parallel network traffic captures across multiple devices—two hosts and two switches—using `tcpdump`, a command-line packet analyzer. Commands are executed asynchronously in separate threads to prevent blocking, enabling simultaneous captures on specified network interfaces for each device. For hosts `h1` and `h2`, and switches `s1` and `s2`, traffic is recorded on their respective interfaces, with each session outputting to a dedicated pcap file."
   ]
  },
  {
   "cell_type": "code",
   "execution_count": 364,
   "id": "74fdc98c",
   "metadata": {},
   "outputs": [
    {
     "name": "stdout",
     "output_type": "stream",
     "text": [
      "hosts\n",
      "s1\n",
      "s2\n"
     ]
    }
   ],
   "source": [
    "h1.execute_thread(f\"sudo tcpdump -i {h1_iface0_name} -w h1_0.pcap\")\n",
    "h2.execute_thread(f\"sudo tcpdump -i {h2_iface0_name} -w h2_0.pcap\")\n",
    "print(\"hosts\")\n",
    "s1.execute_thread(f\"sudo tcpdump -i {s1_iface1_name} -w s1_1.pcap\")\n",
    "s1.execute_thread(f\"sudo tcpdump -i {s1_iface2_name} -w s1_2.pcap\")\n",
    "print(\"s1\")\n",
    "s2.execute_thread(f\"sudo tcpdump -i {s2_iface1_name} -w s2_1.pcap\")\n",
    "s2.execute_thread(f\"sudo tcpdump -i {s2_iface2_name} -w s2_2.pcap\")\n",
    "print(\"s2\")"
   ]
  },
  {
   "cell_type": "markdown",
   "id": "638533f5",
   "metadata": {},
   "source": [
    "The code snippet initiates an asynchronous task on the host \"h1\" to execute a Python script named \"sendPacket.py\" using elevated privileges (`sudo`). This script send packets by passing three arguments: `1`, `2`, and `30`. The first one is represents the host that is sending the packet. The second argument, in this case \"2\", is the host destination. And the last argument represents the number of packes that are going to send."
   ]
  },
  {
   "cell_type": "code",
   "execution_count": 365,
   "id": "d2e1c9de",
   "metadata": {},
   "outputs": [],
   "source": [
    "mriPacket_send = h1.execute_thread(f\"sudo python3 sendPacket.py 1 2 30\")"
   ]
  },
  {
   "cell_type": "markdown",
   "id": "78f0c984",
   "metadata": {},
   "source": [
    "The sleep(10) function call in your code causes the program to pause or delay its execution for 10 seconds. "
   ]
  },
  {
   "cell_type": "code",
   "execution_count": 366,
   "id": "8309e03e",
   "metadata": {},
   "outputs": [],
   "source": [
    "sleep(10)"
   ]
  },
  {
   "cell_type": "markdown",
   "id": "7b6ce8a2",
   "metadata": {},
   "source": [
    "The Python code snippet runs a script named \"BgT_iperf.py\" on the host \"h1\", passing three arguments: h2_ip, tiperf, and nthreads. \"h2_ip\" represents the ip of the destination host. \"tiperf\" id the duration of the test in seconds, specified by the tiperf variable. Finally \"nthreads\" is the number of parallel client threads to use during the iperf test, specified by the nthreads variable."
   ]
  },
  {
   "cell_type": "code",
   "execution_count": 367,
   "id": "8eb85515",
   "metadata": {},
   "outputs": [],
   "source": [
    "iperf_h1 = h1.execute(f\"python3 BgT_iperf.py {h2_ip} {tiperf} {nthreads}\",quiet=True)"
   ]
  },
  {
   "cell_type": "markdown",
   "id": "808c5b7e",
   "metadata": {},
   "source": [
    "The sleep(15) function call in your code causes the program to pause or delay its execution for 15 seconds. "
   ]
  },
  {
   "cell_type": "code",
   "execution_count": 368,
   "id": "d59a253f",
   "metadata": {},
   "outputs": [],
   "source": [
    "sleep(15)"
   ]
  },
  {
   "cell_type": "markdown",
   "id": "57d3d836",
   "metadata": {},
   "source": [
    "The code snippet processes the JSON output from an iperf network test, formats it for readability, and saves it to a file. It begins by parsing the JSON output stored in iperf_h1[0] into a Python dictionary. Then, it converts this dictionary back into a JSON-formatted string with indentation for clarity. Finally, it writes this formatted JSON data to a file named according to the experiment number, ensuring the results are neatly saved and organized."
   ]
  },
  {
   "cell_type": "code",
   "execution_count": 369,
   "id": "d28e3b4d",
   "metadata": {},
   "outputs": [],
   "source": [
    "data_dict = json.loads(iperf_h1[0])\n",
    "json_data = json.dumps(data_dict, indent=4)\n",
    "with open(f'./graphs/data/exp{experimentNumber}.json', 'w') as file:\n",
    "    file.write(json_data)"
   ]
  },
  {
   "cell_type": "markdown",
   "id": "715d6f6d",
   "metadata": {},
   "source": [
    "The code snippet processes the output of the receive.py program, formats it for readability, and saves it to a file. "
   ]
  },
  {
   "cell_type": "code",
   "execution_count": 370,
   "id": "b8dd50b4",
   "metadata": {},
   "outputs": [],
   "source": [
    "stdout, stderr = h2.execute(\"sudo killall python3\", quiet=True)\n",
    "hex_list = mriPacket_receive.result()[0].split('\\n')[1:-1]\n",
    "df = pd.DataFrame(hex_list, columns=['Values'])\n",
    "df.to_csv(f'./graphs/data/exp{experimentNumber}.csv', index=False)"
   ]
  },
  {
   "cell_type": "markdown",
   "id": "a790c19d",
   "metadata": {},
   "source": [
    "The following lines executes a command to terminate all tcpdump processes silently in all the nodes of the experiment. "
   ]
  },
  {
   "cell_type": "code",
   "execution_count": 371,
   "id": "f6394b6e",
   "metadata": {},
   "outputs": [],
   "source": [
    "stdout, stderr = h1.execute(\"sudo killall tcpdump\", quiet=True)\n",
    "stdout, stderr = h2.execute(\"sudo killall tcpdump\", quiet=True)\n",
    "stdout, stderr = s1.execute(\"sudo killall tcpdump\", quiet=True)\n",
    "stdout, stderr = s2.execute(\"sudo killall tcpdump\", quiet=True)"
   ]
  },
  {
   "cell_type": "markdown",
   "id": "9704d1c3",
   "metadata": {},
   "source": [
    "The following code process the pcap output of each of the tcpdump commands and extract the values of the number of packets of each type and the size of bytes."
   ]
  },
  {
   "cell_type": "code",
   "execution_count": 372,
   "id": "90eecf8c",
   "metadata": {},
   "outputs": [
    {
     "name": "stdout",
     "output_type": "stream",
     "text": [
      "[[30, 65, 65.0, 65], [3632, 46, 1486.8303964757708, 1490]]\n",
      "[[24, 81, 81.0, 81], [702, 46, 1473.6011396011395, 1490]]\n",
      "hosts\n",
      "[[30, 65, 65.0, 65], [3632, 56, 1486.84140969163, 1490]]\n",
      "[[25, 73, 73.0, 73], [1200, 56, 1480.44, 1490]]\n",
      "s1\n",
      "[[25, 73, 73.0, 73], [1200, 56, 1480.44, 1490]]\n",
      "[[23, 81, 81.0, 81], [702, 56, 1473.6581196581196, 1490]]\n",
      "s2\n"
     ]
    }
   ],
   "source": [
    "h1_0 = h1.execute(\"sudo python3 nPackets.py h1_0.pcap\")\n",
    "h2_0 = h2.execute(\"sudo python3 nPackets.py h2_0.pcap\")\n",
    "print(\"hosts\")\n",
    "s1_1 = s1.execute(\"sudo python3 nPackets.py s1_1.pcap\")\n",
    "s1_2 = s1.execute(\"sudo python3 nPackets.py s1_2.pcap\")\n",
    "print(\"s1\")\n",
    "s2_1 = s2.execute(\"sudo python3 nPackets.py s2_1.pcap\")\n",
    "s2_2 = s2.execute(\"sudo python3 nPackets.py s2_2.pcap\")\n",
    "print(\"s2\")"
   ]
  },
  {
   "cell_type": "markdown",
   "id": "33cd6184",
   "metadata": {},
   "source": [
    "In the following code we are going to take the outputs of the cell above and store them in a pandas dataframe. "
   ]
  },
  {
   "cell_type": "code",
   "execution_count": 373,
   "id": "6c2233c9",
   "metadata": {},
   "outputs": [],
   "source": [
    "array_string = h1_0[0].strip()\n",
    "data = json.loads(array_string)\n",
    "dataframeh1_0 = pd.DataFrame(data).T\n",
    "dataframeh1_0.columns = ['h1_MRI', 'h1_iperf']\n",
    "\n",
    "array_string = h2_0[0].strip()\n",
    "data = json.loads(array_string)\n",
    "dataframeh2_0 = pd.DataFrame(data).T\n",
    "dataframeh2_0.columns = ['h2_MRI', 'h2_iperf']\n",
    "\n",
    "dataframe_hosts = pd.concat([dataframeh1_0, dataframeh2_0], axis=1)\n",
    "\n",
    "array_string = s1_1[0].strip()\n",
    "data = json.loads(array_string)\n",
    "dataframes1_1 = pd.DataFrame(data).T\n",
    "dataframes1_1.columns = ['s11_MRI', 's11_iperf']\n",
    "\n",
    "array_string = s1_2[0].strip()\n",
    "data = json.loads(array_string)\n",
    "dataframes1_2 = pd.DataFrame(data).T\n",
    "dataframes1_2.columns = ['s12_MRI', 's12_iperf']\n",
    "\n",
    "dataframe_s1 = pd.concat([dataframes1_1, dataframes1_2], axis=1)\n",
    "\n",
    "array_string = s2_1[0].strip()\n",
    "data = json.loads(array_string)\n",
    "dataframes2_1 = pd.DataFrame(data).T\n",
    "dataframes2_1.columns = ['s21_MRI', 's21_iperf']\n",
    "\n",
    "array_string = s2_2[0].strip()\n",
    "data = json.loads(array_string)\n",
    "dataframes2_2 = pd.DataFrame(data).T\n",
    "dataframes2_2.columns = ['s22_MRI', 's22_iperf']\n",
    "\n",
    "dataframe_s2 = pd.concat([dataframes2_1, dataframes2_2], axis=1)"
   ]
  },
  {
   "cell_type": "markdown",
   "id": "8580c71e",
   "metadata": {},
   "source": [
    "The code snippet saves data from three different DataFrames to CSV files, organizing the results of an experiment based on the experimentNumber variable."
   ]
  },
  {
   "cell_type": "code",
   "execution_count": 374,
   "id": "9c09e47c",
   "metadata": {},
   "outputs": [],
   "source": [
    "dataframe_hosts.to_csv(f'./graphs/data/exp{experimentNumber}_nH.csv', index=False)\n",
    "dataframe_s1.to_csv(f'./graphs/data/exp{experimentNumber}_nS1.csv', index=False)\n",
    "dataframe_s2.to_csv(f'./graphs/data/exp{experimentNumber}_nS2.csv', index=False)"
   ]
  }
 ],
 "metadata": {
  "kernelspec": {
   "display_name": "Python 3 (ipykernel)",
   "language": "python",
   "name": "python3"
  },
  "language_info": {
   "codemirror_mode": {
    "name": "ipython",
    "version": 3
   },
   "file_extension": ".py",
   "mimetype": "text/x-python",
   "name": "python",
   "nbconvert_exporter": "python",
   "pygments_lexer": "ipython3",
   "version": "3.11.8"
  }
 },
 "nbformat": 4,
 "nbformat_minor": 5
}
